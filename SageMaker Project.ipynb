{
 "cells": [
  {
   "cell_type": "markdown",
   "metadata": {},
   "source": [
    "# Creating a Sentiment Analysis Web App\n",
    "## Using PyTorch and SageMaker\n",
    "\n",
    "_Deep Learning Nanodegree Program | Deployment_\n",
    "\n",
    "---\n",
    "\n",
    "Now that we have a basic understanding of how SageMaker works we will try to use it to construct a complete project from end to end. Our goal will be to have a simple web page which a user can use to enter a movie review. The web page will then send the review off to our deployed model which will predict the sentiment of the entered review.\n",
    "\n",
    "## Instructions\n",
    "\n",
    "Some template code has already been provided for you, and you will need to implement additional functionality to successfully complete this notebook. You will not need to modify the included code beyond what is requested. Sections that begin with '**TODO**' in the header indicate that you need to complete or implement some portion within them. Instructions will be provided for each section and the specifics of the implementation are marked in the code block with a `# TODO: ...` comment. Please be sure to read the instructions carefully!\n",
    "\n",
    "In addition to implementing code, there will be questions for you to answer which relate to the task and your implementation. Each section where you will answer a question is preceded by a '**Question:**' header. Carefully read each question and provide your answer below the '**Answer:**' header by editing the Markdown cell.\n",
    "\n",
    "> **Note**: Code and Markdown cells can be executed using the **Shift+Enter** keyboard shortcut. In addition, a cell can be edited by typically clicking it (double-click for Markdown cells) or by pressing **Enter** while it is highlighted.\n",
    "\n",
    "## General Outline\n",
    "\n",
    "Recall the general outline for SageMaker projects using a notebook instance.\n",
    "\n",
    "1. Download or otherwise retrieve the data.\n",
    "2. Process / Prepare the data.\n",
    "3. Upload the processed data to S3.\n",
    "4. Train a chosen model.\n",
    "5. Test the trained model (typically using a batch transform job).\n",
    "6. Deploy the trained model.\n",
    "7. Use the deployed model.\n",
    "\n",
    "For this project, you will be following the steps in the general outline with some modifications. \n",
    "\n",
    "First, you will not be testing the model in its own step. You will still be testing the model, however, you will do it by deploying your model and then using the deployed model by sending the test data to it. One of the reasons for doing this is so that you can make sure that your deployed model is working correctly before moving forward.\n",
    "\n",
    "In addition, you will deploy and use your trained model a second time. In the second iteration you will customize the way that your trained model is deployed by including some of your own code. In addition, your newly deployed model will be used in the sentiment analysis web app."
   ]
  },
  {
   "cell_type": "markdown",
   "metadata": {},
   "source": [
    "## Step 1: Downloading the data\n",
    "\n",
    "As in the XGBoost in SageMaker notebook, we will be using the [IMDb dataset](http://ai.stanford.edu/~amaas/data/sentiment/)\n",
    "\n",
    "> Maas, Andrew L., et al. [Learning Word Vectors for Sentiment Analysis](http://ai.stanford.edu/~amaas/data/sentiment/). In _Proceedings of the 49th Annual Meeting of the Association for Computational Linguistics: Human Language Technologies_. Association for Computational Linguistics, 2011."
   ]
  },
  {
   "cell_type": "code",
   "execution_count": 45,
   "metadata": {},
   "outputs": [
    {
     "name": "stdout",
     "output_type": "stream",
     "text": [
      "mkdir: cannot create directory ‘../data’: File exists\n",
      "--2019-06-18 08:25:06--  http://ai.stanford.edu/~amaas/data/sentiment/aclImdb_v1.tar.gz\n",
      "Resolving ai.stanford.edu (ai.stanford.edu)... 171.64.68.10\n",
      "Connecting to ai.stanford.edu (ai.stanford.edu)|171.64.68.10|:80... connected.\n",
      "HTTP request sent, awaiting response... 200 OK\n",
      "Length: 84125825 (80M) [application/x-gzip]\n",
      "Saving to: ‘../data/aclImdb_v1.tar.gz’\n",
      "\n",
      "../data/aclImdb_v1. 100%[===================>]  80.23M  10.1MB/s    in 9.7s    \n",
      "\n",
      "2019-06-18 08:25:16 (8.27 MB/s) - ‘../data/aclImdb_v1.tar.gz’ saved [84125825/84125825]\n",
      "\n"
     ]
    }
   ],
   "source": [
    "%mkdir ../data\n",
    "!wget -O ../data/aclImdb_v1.tar.gz http://ai.stanford.edu/~amaas/data/sentiment/aclImdb_v1.tar.gz\n",
    "!tar -zxf ../data/aclImdb_v1.tar.gz -C ../data"
   ]
  },
  {
   "cell_type": "markdown",
   "metadata": {},
   "source": [
    "## Step 2: Preparing and Processing the data\n",
    "\n",
    "Also, as in the XGBoost notebook, we will be doing some initial data processing. The first few steps are the same as in the XGBoost example. To begin with, we will read in each of the reviews and combine them into a single input structure. Then, we will split the dataset into a training set and a testing set."
   ]
  },
  {
   "cell_type": "code",
   "execution_count": 46,
   "metadata": {},
   "outputs": [],
   "source": [
    "import os\n",
    "import glob\n",
    "\n",
    "def read_imdb_data(data_dir='../data/aclImdb'):\n",
    "    data = {}\n",
    "    labels = {}\n",
    "    \n",
    "    for data_type in ['train', 'test']:\n",
    "        data[data_type] = {}\n",
    "        labels[data_type] = {}\n",
    "        \n",
    "        for sentiment in ['pos', 'neg']:\n",
    "            data[data_type][sentiment] = []\n",
    "            labels[data_type][sentiment] = []\n",
    "            \n",
    "            path = os.path.join(data_dir, data_type, sentiment, '*.txt')\n",
    "            files = glob.glob(path)\n",
    "            \n",
    "            for f in files:\n",
    "                with open(f) as review:\n",
    "                    data[data_type][sentiment].append(review.read())\n",
    "                    # Here we represent a positive review by '1' and a negative review by '0'\n",
    "                    labels[data_type][sentiment].append(1 if sentiment == 'pos' else 0)\n",
    "                    \n",
    "            assert len(data[data_type][sentiment]) == len(labels[data_type][sentiment]), \\\n",
    "                    \"{}/{} data size does not match labels size\".format(data_type, sentiment)\n",
    "                \n",
    "    return data, labels"
   ]
  },
  {
   "cell_type": "code",
   "execution_count": 47,
   "metadata": {},
   "outputs": [
    {
     "name": "stdout",
     "output_type": "stream",
     "text": [
      "IMDB reviews: train = 12500 pos / 12500 neg, test = 12500 pos / 12500 neg\n"
     ]
    }
   ],
   "source": [
    "data, labels = read_imdb_data()\n",
    "print(\"IMDB reviews: train = {} pos / {} neg, test = {} pos / {} neg\".format(\n",
    "            len(data['train']['pos']), len(data['train']['neg']),\n",
    "            len(data['test']['pos']), len(data['test']['neg'])))"
   ]
  },
  {
   "cell_type": "markdown",
   "metadata": {},
   "source": [
    "Now that we've read the raw training and testing data from the downloaded dataset, we will combine the positive and negative reviews and shuffle the resulting records."
   ]
  },
  {
   "cell_type": "code",
   "execution_count": 48,
   "metadata": {},
   "outputs": [],
   "source": [
    "from sklearn.utils import shuffle\n",
    "\n",
    "def prepare_imdb_data(data, labels):\n",
    "    \"\"\"Prepare training and test sets from IMDb movie reviews.\"\"\"\n",
    "    \n",
    "    #Combine positive and negative reviews and labels\n",
    "    data_train = data['train']['pos'] + data['train']['neg']\n",
    "    data_test = data['test']['pos'] + data['test']['neg']\n",
    "    labels_train = labels['train']['pos'] + labels['train']['neg']\n",
    "    labels_test = labels['test']['pos'] + labels['test']['neg']\n",
    "    \n",
    "    #Shuffle reviews and corresponding labels within training and test sets\n",
    "    data_train, labels_train = shuffle(data_train, labels_train)\n",
    "    data_test, labels_test = shuffle(data_test, labels_test)\n",
    "    \n",
    "    # Return a unified training data, test data, training labels, test labets\n",
    "    return data_train, data_test, labels_train, labels_test"
   ]
  },
  {
   "cell_type": "code",
   "execution_count": 49,
   "metadata": {},
   "outputs": [
    {
     "name": "stdout",
     "output_type": "stream",
     "text": [
      "IMDb reviews (combined): train = 25000, test = 25000\n"
     ]
    }
   ],
   "source": [
    "train_X, test_X, train_y, test_y = prepare_imdb_data(data, labels)\n",
    "print(\"IMDb reviews (combined): train = {}, test = {}\".format(len(train_X), len(test_X)))"
   ]
  },
  {
   "cell_type": "markdown",
   "metadata": {},
   "source": [
    "Now that we have our training and testing sets unified and prepared, we should do a quick check and see an example of the data our model will be trained on. This is generally a good idea as it allows you to see how each of the further processing steps affects the reviews and it also ensures that the data has been loaded correctly."
   ]
  },
  {
   "cell_type": "code",
   "execution_count": 50,
   "metadata": {},
   "outputs": [
    {
     "name": "stdout",
     "output_type": "stream",
     "text": [
      "Yes, this movie is bad. What's worse is that it takes no advantage whatsoever of its own title!! In the ENTIRE movie, zombies and vampires fight each other ONCE OR TWICE. On top of that, we're never really sure if the main character in the movie is DEFINITELY a vampire. One might argue they were trying to \"tone it down\" or make it \"realistic,\" but it ends up just boring. More than half of this movie takes place IN A CAR. The scenes that take place anywhere else aren't much to brag about, either. Also, there's no clear antagonist, and in the end you have no idea what really happened for the last 30 minutes of the movie. <br /><br />However, I will say that for a film this low in production value, the soundtrack was surprisingly appropriate and instrumented (with either an origonal score or sampled music from elsewhere). <br /><br />I'm all for independent films, but it doesn't look like this was ever intended for a mass audience (if any). <br /><br />\"worse than Scarecrow slayer.\"\n",
      "0\n"
     ]
    }
   ],
   "source": [
    "print(train_X[100])\n",
    "print(train_y[100])"
   ]
  },
  {
   "cell_type": "markdown",
   "metadata": {},
   "source": [
    "The first step in processing the reviews is to make sure that any html tags that appear should be removed. In addition we wish to tokenize our input, that way words such as *entertained* and *entertaining* are considered the same with regard to sentiment analysis."
   ]
  },
  {
   "cell_type": "code",
   "execution_count": 51,
   "metadata": {},
   "outputs": [],
   "source": [
    "import nltk\n",
    "from nltk.corpus import stopwords\n",
    "from nltk.stem.porter import *\n",
    "\n",
    "import re\n",
    "from bs4 import BeautifulSoup\n",
    "\n",
    "def review_to_words(review):\n",
    "    nltk.download(\"stopwords\", quiet=True)\n",
    "    stemmer = PorterStemmer()\n",
    "    \n",
    "    text = BeautifulSoup(review, \"html.parser\").get_text() # Remove HTML tags\n",
    "    text = re.sub(r\"[^a-zA-Z0-9]\", \" \", text.lower()) # Convert to lower case\n",
    "    words = text.split() # Split string into words\n",
    "    words = [w for w in words if w not in stopwords.words(\"english\")] # Remove stopwords\n",
    "    words = [PorterStemmer().stem(w) for w in words] # stem\n",
    "    \n",
    "    return words"
   ]
  },
  {
   "cell_type": "markdown",
   "metadata": {},
   "source": [
    "The `review_to_words` method defined above uses `BeautifulSoup` to remove any html tags that appear and uses the `nltk` package to tokenize the reviews. As a check to ensure we know how everything is working, try applying `review_to_words` to one of the reviews in the training set."
   ]
  },
  {
   "cell_type": "code",
   "execution_count": 52,
   "metadata": {},
   "outputs": [
    {
     "name": "stdout",
     "output_type": "stream",
     "text": [
      "['hilari', 'horribl', '70', 'made', 'tv', 'horror', 'clinker', 'deadli', 'demon', 'possess', 'dessert', 'cake', 'still', 'except', 'aw', 'yet', 'undeni', 'amus', 'thu', 'enjoy', 'cathod', 'ray', 'refus', 'reach', 'breathtak', 'apex', 'absolut', 'unremit', 'silli', 'atroci', 'quit', 'tasti', 'execr', 'downright', 'awesom', 'sort', 'way', 'richard', 'crenna', 'look', 'haggard', 'possibl', 'inebri', 'yvett', 'mimieux', 'act', 'never', 'got', 'brutal', 'rape', 'endur', 'jackson', 'counti', 'jail', 'sluggishli', 'portray', 'disgustingli', 'nice', 'respect', 'suburbanit', 'coupl', 'whose', 'quaint', 'dull', 'sleepi', 'small', 'town', 'exist', 'get', 'rip', 'asund', 'cute', 'german', 'shepard', 'take', 'famili', 'pet', 'turn', 'ancient', 'lethal', 'evil', 'spirit', 'pretti', 'soon', 'mimieux', 'two', 'repel', 'cutesi', 'kid', 'kim', 'richard', 'ike', 'eisenmann', 'psychic', 'alien', 'moppet', 'disney', 'witch', 'mountain', 'pictur', 'worship', 'crude', 'crayon', 'draw', 'nasti', 'ugli', 'canin', 'entiti', 'den', 'boy', 'sound', 'realli', 'scari', 'disturb', 'well', 'scari', 'disturb', 'laughabl', 'ludicr', 'claptrap', 'sure', 'sure', 'funni', 'thank', 'curti', 'night', 'tide', 'harrington', 'hopelessli', 'weak', 'direct', 'cartoonish', 'special', 'effect', 'almost', 'pain', 'risibl', 'n', 'ridicul', 'plot', 'game', 'cast', 'struggl', 'valiantli', 'absurd', 'stori', 'besid', 'lead', 'martin', 'beswick', 'r', 'g', 'armstrong', 'briefli', 'pop', 'member', 'satan', 'cult', 'victor', 'jori', 'nice', 'cameo', 'help', 'nativ', 'american', 'shaman', 'favorit', 'scene', 'malici', 'mephestophelion', 'mutt', 'put', 'whammi', 'crenna', 'practic', 'forc', 'stick', 'hand', 'wildli', 'spin', 'lawnmow', 'blade', 'stuck', 'snobbi', 'fright', 'film', 'fan', 'may', 'hold', 'nose', 'perfectli', 'putrid', 'stench', 'admittedli', 'smelli', 'schlock', 'devout', 'tv', 'trash', 'lover', 'deem', 'endearingli', 'abomin', 'offal', 'boob', 'tube', 'equival', 'alpo']\n"
     ]
    }
   ],
   "source": [
    "# TODO: Apply review_to_words to a review (train_X[100] or any other review)\n",
    "print(review_to_words(train_X[50]))"
   ]
  },
  {
   "cell_type": "markdown",
   "metadata": {},
   "source": [
    "**Question:** Above we mentioned that `review_to_words` method removes html formatting and allows us to tokenize the words found in a review, for example, converting *entertained* and *entertaining* into *entertain* so that they are treated as though they are the same word. What else, if anything, does this method do to the input?"
   ]
  },
  {
   "cell_type": "markdown",
   "metadata": {},
   "source": [
    "**Answer:**\n",
    "In addition to the removal of tenses and the syntactic properties, review_to_words also convert all the words into lower case. Next, it seperate them into words ,adn removes the stop words offered by nltk."
   ]
  },
  {
   "cell_type": "markdown",
   "metadata": {},
   "source": [
    "The method below applies the `review_to_words` method to each of the reviews in the training and testing datasets. In addition it caches the results. This is because performing this processing step can take a long time. This way if you are unable to complete the notebook in the current session, you can come back without needing to process the data a second time."
   ]
  },
  {
   "cell_type": "code",
   "execution_count": 53,
   "metadata": {},
   "outputs": [],
   "source": [
    "import pickle\n",
    "\n",
    "cache_dir = os.path.join(\"../cache\", \"sentiment_analysis\")  # where to store cache files\n",
    "os.makedirs(cache_dir, exist_ok=True)  # ensure cache directory exists\n",
    "\n",
    "def preprocess_data(data_train, data_test, labels_train, labels_test,\n",
    "                    cache_dir=cache_dir, cache_file=\"preprocessed_data.pkl\"):\n",
    "    \"\"\"Convert each review to words; read from cache if available.\"\"\"\n",
    "\n",
    "    # If cache_file is not None, try to read from it first\n",
    "    cache_data = None\n",
    "    if cache_file is not None:\n",
    "        try:\n",
    "            with open(os.path.join(cache_dir, cache_file), \"rb\") as f:\n",
    "                cache_data = pickle.load(f)\n",
    "            print(\"Read preprocessed data from cache file:\", cache_file)\n",
    "        except:\n",
    "            pass  # unable to read from cache, but that's okay\n",
    "    \n",
    "    # If cache is missing, then do the heavy lifting\n",
    "    if cache_data is None:\n",
    "        # Preprocess training and test data to obtain words for each review\n",
    "        #words_train = list(map(review_to_words, data_train))\n",
    "        #words_test = list(map(review_to_words, data_test))\n",
    "        words_train = [review_to_words(review) for review in data_train]\n",
    "        words_test = [review_to_words(review) for review in data_test]\n",
    "        \n",
    "        # Write to cache file for future runs\n",
    "        if cache_file is not None:\n",
    "            cache_data = dict(words_train=words_train, words_test=words_test,\n",
    "                              labels_train=labels_train, labels_test=labels_test)\n",
    "            with open(os.path.join(cache_dir, cache_file), \"wb\") as f:\n",
    "                pickle.dump(cache_data, f)\n",
    "            print(\"Wrote preprocessed data to cache file:\", cache_file)\n",
    "    else:\n",
    "        # Unpack data loaded from cache file\n",
    "        words_train, words_test, labels_train, labels_test = (cache_data['words_train'],\n",
    "                cache_data['words_test'], cache_data['labels_train'], cache_data['labels_test'])\n",
    "    \n",
    "    return words_train, words_test, labels_train, labels_test"
   ]
  },
  {
   "cell_type": "code",
   "execution_count": 54,
   "metadata": {},
   "outputs": [
    {
     "name": "stdout",
     "output_type": "stream",
     "text": [
      "Read preprocessed data from cache file: preprocessed_data.pkl\n"
     ]
    }
   ],
   "source": [
    "# Preprocess data\n",
    "train_X, test_X, train_y, test_y = preprocess_data(train_X, test_X, train_y, test_y)"
   ]
  },
  {
   "cell_type": "markdown",
   "metadata": {},
   "source": [
    "## Transform the data\n",
    "\n",
    "In the XGBoost notebook we transformed the data from its word representation to a bag-of-words feature representation. For the model we are going to construct in this notebook we will construct a feature representation which is very similar. To start, we will represent each word as an integer. Of course, some of the words that appear in the reviews occur very infrequently and so likely don't contain much information for the purposes of sentiment analysis. The way we will deal with this problem is that we will fix the size of our working vocabulary and we will only include the words that appear most frequently. We will then combine all of the infrequent words into a single category and, in our case, we will label it as `1`.\n",
    "\n",
    "Since we will be using a recurrent neural network, it will be convenient if the length of each review is the same. To do this, we will fix a size for our reviews and then pad short reviews with the category 'no word' (which we will label `0`) and truncate long reviews."
   ]
  },
  {
   "cell_type": "markdown",
   "metadata": {},
   "source": [
    "### (TODO) Create a word dictionary\n",
    "\n",
    "To begin with, we need to construct a way to map words that appear in the reviews to integers. Here we fix the size of our vocabulary (including the 'no word' and 'infrequent' categories) to be `5000` but you may wish to change this to see how it affects the model.\n",
    "\n",
    "> **TODO:** Complete the implementation for the `build_dict()` method below. Note that even though the vocab_size is set to `5000`, we only want to construct a mapping for the most frequently appearing `4998` words. This is because we want to reserve the special labels `0` for 'no word' and `1` for 'infrequent word'."
   ]
  },
  {
   "cell_type": "code",
   "execution_count": 55,
   "metadata": {},
   "outputs": [],
   "source": [
    "import numpy as np\n",
    "\n",
    "def build_dict(data, vocab_size = 5000):\n",
    "    \"\"\"Construct and return a dictionary mapping each of the most frequently appearing words to a unique integer.\"\"\"\n",
    "    \n",
    "    # TODO: Determine how often each word appears in `data`. Note that `data` is a list of sentences and that a\n",
    "    #       sentence is a list of words.\n",
    "    \n",
    "    word_count = {} # A dict storing the words that appear in the reviews along with how often they occur\n",
    "    \n",
    "    # TODO: Sort the words found in `data` so that sorted_words[0] is the most frequently appearing word and\n",
    "    #       sorted_words[-1] is the least frequently appearing word.\n",
    "    for sentence in data:\n",
    "        for word in sentence:\n",
    "            if word in word_count:\n",
    "                word_count[word] +=1\n",
    "            else:\n",
    "                word_count[word] = 1\n",
    "                \n",
    "    sorted_words = [item[0] for item in sorted(word_count.items(), key = lambda x:x[1], reverse = True)]\n",
    "    \n",
    "    word_dict = {} # This is what we are building, a dictionary that translates words into integers\n",
    "    for idx, word in enumerate(sorted_words[:vocab_size - 2]): # The -2 is so that we save room for the 'no word'\n",
    "        word_dict[word] = idx + 2                              # 'infrequent' labels\n",
    "        \n",
    "    return word_dict"
   ]
  },
  {
   "cell_type": "code",
   "execution_count": 56,
   "metadata": {},
   "outputs": [
    {
     "name": "stdout",
     "output_type": "stream",
     "text": [
      "{'movi': 2, 'film': 3, 'one': 4, 'like': 5, 'time': 6, 'good': 7, 'make': 8, 'charact': 9, 'get': 10, 'see': 11, 'watch': 12, 'stori': 13, 'even': 14, 'would': 15, 'realli': 16, 'well': 17, 'scene': 18, 'look': 19, 'show': 20, 'much': 21, 'end': 22, 'peopl': 23, 'bad': 24, 'go': 25, 'great': 26, 'also': 27, 'first': 28, 'love': 29, 'think': 30, 'way': 31, 'act': 32, 'play': 33, 'made': 34, 'thing': 35, 'could': 36, 'know': 37, 'say': 38, 'seem': 39, 'work': 40, 'plot': 41, 'two': 42, 'actor': 43, 'year': 44, 'come': 45, 'mani': 46, 'seen': 47, 'take': 48, 'want': 49, 'life': 50, 'never': 51, 'littl': 52, 'best': 53, 'tri': 54, 'man': 55, 'ever': 56, 'give': 57, 'better': 58, 'still': 59, 'perform': 60, 'find': 61, 'feel': 62, 'part': 63, 'back': 64, 'use': 65, 'someth': 66, 'director': 67, 'actual': 68, 'interest': 69, 'lot': 70, 'real': 71, 'old': 72, 'cast': 73, 'though': 74, 'live': 75, 'star': 76, 'enjoy': 77, 'guy': 78, 'anoth': 79, 'new': 80, 'role': 81, 'noth': 82, '10': 83, 'funni': 84, 'music': 85, 'point': 86, 'start': 87, 'set': 88, 'girl': 89, 'origin': 90, 'day': 91, 'world': 92, 'everi': 93, 'believ': 94, 'turn': 95, 'quit': 96, 'us': 97, 'direct': 98, 'thought': 99, 'fact': 100, 'minut': 101, 'horror': 102, 'kill': 103, 'action': 104, 'comedi': 105, 'pretti': 106, 'young': 107, 'wonder': 108, 'happen': 109, 'around': 110, 'got': 111, 'effect': 112, 'right': 113, 'long': 114, 'howev': 115, 'big': 116, 'line': 117, 'famili': 118, 'enough': 119, 'seri': 120, 'may': 121, 'need': 122, 'fan': 123, 'bit': 124, 'script': 125, 'beauti': 126, 'person': 127, 'becom': 128, 'without': 129, 'must': 130, 'alway': 131, 'friend': 132, 'tell': 133, 'reason': 134, 'saw': 135, 'last': 136, 'final': 137, 'kid': 138, 'almost': 139, 'put': 140, 'least': 141, 'sure': 142, 'done': 143, 'whole': 144, 'place': 145, 'complet': 146, 'kind': 147, 'expect': 148, 'differ': 149, 'shot': 150, 'far': 151, 'mean': 152, 'anyth': 153, 'book': 154, 'laugh': 155, 'might': 156, 'name': 157, 'sinc': 158, 'begin': 159, '2': 160, 'probabl': 161, 'woman': 162, 'help': 163, 'entertain': 164, 'let': 165, 'screen': 166, 'call': 167, 'tv': 168, 'moment': 169, 'away': 170, 'read': 171, 'yet': 172, 'rather': 173, 'worst': 174, 'run': 175, 'fun': 176, 'lead': 177, 'hard': 178, 'audienc': 179, 'idea': 180, 'anyon': 181, 'episod': 182, 'american': 183, 'found': 184, 'appear': 185, 'bore': 186, 'especi': 187, 'although': 188, 'hope': 189, 'keep': 190, 'cours': 191, 'anim': 192, 'job': 193, 'goe': 194, 'move': 195, 'sens': 196, 'dvd': 197, 'version': 198, 'war': 199, 'money': 200, 'someon': 201, 'mind': 202, 'mayb': 203, 'problem': 204, 'true': 205, 'hous': 206, 'everyth': 207, 'nice': 208, 'second': 209, 'rate': 210, 'three': 211, 'night': 212, 'follow': 213, 'face': 214, 'recommend': 215, 'main': 216, 'product': 217, 'worth': 218, 'leav': 219, 'human': 220, 'special': 221, 'excel': 222, 'togeth': 223, 'wast': 224, 'sound': 225, 'everyon': 226, 'john': 227, 'hand': 228, '1': 229, 'father': 230, 'later': 231, 'eye': 232, 'said': 233, 'view': 234, 'instead': 235, 'review': 236, 'boy': 237, 'high': 238, 'hour': 239, 'miss': 240, 'talk': 241, 'classic': 242, 'wife': 243, 'understand': 244, 'left': 245, 'care': 246, 'black': 247, 'death': 248, 'open': 249, 'murder': 250, 'write': 251, 'half': 252, 'head': 253, 'rememb': 254, 'chang': 255, 'viewer': 256, 'fight': 257, 'gener': 258, 'surpris': 259, 'short': 260, 'includ': 261, 'die': 262, 'fall': 263, 'less': 264, 'els': 265, 'entir': 266, 'piec': 267, 'involv': 268, 'pictur': 269, 'simpli': 270, 'home': 271, 'top': 272, 'power': 273, 'total': 274, 'usual': 275, 'budget': 276, 'attempt': 277, 'suppos': 278, 'releas': 279, 'hollywood': 280, 'terribl': 281, 'song': 282, 'men': 283, 'possibl': 284, 'featur': 285, 'portray': 286, 'disappoint': 287, 'poor': 288, '3': 289, 'coupl': 290, 'stupid': 291, 'camera': 292, 'dead': 293, 'wrong': 294, 'low': 295, 'produc': 296, 'either': 297, 'video': 298, 'aw': 299, 'definit': 300, 'except': 301, 'rest': 302, 'given': 303, 'absolut': 304, 'women': 305, 'lack': 306, 'word': 307, 'writer': 308, 'titl': 309, 'talent': 310, 'decid': 311, 'full': 312, 'perfect': 313, 'along': 314, 'style': 315, 'close': 316, 'truli': 317, 'school': 318, 'emot': 319, 'save': 320, 'age': 321, 'sex': 322, 'next': 323, 'bring': 324, 'mr': 325, 'case': 326, 'killer': 327, 'heart': 328, 'comment': 329, 'sort': 330, 'creat': 331, 'perhap': 332, 'came': 333, 'brother': 334, 'sever': 335, 'joke': 336, 'art': 337, 'dialogu': 338, 'game': 339, 'small': 340, 'base': 341, 'flick': 342, 'written': 343, 'sequenc': 344, 'meet': 345, 'earli': 346, 'often': 347, 'other': 348, 'mother': 349, 'develop': 350, 'humor': 351, 'actress': 352, 'consid': 353, 'dark': 354, 'guess': 355, 'amaz': 356, 'unfortun': 357, 'light': 358, 'lost': 359, 'exampl': 360, 'cinema': 361, 'drama': 362, 'ye': 363, 'white': 364, 'experi': 365, 'imagin': 366, 'mention': 367, 'stop': 368, 'natur': 369, 'forc': 370, 'manag': 371, 'felt': 372, 'cut': 373, 'present': 374, 'children': 375, 'fail': 376, 'son': 377, 'qualiti': 378, 'car': 379, 'support': 380, 'ask': 381, 'hit': 382, 'side': 383, 'voic': 384, 'extrem': 385, 'impress': 386, 'evil': 387, 'wors': 388, 'went': 389, 'stand': 390, 'certainli': 391, 'basic': 392, 'oh': 393, 'overal': 394, 'favorit': 395, 'horribl': 396, 'mysteri': 397, 'number': 398, 'type': 399, 'danc': 400, 'wait': 401, 'hero': 402, '5': 403, 'alreadi': 404, 'learn': 405, 'matter': 406, '4': 407, 'michael': 408, 'genr': 409, 'fine': 410, 'despit': 411, 'throughout': 412, 'walk': 413, 'success': 414, 'histori': 415, 'question': 416, 'zombi': 417, 'town': 418, 'relationship': 419, 'realiz': 420, 'past': 421, 'child': 422, 'daughter': 423, 'late': 424, 'b': 425, 'wish': 426, 'credit': 427, 'hate': 428, 'event': 429, 'theme': 430, 'touch': 431, 'citi': 432, 'today': 433, 'sometim': 434, 'behind': 435, 'god': 436, 'twist': 437, 'sit': 438, 'deal': 439, 'annoy': 440, 'stay': 441, 'abl': 442, 'rent': 443, 'pleas': 444, 'edit': 445, 'blood': 446, 'deserv': 447, 'anyway': 448, 'comic': 449, 'appar': 450, 'soon': 451, 'gave': 452, 'etc': 453, 'level': 454, 'slow': 455, 'chanc': 456, 'score': 457, 'bodi': 458, 'brilliant': 459, 'incred': 460, 'figur': 461, 'situat': 462, 'self': 463, 'major': 464, 'stuff': 465, 'decent': 466, 'element': 467, 'return': 468, 'dream': 469, 'obvious': 470, 'continu': 471, 'order': 472, 'pace': 473, 'ridicul': 474, 'happi': 475, 'group': 476, 'add': 477, 'highli': 478, 'thank': 479, 'ladi': 480, 'novel': 481, 'pain': 482, 'speak': 483, 'career': 484, 'shoot': 485, 'strang': 486, 'heard': 487, 'sad': 488, 'polic': 489, 'husband': 490, 'import': 491, 'break': 492, 'took': 493, 'strong': 494, 'cannot': 495, 'predict': 496, 'robert': 497, 'violenc': 498, 'hilari': 499, 'recent': 500, 'countri': 501, 'known': 502, 'particularli': 503, 'pick': 504, 'documentari': 505, 'season': 506, 'critic': 507, 'jame': 508, 'compar': 509, 'alon': 510, 'obviou': 511, 'told': 512, 'state': 513, 'rock': 514, 'visual': 515, 'offer': 516, 'theater': 517, 'exist': 518, 'opinion': 519, 'gore': 520, 'hold': 521, 'crap': 522, 'result': 523, 'room': 524, 'hear': 525, 'realiti': 526, 'effort': 527, 'clich': 528, 'thriller': 529, 'caus': 530, 'sequel': 531, 'explain': 532, 'serious': 533, 'king': 534, 'local': 535, 'ago': 536, 'none': 537, 'hell': 538, 'note': 539, 'allow': 540, 'sister': 541, 'david': 542, 'simpl': 543, 'femal': 544, 'deliv': 545, 'ok': 546, 'class': 547, 'convinc': 548, 'check': 549, 'suspens': 550, 'win': 551, 'oscar': 552, 'buy': 553, 'huge': 554, 'valu': 555, 'sexual': 556, 'cool': 557, 'scari': 558, 'similar': 559, 'excit': 560, 'exactli': 561, 'apart': 562, 'provid': 563, 'shown': 564, 'avoid': 565, 'seriou': 566, 'english': 567, 'whose': 568, 'taken': 569, 'cinematographi': 570, 'shock': 571, 'polit': 572, 'spoiler': 573, 'offic': 574, 'across': 575, 'middl': 576, 'street': 577, 'pass': 578, 'messag': 579, 'somewhat': 580, 'charm': 581, 'silli': 582, 'modern': 583, 'confus': 584, 'filmmak': 585, 'form': 586, 'tale': 587, 'singl': 588, 'jack': 589, 'mostli': 590, 'carri': 591, 'attent': 592, 'william': 593, 'sing': 594, 'five': 595, 'subject': 596, 'richard': 597, 'prove': 598, 'team': 599, 'stage': 600, 'unlik': 601, 'cop': 602, 'georg': 603, 'televis': 604, 'monster': 605, 'earth': 606, 'cover': 607, 'villain': 608, 'pay': 609, 'marri': 610, 'toward': 611, 'build': 612, 'pull': 613, 'parent': 614, 'due': 615, 'fill': 616, 'respect': 617, 'dialog': 618, 'four': 619, 'remind': 620, 'futur': 621, 'typic': 622, 'weak': 623, '7': 624, 'cheap': 625, 'intellig': 626, 'atmospher': 627, 'british': 628, 'clearli': 629, '80': 630, 'paul': 631, 'non': 632, 'dog': 633, '8': 634, 'fast': 635, 'artist': 636, 'knew': 637, 'crime': 638, 'easili': 639, 'escap': 640, 'doubt': 641, 'adult': 642, 'detail': 643, 'date': 644, 'member': 645, 'fire': 646, 'romant': 647, 'gun': 648, 'drive': 649, 'straight': 650, 'fit': 651, 'beyond': 652, 'attack': 653, 'imag': 654, 'upon': 655, 'posit': 656, 'whether': 657, 'peter': 658, 'fantast': 659, 'aspect': 660, 'captur': 661, 'appreci': 662, 'ten': 663, 'plan': 664, 'discov': 665, 'remain': 666, 'near': 667, 'period': 668, 'air': 669, 'realist': 670, 'mark': 671, 'red': 672, 'dull': 673, 'adapt': 674, 'within': 675, 'lose': 676, 'spend': 677, 'materi': 678, 'color': 679, 'chase': 680, 'mari': 681, 'storylin': 682, 'forget': 683, 'bunch': 684, 'clear': 685, 'lee': 686, 'victim': 687, 'nearli': 688, 'box': 689, 'york': 690, 'inspir': 691, 'match': 692, 'finish': 693, 'mess': 694, 'standard': 695, 'easi': 696, 'truth': 697, 'busi': 698, 'suffer': 699, 'bill': 700, 'dramat': 701, 'space': 702, 'western': 703, 'e': 704, 'list': 705, 'battl': 706, 'notic': 707, 'de': 708, 'french': 709, 'ad': 710, '9': 711, 'tom': 712, 'larg': 713, 'among': 714, 'eventu': 715, 'accept': 716, 'train': 717, 'agre': 718, 'soundtrack': 719, 'spirit': 720, 'third': 721, 'teenag': 722, 'adventur': 723, 'soldier': 724, 'suggest': 725, 'sorri': 726, 'drug': 727, 'famou': 728, 'cri': 729, 'normal': 730, 'babi': 731, 'troubl': 732, 'ultim': 733, 'contain': 734, 'certain': 735, 'cultur': 736, 'romanc': 737, 'rare': 738, 'lame': 739, 'somehow': 740, 'disney': 741, 'mix': 742, 'gone': 743, 'cartoon': 744, 'student': 745, 'fear': 746, 'reveal': 747, 'suck': 748, 'kept': 749, 'attract': 750, 'appeal': 751, 'premis': 752, 'greatest': 753, 'secret': 754, 'design': 755, 'shame': 756, 'throw': 757, 'scare': 758, 'copi': 759, 'wit': 760, 'admit': 761, 'america': 762, 'particular': 763, 'brought': 764, 'relat': 765, 'screenplay': 766, 'whatev': 767, 'pure': 768, '70': 769, 'harri': 770, 'averag': 771, 'master': 772, 'describ': 773, 'male': 774, 'treat': 775, '20': 776, 'issu': 777, 'fantasi': 778, 'warn': 779, 'inde': 780, 'background': 781, 'forward': 782, 'project': 783, 'free': 784, 'japanes': 785, 'memor': 786, 'poorli': 787, 'award': 788, 'locat': 789, 'amus': 790, 'potenti': 791, 'struggl': 792, 'magic': 793, 'weird': 794, 'societi': 795, 'okay': 796, 'accent': 797, 'imdb': 798, 'doctor': 799, 'hot': 800, 'water': 801, 'express': 802, 'dr': 803, 'alien': 804, '30': 805, 'odd': 806, 'choic': 807, 'crazi': 808, 'fiction': 809, 'studio': 810, 'becam': 811, 'control': 812, 'masterpiec': 813, 'difficult': 814, 'fli': 815, 'joe': 816, 'scream': 817, 'costum': 818, 'lover': 819, 'refer': 820, 'uniqu': 821, 'remak': 822, 'girlfriend': 823, 'vampir': 824, 'prison': 825, 'execut': 826, 'wear': 827, 'jump': 828, 'wood': 829, 'unless': 830, 'creepi': 831, 'cheesi': 832, 'superb': 833, 'otherwis': 834, 'parti': 835, 'roll': 836, 'ghost': 837, 'mad': 838, 'public': 839, 'depict': 840, 'moral': 841, 'week': 842, 'jane': 843, 'earlier': 844, 'badli': 845, 'dumb': 846, 'fi': 847, 'grow': 848, 'flaw': 849, 'deep': 850, 'sci': 851, 'cat': 852, 'maker': 853, 'connect': 854, 'older': 855, 'footag': 856, 'plenti': 857, 'bother': 858, 'outsid': 859, 'stick': 860, 'gay': 861, 'catch': 862, 'co': 863, 'plu': 864, 'popular': 865, 'equal': 866, 'social': 867, 'quickli': 868, 'disturb': 869, 'perfectli': 870, 'dress': 871, '90': 872, 'era': 873, 'mistak': 874, 'lie': 875, 'previou': 876, 'ride': 877, 'combin': 878, 'band': 879, 'concept': 880, 'answer': 881, 'rich': 882, 'surviv': 883, 'front': 884, 'christma': 885, 'sweet': 886, 'insid': 887, 'eat': 888, 'bare': 889, 'concern': 890, 'listen': 891, 'ben': 892, 'beat': 893, 'c': 894, 'serv': 895, 'term': 896, 'german': 897, 'la': 898, 'meant': 899, 'hardli': 900, 'stereotyp': 901, 'law': 902, 'innoc': 903, 'desper': 904, 'memori': 905, 'promis': 906, 'intent': 907, 'cute': 908, 'inform': 909, 'steal': 910, 'variou': 911, 'brain': 912, 'post': 913, 'tone': 914, 'island': 915, 'amount': 916, 'compani': 917, 'track': 918, 'nuditi': 919, 'claim': 920, 'store': 921, 'flat': 922, '50': 923, 'hair': 924, 'land': 925, 'univers': 926, 'danger': 927, 'kick': 928, 'fairli': 929, 'scott': 930, 'player': 931, 'crew': 932, 'plain': 933, 'step': 934, 'toni': 935, 'share': 936, 'tast': 937, 'centuri': 938, 'engag': 939, 'achiev': 940, 'cold': 941, 'travel': 942, 'record': 943, 'suit': 944, 'rip': 945, 'manner': 946, 'sadli': 947, 'wrote': 948, 'spot': 949, 'tension': 950, 'intens': 951, 'fascin': 952, 'familiar': 953, 'burn': 954, 'depth': 955, 'remark': 956, 'destroy': 957, 'histor': 958, 'sleep': 959, 'purpos': 960, 'languag': 961, 'ruin': 962, 'ignor': 963, 'delight': 964, 'unbeliev': 965, 'italian': 966, 'soul': 967, 'abil': 968, 'collect': 969, 'detect': 970, 'clever': 971, 'violent': 972, 'rape': 973, 'reach': 974, 'door': 975, 'scienc': 976, 'liter': 977, 'trash': 978, 'commun': 979, 'reveng': 980, 'caught': 981, 'creatur': 982, 'trip': 983, 'approach': 984, 'fashion': 985, 'intrigu': 986, 'introduc': 987, 'paint': 988, 'skill': 989, 'channel': 990, 'complex': 991, 'camp': 992, 'christian': 993, 'hole': 994, 'extra': 995, 'limit': 996, 'immedi': 997, 'ann': 998, 'mental': 999, 'slightli': 1000, '6': 1001, 'comput': 1002, 'mere': 1003, 'million': 1004, 'slasher': 1005, 'conclus': 1006, 'suddenli': 1007, 'imposs': 1008, 'neither': 1009, 'crimin': 1010, 'teen': 1011, 'spent': 1012, 'physic': 1013, 'nation': 1014, 'respons': 1015, 'planet': 1016, 'receiv': 1017, 'fake': 1018, 'blue': 1019, 'sick': 1020, 'bizarr': 1021, 'embarrass': 1022, 'indian': 1023, '15': 1024, 'ring': 1025, 'drop': 1026, 'pop': 1027, 'drag': 1028, 'haunt': 1029, 'pointless': 1030, 'suspect': 1031, 'edg': 1032, 'search': 1033, 'handl': 1034, 'common': 1035, 'biggest': 1036, 'arriv': 1037, 'faith': 1038, 'hurt': 1039, 'technic': 1040, 'angel': 1041, 'genuin': 1042, 'dad': 1043, 'awesom': 1044, 'f': 1045, 'solid': 1046, 'colleg': 1047, 'van': 1048, 'focu': 1049, 'former': 1050, 'count': 1051, 'heavi': 1052, 'tear': 1053, 'rais': 1054, 'wall': 1055, 'visit': 1056, 'younger': 1057, 'laughabl': 1058, 'sign': 1059, 'fair': 1060, 'excus': 1061, 'cult': 1062, 'motion': 1063, 'tough': 1064, 'key': 1065, 'desir': 1066, 'super': 1067, 'stun': 1068, 'addit': 1069, 'exploit': 1070, 'cloth': 1071, 'tortur': 1072, 'smith': 1073, 'race': 1074, 'davi': 1075, 'cross': 1076, 'author': 1077, 'jim': 1078, 'compel': 1079, 'focus': 1080, 'minor': 1081, 'consist': 1082, 'commit': 1083, 'pathet': 1084, 'chemistri': 1085, 'park': 1086, 'frank': 1087, 'tradit': 1088, 'obsess': 1089, 'grade': 1090, '60': 1091, 'asid': 1092, 'brutal': 1093, 'somewher': 1094, 'steve': 1095, 'rule': 1096, 'opportun': 1097, 'explor': 1098, 'u': 1099, 'grant': 1100, 'depress': 1101, 'honest': 1102, 'besid': 1103, 'anti': 1104, 'dub': 1105, 'intend': 1106, 'trailer': 1107, 'bar': 1108, 'longer': 1109, 'scientist': 1110, 'west': 1111, 'regard': 1112, 'decad': 1113, 'judg': 1114, 'silent': 1115, 'creativ': 1116, 'armi': 1117, 'wild': 1118, 'south': 1119, 'g': 1120, 'stewart': 1121, 'draw': 1122, 'road': 1123, 'govern': 1124, 'boss': 1125, 'ex': 1126, 'practic': 1127, 'motiv': 1128, 'gang': 1129, 'festiv': 1130, 'club': 1131, 'surprisingli': 1132, 'redeem': 1133, 'london': 1134, 'green': 1135, 'page': 1136, 'machin': 1137, 'idiot': 1138, 'aliv': 1139, 'militari': 1140, 'display': 1141, 'repeat': 1142, 'thrill': 1143, '100': 1144, 'yeah': 1145, 'folk': 1146, 'nobodi': 1147, '40': 1148, 'garbag': 1149, 'journey': 1150, 'ground': 1151, 'smile': 1152, 'tire': 1153, 'bought': 1154, 'mood': 1155, 'sam': 1156, 'stone': 1157, 'cost': 1158, 'mouth': 1159, 'noir': 1160, 'terrif': 1161, 'agent': 1162, 'utterli': 1163, 'requir': 1164, 'sexi': 1165, 'honestli': 1166, 'area': 1167, 'geniu': 1168, 'report': 1169, 'glad': 1170, 'humour': 1171, 'investig': 1172, 'enter': 1173, 'serial': 1174, 'narr': 1175, 'occasion': 1176, 'passion': 1177, 'marriag': 1178, 'climax': 1179, 'studi': 1180, 'industri': 1181, 'charli': 1182, 'center': 1183, 'demon': 1184, 'ship': 1185, 'nowher': 1186, 'loos': 1187, 'hors': 1188, 'bear': 1189, 'wow': 1190, 'hang': 1191, 'graphic': 1192, 'admir': 1193, 'giant': 1194, 'send': 1195, 'loud': 1196, 'damn': 1197, 'subtl': 1198, 'rel': 1199, 'profession': 1200, 'nake': 1201, 'blow': 1202, 'bottom': 1203, 'insult': 1204, 'batman': 1205, 'doubl': 1206, 'kelli': 1207, 'boyfriend': 1208, 'r': 1209, 'initi': 1210, 'frame': 1211, 'gem': 1212, 'opera': 1213, 'church': 1214, 'affect': 1215, 'challeng': 1216, 'drawn': 1217, 'cinemat': 1218, 'j': 1219, 'fulli': 1220, 'l': 1221, 'seek': 1222, 'nightmar': 1223, 'evid': 1224, 'essenti': 1225, 'arm': 1226, 'conflict': 1227, 'grace': 1228, 'christoph': 1229, 'wind': 1230, 'henri': 1231, 'assum': 1232, 'witch': 1233, 'narrat': 1234, 'hunt': 1235, 'push': 1236, 'wise': 1237, 'chri': 1238, 'month': 1239, 'repres': 1240, 'nomin': 1241, 'affair': 1242, 'hide': 1243, 'sceneri': 1244, 'avail': 1245, 'smart': 1246, 'bond': 1247, 'thu': 1248, 'justic': 1249, 'interview': 1250, 'outstand': 1251, 'flashback': 1252, 'satisfi': 1253, 'constantli': 1254, 'presenc': 1255, 'central': 1256, 'bed': 1257, 'iron': 1258, 'content': 1259, 'sell': 1260, 'gag': 1261, 'everybodi': 1262, 'hotel': 1263, 'slowli': 1264, 'hire': 1265, 'system': 1266, 'charl': 1267, 'hey': 1268, 'adam': 1269, 'individu': 1270, 'thrown': 1271, 'jone': 1272, 'mediocr': 1273, 'allen': 1274, 'lesson': 1275, 'billi': 1276, 'ray': 1277, 'cameo': 1278, 'photographi': 1279, 'pari': 1280, 'fellow': 1281, 'strike': 1282, 'absurd': 1283, 'independ': 1284, 'rise': 1285, 'brief': 1286, 'neg': 1287, 'impact': 1288, 'phone': 1289, 'model': 1290, 'born': 1291, 'ill': 1292, 'spoil': 1293, 'angl': 1294, 'fresh': 1295, 'abus': 1296, 'likabl': 1297, 'discuss': 1298, 'hill': 1299, 'sight': 1300, 'ahead': 1301, 'photograph': 1302, 'sent': 1303, 'blame': 1304, 'occur': 1305, 'logic': 1306, 'shine': 1307, 'mainli': 1308, 'bruce': 1309, 'forev': 1310, 'commerci': 1311, 'skip': 1312, 'teacher': 1313, 'held': 1314, 'segment': 1315, 'surround': 1316, 'blond': 1317, 'zero': 1318, 'resembl': 1319, 'satir': 1320, 'trap': 1321, 'summer': 1322, 'queen': 1323, 'fool': 1324, 'six': 1325, 'ball': 1326, 'twice': 1327, 'tragedi': 1328, 'sub': 1329, 'reaction': 1330, 'pack': 1331, 'bomb': 1332, 'will': 1333, 'hospit': 1334, 'protagonist': 1335, 'mile': 1336, 'sport': 1337, 'vote': 1338, 'trust': 1339, 'drink': 1340, 'jerri': 1341, 'mom': 1342, 'encount': 1343, 'plane': 1344, 'program': 1345, 'current': 1346, 'station': 1347, 'al': 1348, 'martin': 1349, 'celebr': 1350, 'choos': 1351, 'join': 1352, 'field': 1353, 'favourit': 1354, 'round': 1355, 'tragic': 1356, 'lord': 1357, 'vision': 1358, 'robot': 1359, 'jean': 1360, 'tie': 1361, 'arthur': 1362, 'fortun': 1363, 'roger': 1364, 'random': 1365, 'intern': 1366, 'dread': 1367, 'psycholog': 1368, 'nonsens': 1369, 'prefer': 1370, 'epic': 1371, 'improv': 1372, 'formula': 1373, 'highlight': 1374, 'legend': 1375, 'pleasur': 1376, 'dollar': 1377, '11': 1378, 'tape': 1379, 'object': 1380, 'gorgeou': 1381, 'wide': 1382, 'porn': 1383, 'thin': 1384, 'fox': 1385, 'ugli': 1386, 'buddi': 1387, 'influenc': 1388, 'prepar': 1389, 'ii': 1390, 'nasti': 1391, 'reflect': 1392, 'progress': 1393, 'supposedli': 1394, 'warm': 1395, 'worthi': 1396, 'youth': 1397, 'length': 1398, 'unusu': 1399, 'latter': 1400, 'crash': 1401, 'childhood': 1402, 'seven': 1403, 'shop': 1404, 'superior': 1405, 'remot': 1406, 'theatr': 1407, 'pilot': 1408, 'funniest': 1409, 'disgust': 1410, 'paid': 1411, 'convers': 1412, 'fell': 1413, 'castl': 1414, 'trick': 1415, 'rob': 1416, 'gangster': 1417, 'establish': 1418, 'disast': 1419, 'disappear': 1420, 'heaven': 1421, 'ident': 1422, 'mine': 1423, 'suicid': 1424, 'tend': 1425, 'mask': 1426, 'singer': 1427, 'decis': 1428, 'forgotten': 1429, 'heroin': 1430, 'brian': 1431, 'partner': 1432, 'alan': 1433, 'desert': 1434, 'recogn': 1435, 'stuck': 1436, 'thoroughli': 1437, 'sky': 1438, 'p': 1439, 'ms': 1440, 'replac': 1441, 'accur': 1442, 'market': 1443, 'commentari': 1444, 'uncl': 1445, 'danni': 1446, 'andi': 1447, 'eddi': 1448, 'clue': 1449, 'seemingli': 1450, 'devil': 1451, 'jackson': 1452, 'therefor': 1453, 'pair': 1454, 'that': 1455, 'refus': 1456, 'unit': 1457, 'fault': 1458, 'ed': 1459, 'fate': 1460, 'accid': 1461, 'river': 1462, 'tune': 1463, 'afraid': 1464, 'clean': 1465, 'hidden': 1466, 'russian': 1467, 'stephen': 1468, 'irrit': 1469, 'quick': 1470, 'readi': 1471, 'captain': 1472, 'test': 1473, 'convey': 1474, 'instanc': 1475, 'european': 1476, 'daniel': 1477, 'frustrat': 1478, 'insan': 1479, 'food': 1480, 'wed': 1481, 'rescu': 1482, 'chines': 1483, '1950': 1484, 'lock': 1485, 'dirti': 1486, 'angri': 1487, 'joy': 1488, 'steven': 1489, 'price': 1490, 'bland': 1491, 'cage': 1492, 'rang': 1493, 'anymor': 1494, 'wooden': 1495, 'news': 1496, 'n': 1497, 'jason': 1498, 'rush': 1499, 'twenti': 1500, 'worri': 1501, '12': 1502, 'led': 1503, 'martial': 1504, 'board': 1505, 'hunter': 1506, 'cgi': 1507, 'transform': 1508, 'symbol': 1509, 'invent': 1510, 'sentiment': 1511, 'onto': 1512, 'piti': 1513, 'x': 1514, 'johnni': 1515, 'explan': 1516, 'attitud': 1517, 'process': 1518, 'awar': 1519, 'owner': 1520, 'aim': 1521, 'necessari': 1522, 'favor': 1523, 'floor': 1524, 'energi': 1525, 'target': 1526, 'religi': 1527, 'opposit': 1528, 'insight': 1529, 'blind': 1530, 'window': 1531, 'chick': 1532, 'movement': 1533, 'deepli': 1534, 'comparison': 1535, 'mountain': 1536, 'research': 1537, 'possess': 1538, 'grand': 1539, 'whatsoev': 1540, 'comed': 1541, 'rain': 1542, 'mid': 1543, 'began': 1544, 'shadow': 1545, 'bank': 1546, 'princ': 1547, 'parodi': 1548, 'credibl': 1549, 'friendship': 1550, 'weapon': 1551, 'pre': 1552, 'taylor': 1553, 'dougla': 1554, 'teach': 1555, 'flesh': 1556, 'terror': 1557, 'protect': 1558, 'bloodi': 1559, 'hint': 1560, 'marvel': 1561, 'leader': 1562, 'anybodi': 1563, 'load': 1564, 'watchabl': 1565, 'drunk': 1566, 'superman': 1567, 'accord': 1568, 'brown': 1569, 'freddi': 1570, 'jeff': 1571, 'appropri': 1572, 'seat': 1573, 'tim': 1574, 'hitler': 1575, 'knock': 1576, 'villag': 1577, 'unknown': 1578, 'charg': 1579, 'keaton': 1580, 'empti': 1581, 'unnecessari': 1582, 'enemi': 1583, 'media': 1584, 'england': 1585, 'dare': 1586, 'perspect': 1587, 'strength': 1588, 'utter': 1589, 'buck': 1590, 'craft': 1591, 'wave': 1592, 'kiss': 1593, 'nativ': 1594, 'contrast': 1595, 'correct': 1596, 'ford': 1597, 'distract': 1598, 'chill': 1599, 'anywher': 1600, 'knowledg': 1601, 'speed': 1602, 'magnific': 1603, 'nazi': 1604, 'soap': 1605, 'ice': 1606, 'mission': 1607, '1980': 1608, 'breath': 1609, 'fred': 1610, 'moon': 1611, 'jr': 1612, 'crowd': 1613, 'joan': 1614, 'soft': 1615, '000': 1616, 'kate': 1617, 'frighten': 1618, 'hundr': 1619, 'nick': 1620, 'dick': 1621, 'dan': 1622, 'somebodi': 1623, 'simon': 1624, 'dozen': 1625, 'radio': 1626, 'shakespear': 1627, 'academi': 1628, 'loss': 1629, 'thousand': 1630, 'andrew': 1631, 'root': 1632, 'account': 1633, 'vehicl': 1634, 'sum': 1635, 'quot': 1636, '1970': 1637, 'leg': 1638, 'convent': 1639, 'behavior': 1640, 'regular': 1641, 'gold': 1642, 'demand': 1643, 'compet': 1644, 'worker': 1645, 'pretenti': 1646, 'japan': 1647, 'privat': 1648, 'interpret': 1649, 'lynch': 1650, 'candi': 1651, 'notabl': 1652, 'explos': 1653, 'stretch': 1654, 'debut': 1655, 'constant': 1656, 'tarzan': 1657, 'spi': 1658, 'revolv': 1659, 'translat': 1660, 'prais': 1661, 'sea': 1662, 'failur': 1663, 'franc': 1664, 'quiet': 1665, 'ass': 1666, 'technolog': 1667, 'sat': 1668, 'threaten': 1669, 'jesu': 1670, 'toy': 1671, 'punch': 1672, 'higher': 1673, 'kevin': 1674, 'aid': 1675, 'met': 1676, 'interact': 1677, 'abandon': 1678, 'vh': 1679, 'mike': 1680, 'confront': 1681, 'bet': 1682, 'command': 1683, 'separ': 1684, 'recal': 1685, 'gotten': 1686, 'stunt': 1687, 'belong': 1688, 'site': 1689, 'techniqu': 1690, 'servic': 1691, 'bug': 1692, 'cabl': 1693, 'foot': 1694, 'freak': 1695, 'fu': 1696, 'capabl': 1697, 'african': 1698, 'bright': 1699, 'jimmi': 1700, 'presid': 1701, 'fat': 1702, 'succeed': 1703, 'clark': 1704, 'stock': 1705, 'boat': 1706, 'structur': 1707, 'gene': 1708, 'spanish': 1709, 'paper': 1710, 'kidnap': 1711, 'factor': 1712, 'whilst': 1713, 'belief': 1714, 'witti': 1715, 'bob': 1716, 'realism': 1717, 'tree': 1718, 'educ': 1719, 'realis': 1720, 'complic': 1721, 'attend': 1722, 'broken': 1723, 'santa': 1724, 'finest': 1725, 'assist': 1726, 'smoke': 1727, 'determin': 1728, 'observ': 1729, 'depart': 1730, 'v': 1731, 'up': 1732, 'routin': 1733, 'hat': 1734, 'lewi': 1735, 'domin': 1736, 'oper': 1737, 'rubbish': 1738, 'fame': 1739, 'foreign': 1740, 'advanc': 1741, 'safe': 1742, 'hook': 1743, 'lone': 1744, 'kinda': 1745, 'morgan': 1746, 'numer': 1747, 'rank': 1748, 'civil': 1749, 'werewolf': 1750, 'shape': 1751, 'vs': 1752, 'shallow': 1753, 'washington': 1754, 'rose': 1755, 'morn': 1756, 'gari': 1757, 'accomplish': 1758, 'kong': 1759, 'ordinari': 1760, 'winner': 1761, 'whenev': 1762, 'grab': 1763, 'peac': 1764, 'virtual': 1765, 'offens': 1766, 'h': 1767, 'luck': 1768, 'welcom': 1769, 'complain': 1770, 'unfunni': 1771, 'bigger': 1772, 'patient': 1773, 'activ': 1774, 'contriv': 1775, 'con': 1776, 'dimension': 1777, 'pretend': 1778, 'trek': 1779, 'flash': 1780, 'lesbian': 1781, 'wake': 1782, 'cain': 1783, 'dri': 1784, 'code': 1785, 'eric': 1786, 'guard': 1787, 'statu': 1788, 'manipul': 1789, 'corrupt': 1790, 'albert': 1791, 'dancer': 1792, 'signific': 1793, 'awkward': 1794, 'sourc': 1795, 'speech': 1796, 'context': 1797, 'gain': 1798, 'psycho': 1799, 'corni': 1800, 'anthoni': 1801, 'clip': 1802, '13': 1803, 'sean': 1804, 'religion': 1805, 'advic': 1806, 'curiou': 1807, 'w': 1808, 'reli': 1809, 'theatric': 1810, 'priest': 1811, 'flow': 1812, 'addict': 1813, 'specif': 1814, 'asian': 1815, 'howard': 1816, 'jennif': 1817, 'secur': 1818, 'skin': 1819, 'comfort': 1820, 'promot': 1821, 'organ': 1822, 'golden': 1823, 'core': 1824, 'luke': 1825, 'lucki': 1826, 'cash': 1827, 'cheat': 1828, 'lower': 1829, 'dislik': 1830, 'associ': 1831, 'regret': 1832, 'frankli': 1833, 'spell': 1834, 'balanc': 1835, 'devic': 1836, 'wing': 1837, 'degre': 1838, 'frequent': 1839, 'contribut': 1840, 'sake': 1841, 'forgiv': 1842, 'lake': 1843, 'print': 1844, 'thoma': 1845, 'mass': 1846, 'betti': 1847, 'unexpect': 1848, 'crack': 1849, 'gordon': 1850, 'grown': 1851, 'invit': 1852, 'amateur': 1853, 'categori': 1854, 'depend': 1855, 'construct': 1856, 'unfold': 1857, 'intellectu': 1858, 'walter': 1859, 'anna': 1860, 'condit': 1861, 'matur': 1862, 'grew': 1863, 'honor': 1864, 'sudden': 1865, 'spectacular': 1866, 'sole': 1867, 'mirror': 1868, 'veteran': 1869, 'experienc': 1870, 'demonstr': 1871, 'meanwhil': 1872, 'freedom': 1873, 'grip': 1874, 'card': 1875, 'liner': 1876, 'robin': 1877, 'overli': 1878, 'gift': 1879, 'circumst': 1880, 'section': 1881, 'drew': 1882, 'colour': 1883, 'subtitl': 1884, 'unabl': 1885, 'brilliantli': 1886, 'oliv': 1887, 'crappi': 1888, 'theori': 1889, 'sheriff': 1890, 'sheer': 1891, 'path': 1892, 'laughter': 1893, 'pile': 1894, 'cook': 1895, 'matt': 1896, 'parker': 1897, 'altern': 1898, 'wander': 1899, 'accident': 1900, 'hall': 1901, 'defin': 1902, 'treatment': 1903, 'relief': 1904, 'lawyer': 1905, 'sinatra': 1906, 'hank': 1907, 'captiv': 1908, 'dragon': 1909, 'moor': 1910, 'halloween': 1911, 'gratuit': 1912, 'barbara': 1913, 'kung': 1914, 'jacki': 1915, 'unintent': 1916, 'k': 1917, 'cowboy': 1918, 'wayn': 1919, 'broadway': 1920, 'wound': 1921, 'spoof': 1922, 'winter': 1923, 'surreal': 1924, 'canadian': 1925, 'statement': 1926, 'fare': 1927, 'fish': 1928, 'treasur': 1929, 'compos': 1930, 'gonna': 1931, 'cheer': 1932, 'victor': 1933, 'emerg': 1934, 'sensit': 1935, 'unrealist': 1936, 'woodi': 1937, 'driven': 1938, 'ran': 1939, 'neighbor': 1940, 'sympathet': 1941, 'topic': 1942, 'authent': 1943, 'glass': 1944, 'menac': 1945, 'expos': 1946, 'overlook': 1947, 'chief': 1948, 'gross': 1949, 'handsom': 1950, 'ancient': 1951, 'michel': 1952, 'stranger': 1953, 'cinderella': 1954, 'pleasant': 1955, 'feet': 1956, 'russel': 1957, 'contemporari': 1958, 'network': 1959, 'built': 1960, 'nevertheless': 1961, 'comedian': 1962, 'earn': 1963, 'endless': 1964, 'blockbust': 1965, 'miser': 1966, 'underr': 1967, 'letter': 1968, 'consider': 1969, 'gori': 1970, 'solv': 1971, 'switch': 1972, 'brook': 1973, 'joseph': 1974, 'victoria': 1975, 'bullet': 1976, 'convict': 1977, 'edward': 1978, 'virgin': 1979, '0': 1980, 'chosen': 1981, 'scenario': 1982, 'cynic': 1983, 'alex': 1984, 'scale': 1985, 'com': 1986, 'outrag': 1987, 'sword': 1988, 'gut': 1989, 'curs': 1990, 'proper': 1991, 'driver': 1992, 'monkey': 1993, 'substanc': 1994, 'uk': 1995, 'juli': 1996, 'screenwrit': 1997, 'wrap': 1998, 'indic': 1999, 'bird': 2000, 'court': 2001, 'remov': 2002, 'par': 2003, 'advertis': 2004, 'roy': 2005, 'nanci': 2006, 'loser': 2007, 'grave': 2008, 'rental': 2009, 'inevit': 2010, 'consequ': 2011, 'naiv': 2012, 'slap': 2013, 'brave': 2014, 'bridg': 2015, 'le': 2016, 'invis': 2017, 'fatal': 2018, 'germani': 2019, 'anger': 2020, 'footbal': 2021, 'loui': 2022, 'ador': 2023, 'provok': 2024, 'chan': 2025, 'anderson': 2026, 'alcohol': 2027, 'willi': 2028, 'stumbl': 2029, 'professor': 2030, 'ryan': 2031, 'bat': 2032, 'assassin': 2033, 'patrick': 2034, 'australian': 2035, '1930': 2036, 'sharp': 2037, 'saturday': 2038, 'refresh': 2039, 'trilog': 2040, 'lousi': 2041, 'heck': 2042, 'liber': 2043, 'eight': 2044, 'strongli': 2045, 'deni': 2046, 'amateurish': 2047, 'cell': 2048, 'ape': 2049, 'sin': 2050, 'resid': 2051, 'vagu': 2052, 'san': 2053, 'justifi': 2054, 'reput': 2055, 'defeat': 2056, 'terrifi': 2057, 'sympathi': 2058, 'indi': 2059, 'creator': 2060, 'mini': 2061, 'task': 2062, 'endur': 2063, 'tediou': 2064, 'prevent': 2065, 'tabl': 2066, 'expert': 2067, 'rival': 2068, 'che': 2069, 'imit': 2070, 'employ': 2071, 'offend': 2072, 'trial': 2073, 'basebal': 2074, 'fairi': 2075, 'dig': 2076, 'europ': 2077, 'complaint': 2078, 'beach': 2079, 'pitch': 2080, 'max': 2081, 'weekend': 2082, 'murphi': 2083, 'risk': 2084, 'format': 2085, 'purchas': 2086, 'titan': 2087, 'glimps': 2088, 'bite': 2089, 'hype': 2090, 'tini': 2091, 'powel': 2092, 'nois': 2093, 'reminisc': 2094, 'harsh': 2095, '14': 2096, 'strip': 2097, 'till': 2098, 'prime': 2099, 'north': 2100, 'asleep': 2101, 'fals': 2102, 'africa': 2103, 'destruct': 2104, 'revel': 2105, 'texa': 2106, 'descript': 2107, 'sitcom': 2108, 'inner': 2109, 'semi': 2110, 'excess': 2111, 'uninterest': 2112, 'arrest': 2113, 'surfac': 2114, 'spin': 2115, 'massiv': 2116, 'argu': 2117, 'twin': 2118, 'controversi': 2119, 'makeup': 2120, 'maintain': 2121, 'hitchcock': 2122, 'dinosaur': 2123, 'insist': 2124, 'stare': 2125, 'melodrama': 2126, 'kim': 2127, 'ludicr': 2128, 'ideal': 2129, 'reject': 2130, 'expens': 2131, 'supernatur': 2132, 'nail': 2133, 'subplot': 2134, 'ala': 2135, 'erot': 2136, 'host': 2137, 'press': 2138, 'ga': 2139, 'atroci': 2140, 'forest': 2141, 'columbo': 2142, 'dude': 2143, 'cant': 2144, 'identifi': 2145, 'presum': 2146, 'notch': 2147, 'plagu': 2148, 'closer': 2149, 'method': 2150, 'crude': 2151, 'forgett': 2152, 'character': 2153, 'guest': 2154, 'princess': 2155, 'lion': 2156, 'foster': 2157, 'border': 2158, 'ear': 2159, 'landscap': 2160, 'beast': 2161, 'urban': 2162, 'previous': 2163, 'storytel': 2164, 'damag': 2165, 'accus': 2166, 'bound': 2167, 'birth': 2168, 'jungl': 2169, 'aunt': 2170, 'pacino': 2171, 'guid': 2172, 'doll': 2173, 'emma': 2174, 'thirti': 2175, 'nude': 2176, 'chose': 2177, 'jess': 2178, 'propaganda': 2179, 'warrior': 2180, 'mate': 2181, 'pet': 2182, '25': 2183, 'mainstream': 2184, 'whoever': 2185, 'friday': 2186, 'gritti': 2187, 'latest': 2188, 'cooper': 2189, 'poster': 2190, 'merit': 2191, 'exact': 2192, 'upset': 2193, 'deadli': 2194, 'size': 2195, '1990': 2196, 'blend': 2197, 'popul': 2198, 'corps': 2199, 'ton': 2200, 'settl': 2201, 'buff': 2202, 'warner': 2203, 'wilson': 2204, 'rough': 2205, 'citizen': 2206, 'sun': 2207, 'contact': 2208, 'contest': 2209, 'bu': 2210, 'overcom': 2211, 'metal': 2212, 'widow': 2213, 'select': 2214, 'pitt': 2215, 'alic': 2216, 'mgm': 2217, 'rat': 2218, 'environ': 2219, 'ted': 2220, 'guilti': 2221, 'link': 2222, 'lift': 2223, 'particip': 2224, 'revolut': 2225, 'afternoon': 2226, 'accompani': 2227, 'prostitut': 2228, 'exagger': 2229, 'johnson': 2230, 'matrix': 2231, 'corpor': 2232, 'moron': 2233, '1960': 2234, 'corner': 2235, 'multipl': 2236, 'clair': 2237, 'friendli': 2238, 'sincer': 2239, 'holm': 2240, 'doom': 2241, 'instal': 2242, 'leagu': 2243, 'hood': 2244, 'string': 2245, 'sunday': 2246, 'junk': 2247, 'irish': 2248, 'defend': 2249, 'advis': 2250, 'aka': 2251, 'grim': 2252, 'campi': 2253, 'hip': 2254, 'blah': 2255, 'lugosi': 2256, 'examin': 2257, 'rachel': 2258, 'tight': 2259, 'icon': 2260, 'confid': 2261, 'shut': 2262, 'shake': 2263, 'varieti': 2264, 'pro': 2265, 'medic': 2266, 'mexican': 2267, 'jaw': 2268, 'directli': 2269, 'attach': 2270, 'goal': 2271, 'sullivan': 2272, 'denni': 2273, 'duke': 2274, 'prior': 2275, 'sarah': 2276, 'courag': 2277, 'truck': 2278, 'legendari': 2279, 'terrorist': 2280, 'breast': 2281, 'sentenc': 2282, 'vietnam': 2283, 'dean': 2284, 'bourn': 2285, 'nose': 2286, 'yell': 2287, 'split': 2288, 'behav': 2289, 'hong': 2290, 'proceed': 2291, 'entri': 2292, 'donald': 2293, 'un': 2294, 'unconvinc': 2295, 'gather': 2296, 'borrow': 2297, 'jerk': 2298, 'swim': 2299, 'confess': 2300, 'concentr': 2301, 'everywher': 2302, 'buri': 2303, 'stolen': 2304, 'crush': 2305, 'lifetim': 2306, 'forth': 2307, 'turkey': 2308, 'deliveri': 2309, 'spite': 2310, 'pan': 2311, 'california': 2312, 'julia': 2313, 'lip': 2314, 'offici': 2315, 'downright': 2316, 'quest': 2317, 'hoffman': 2318, 'china': 2319, 'proud': 2320, 'reward': 2321, 'freeman': 2322, 'flight': 2323, 'worthwhil': 2324, 'sir': 2325, 'sink': 2326, 'fade': 2327, 'jon': 2328, 'lazi': 2329, 'notori': 2330, 'jail': 2331, 'fabul': 2332, 'inept': 2333, 'encourag': 2334, 'betray': 2335, 'bag': 2336, 'retard': 2337, 'imageri': 2338, 'susan': 2339, 'relev': 2340, 'storm': 2341, 'cousin': 2342, 'lisa': 2343, 'shower': 2344, 'teeth': 2345, 'survivor': 2346, 'bell': 2347, 'branagh': 2348, 'quirki': 2349, 'shark': 2350, 'facial': 2351, 'bride': 2352, 'alright': 2353, 'trade': 2354, 'tremend': 2355, 'summari': 2356, 'mexico': 2357, 'hugh': 2358, 'toler': 2359, 'finger': 2360, 'stab': 2361, 'bitter': 2362, 'blown': 2363, 'hyster': 2364, 'pose': 2365, 'von': 2366, 'ha': 2367, 'christ': 2368, 'cruel': 2369, 'larri': 2370, 'bone': 2371, 'address': 2372, 'ron': 2373, 'scheme': 2374, 'afterward': 2375, 'ned': 2376, 'swear': 2377, 'feed': 2378, 'beg': 2379, 'thumb': 2380, 'traci': 2381, 'pursu': 2382, 'screw': 2383, 'snake': 2384, 'distinct': 2385, 'tour': 2386, 'photo': 2387, 'chair': 2388, 'occas': 2389, 'raw': 2390, 'mechan': 2391, 'obscur': 2392, 'stomach': 2393, 'argument': 2394, 'heavili': 2395, 'southern': 2396, 'render': 2397, 'chain': 2398, 'gruesom': 2399, 'hardi': 2400, 'holiday': 2401, 'necessarili': 2402, 'resist': 2403, 'cabin': 2404, 'sidney': 2405, 'philip': 2406, 'india': 2407, 'indulg': 2408, 'satan': 2409, 'understood': 2410, 'racist': 2411, 'outfit': 2412, 'stalk': 2413, 'tongu': 2414, 'pregnant': 2415, 'belov': 2416, 'midnight': 2417, 'obnoxi': 2418, 'integr': 2419, 'fourth': 2420, 'forgot': 2421, 'lay': 2422, 'inhabit': 2423, '17': 2424, 'magazin': 2425, 'garden': 2426, 'slapstick': 2427, 'restor': 2428, 'carol': 2429, 'ticket': 2430, 'deeper': 2431, 'devot': 2432, 'shoe': 2433, 'incid': 2434, 'lincoln': 2435, 'brad': 2436, 'guarante': 2437, 'elizabeth': 2438, 'anticip': 2439, 'sandler': 2440, 'maria': 2441, 'lili': 2442, 'disbelief': 2443, 'divorc': 2444, 'benefit': 2445, 'underground': 2446, 'mildli': 2447, 'princip': 2448, 'slave': 2449, 'explod': 2450, 'creation': 2451, 'cring': 2452, 'greater': 2453, 'capit': 2454, 'bbc': 2455, 'amazingli': 2456, 'funnier': 2457, 'lesli': 2458, 'introduct': 2459, 'extraordinari': 2460, 'halfway': 2461, 'punish': 2462, 'wreck': 2463, 'overwhelm': 2464, 'tap': 2465, 'extent': 2466, 'text': 2467, 'enhanc': 2468, 'transfer': 2469, 'advantag': 2470, 'deliber': 2471, 'error': 2472, 'plant': 2473, 'lo': 2474, 'horrif': 2475, 'lane': 2476, 'east': 2477, 'jessica': 2478, 'preview': 2479, 'dynam': 2480, 'sophist': 2481, 'homosexu': 2482, 'miller': 2483, 'appli': 2484, 'miscast': 2485, 'vacat': 2486, 'vincent': 2487, 'basi': 2488, '2000': 2489, 'ensu': 2490, 'uncomfort': 2491, 'reed': 2492, 'bollywood': 2493, 'spoken': 2494, 'extend': 2495, 'elev': 2496, 'mansion': 2497, 'sleazi': 2498, 'measur': 2499, 'via': 2500, 'steel': 2501, 'mous': 2502, 'goofi': 2503, 'alter': 2504, 'hippi': 2505, 'assign': 2506, 'daili': 2507, 'cathol': 2508, 'dentist': 2509, 'blair': 2510, 'beer': 2511, 'melt': 2512, 'fix': 2513, 'savag': 2514, 'conceiv': 2515, 'stanley': 2516, 'overact': 2517, 'breathtak': 2518, 'inspector': 2519, 'properli': 2520, 'carpent': 2521, 'burt': 2522, 'sacrific': 2523, 'subsequ': 2524, 'oppos': 2525, 'nowaday': 2526, 'succe': 2527, 'everyday': 2528, 'neck': 2529, 'block': 2530, 'laura': 2531, 'circl': 2532, 'massacr': 2533, 'concert': 2534, 'christi': 2535, 'fay': 2536, 'pool': 2537, 'fallen': 2538, 'portrait': 2539, 'access': 2540, 'lesser': 2541, 'mob': 2542, 'grey': 2543, 'seagal': 2544, 'usa': 2545, 'chees': 2546, 'sinist': 2547, 'jewish': 2548, 'relax': 2549, 'isol': 2550, 'competit': 2551, 'react': 2552, 'jake': 2553, '2006': 2554, 'stink': 2555, 'suitabl': 2556, 'appal': 2557, 'chop': 2558, 'spiritu': 2559, 'ironi': 2560, 'lyric': 2561, 'immens': 2562, 'nine': 2563, 'creep': 2564, 'nonetheless': 2565, 'user': 2566, 'reduc': 2567, 'adopt': 2568, 'showcas': 2569, 'retir': 2570, 'needless': 2571, 'shirt': 2572, 'franchis': 2573, 'sold': 2574, 'nut': 2575, 'luci': 2576, 'rage': 2577, 'spring': 2578, 'navi': 2579, 'asham': 2580, 'zone': 2581, 'digit': 2582, 'bath': 2583, 'bulli': 2584, 'stanwyck': 2585, 'per': 2586, 'uninspir': 2587, 'nurs': 2588, 'jay': 2589, 'broadcast': 2590, 'sutherland': 2591, 'amongst': 2592, 'oddli': 2593, 'laid': 2594, 'illustr': 2595, 'upper': 2596, '2001': 2597, '1940': 2598, 'brando': 2599, 'throat': 2600, 'aspir': 2601, 'stylish': 2602, 'disguis': 2603, 'baker': 2604, 'fulfil': 2605, 'pride': 2606, 'nobl': 2607, '18': 2608, 'endear': 2609, 'wanna': 2610, 'impli': 2611, 'neighborhood': 2612, 'thief': 2613, 'pound': 2614, 'em': 2615, 'wwii': 2616, '16': 2617, 'shoulder': 2618, 'bett': 2619, 'albeit': 2620, 'shift': 2621, 'bo': 2622, 'dawn': 2623, 'prop': 2624, 'rochest': 2625, 'diseas': 2626, 'coher': 2627, 'dinner': 2628, 'distribut': 2629, 'tens': 2630, 'cinematograph': 2631, 'silenc': 2632, 'function': 2633, 'snow': 2634, 'surf': 2635, 'rebel': 2636, 'shout': 2637, 'contract': 2638, 'wash': 2639, 'knife': 2640, 'matthau': 2641, 'forti': 2642, 'poignant': 2643, 'instinct': 2644, 'horrend': 2645, 'widmark': 2646, 'chuck': 2647, 'height': 2648, 'reunion': 2649, 'henc': 2650, 'eeri': 2651, 'duti': 2652, 'mindless': 2653, 'cancel': 2654, 'derek': 2655, 'cannib': 2656, 'heat': 2657, 'internet': 2658, 'silver': 2659, 'proof': 2660, 'elvira': 2661, 'premier': 2662, 'elvi': 2663, 'absorb': 2664, 'musician': 2665, 'alik': 2666, 'repetit': 2667, 'mill': 2668, 'torn': 2669, 'etern': 2670, 'innov': 2671, 'spielberg': 2672, 'neat': 2673, 'glori': 2674, 'incoher': 2675, 'greatli': 2676, 'pie': 2677, 'racism': 2678, 'lovabl': 2679, 'homag': 2680, 'precis': 2681, 'burton': 2682, 'crisi': 2683, 'infam': 2684, 'horrifi': 2685, 'announc': 2686, 'diamond': 2687, 'britain': 2688, 'wealthi': 2689, 'nelson': 2690, 'fbi': 2691, 'trite': 2692, 'redempt': 2693, 'itali': 2694, 'bang': 2695, 'blank': 2696, 'dedic': 2697, 'pat': 2698, 'flop': 2699, 'hammer': 2700, 'parallel': 2701, 'wilder': 2702, 'resolut': 2703, 'helen': 2704, 'happili': 2705, 'ensembl': 2706, 'chaplin': 2707, 'streisand': 2708, 'plastic': 2709, 'mar': 2710, 'disagre': 2711, 'factori': 2712, 'triumph': 2713, 'st': 2714, 'conclud': 2715, 'broke': 2716, 'carter': 2717, 'oil': 2718, 'cube': 2719, 'vega': 2720, 'bush': 2721, 'weight': 2722, 'climb': 2723, 'chuckl': 2724, 'row': 2725, 'own': 2726, 'fighter': 2727, 'rocket': 2728, 'march': 2729, 'sensibl': 2730, 'lust': 2731, 'meaning': 2732, 'unforgett': 2733, 'kurt': 2734, 'dump': 2735, 'spare': 2736, 'enorm': 2737, 'boot': 2738, 'wherea': 2739, 'mst3k': 2740, 'thug': 2741, 'dane': 2742, 'luca': 2743, 'brand': 2744, 'arnold': 2745, 'dear': 2746, 'rap': 2747, 'stress': 2748, 'adequ': 2749, 'threat': 2750, 'fifti': 2751, 'engin': 2752, 'karloff': 2753, 'butt': 2754, 'difficulti': 2755, 'caricatur': 2756, 'bobbi': 2757, 'homeless': 2758, 'arrog': 2759, 'flynn': 2760, 'ego': 2761, 'ralph': 2762, 'secretari': 2763, 'barri': 2764, 'swing': 2765, 'journalist': 2766, 'hamlet': 2767, 'fest': 2768, 'elabor': 2769, 'polish': 2770, 'tool': 2771, 'unbear': 2772, 'simpson': 2773, 'fanci': 2774, 'puppet': 2775, 'conspiraci': 2776, 'induc': 2777, 'float': 2778, 'grate': 2779, 'spike': 2780, 'arrang': 2781, 'resort': 2782, 'tribut': 2783, 'guilt': 2784, 'phillip': 2785, 'choreograph': 2786, 'cruis': 2787, 'exercis': 2788, 'basement': 2789, 'boll': 2790, 'muppet': 2791, 'pig': 2792, 'toilet': 2793, 'ham': 2794, 'document': 2795, '24': 2796, 'layer': 2797, 'puzzl': 2798, 'fianc': 2799, 'stan': 2800, 'slip': 2801, 'file': 2802, 'medium': 2803, 'scarecrow': 2804, 'editor': 2805, 'item': 2806, 'babe': 2807, 'korean': 2808, 'tower': 2809, 'ward': 2810, 'larger': 2811, 'glover': 2812, 'inexplic': 2813, 'philosoph': 2814, 'orient': 2815, 'librari': 2816, 'assur': 2817, 'persona': 2818, 'minim': 2819, 'doc': 2820, 'transit': 2821, 'spark': 2822, 'portion': 2823, 'territori': 2824, 'catherin': 2825, 'denzel': 2826, 'superfici': 2827, 'slaughter': 2828, 'sneak': 2829, 'jet': 2830, 'shi': 2831, 'pg': 2832, 'jeremi': 2833, 'ban': 2834, 'walken': 2835, 'boredom': 2836, 'financi': 2837, 'owe': 2838, 'dorothi': 2839, 'curti': 2840, 'wolf': 2841, 'whale': 2842, 'multi': 2843, 'metaphor': 2844, 'hudson': 2845, 'backdrop': 2846, 'ambigu': 2847, 'eleph': 2848, 'profound': 2849, 'cusack': 2850, 'union': 2851, 'ultra': 2852, '2005': 2853, 'birthday': 2854, 'notion': 2855, 'stiff': 2856, 'implaus': 2857, 'viru': 2858, 'elsewher': 2859, 'gadget': 2860, 'rave': 2861, 'hack': 2862, '1st': 2863, 'reader': 2864, 'superhero': 2865, 'eva': 2866, 'slight': 2867, 'poison': 2868, 'squar': 2869, 'disc': 2870, 'pad': 2871, 'newspap': 2872, 'bibl': 2873, 'distanc': 2874, 'eastwood': 2875, 'urg': 2876, 'hawk': 2877, 'deriv': 2878, 'lloyd': 2879, 'afford': 2880, 'canada': 2881, 'spread': 2882, 'cure': 2883, 'skit': 2884, 'charisma': 2885, 'health': 2886, 'drown': 2887, 'essenc': 2888, 'huh': 2889, 'button': 2890, 'restaur': 2891, 'sadist': 2892, 'heston': 2893, 'montag': 2894, 'gradual': 2895, 'godfath': 2896, 'peak': 2897, 'estat': 2898, 'lab': 2899, 'fetch': 2900, 'maniac': 2901, 'invest': 2902, 'companion': 2903, 'dealt': 2904, 'scoobi': 2905, 'muslim': 2906, 'countless': 2907, 'subtleti': 2908, 'gothic': 2909, 'cup': 2910, 'servant': 2911, 'ritter': 2912, 'tea': 2913, 'kane': 2914, 'alli': 2915, 'miik': 2916, 'heroic': 2917, 'briefli': 2918, 'elect': 2919, 'electr': 2920, 'salli': 2921, 'iii': 2922, 'charismat': 2923, 'neil': 2924, 'toss': 2925, 'wannab': 2926, 'nuanc': 2927, 'grandmoth': 2928, 'admittedli': 2929, 'tender': 2930, 'resourc': 2931, 'reel': 2932, 'cole': 2933, 'bud': 2934, 'ingredi': 2935, 'stood': 2936, 'gate': 2937, 'label': 2938, 'mild': 2939, 'mafia': 2940, 'punk': 2941, 'shall': 2942, 'reev': 2943, 'poverti': 2944, 'pit': 2945, 'dawson': 2946, 'kubrick': 2947, 'stronger': 2948, 'pauli': 2949, 'carrey': 2950, 'cox': 2951, 'burst': 2952, 'cardboard': 2953, 'useless': 2954, 'fond': 2955, 'bakshi': 2956, 'ian': 2957, 'assault': 2958, 'smooth': 2959, 'outcom': 2960, 'smash': 2961, 'easier': 2962, 'updat': 2963, 'terri': 2964, 'astair': 2965, 'tag': 2966, 'divers': 2967, 'sketch': 2968, 'increasingli': 2969, 'resolv': 2970, 'rex': 2971, 'vari': 2972, 'fist': 2973, 'coincid': 2974, 'qualifi': 2975, 'melodramat': 2976, 'samurai': 2977, 'vulner': 2978, 'exchang': 2979, '2002': 2980, 'brillianc': 2981, 'blast': 2982, 'scratch': 2983, 'reynold': 2984, 'templ': 2985, 'tame': 2986, 'suspend': 2987, 'luckili': 2988, 'be': 2989, 'insert': 2990, 'conveni': 2991, 'coach': 2992, 'farm': 2993, 'fisher': 2994, 'meat': 2995, 'gotta': 2996, 'seventi': 2997, 'hamilton': 2998, 'pin': 2999, 'nuclear': 3000, 'walker': 3001, 'strictli': 3002, 'matthew': 3003, 'jami': 3004, 'ambiti': 3005, 'soprano': 3006, 'revers': 3007, 'closet': 3008, 'joey': 3009, 'timeless': 3010, 'discoveri': 3011, 'monk': 3012, 'brosnan': 3013, 'struck': 3014, 'instantli': 3015, 'eccentr': 3016, 'spooki': 3017, 'kudo': 3018, 'recreat': 3019, 'convolut': 3020, 'empir': 3021, 'cave': 3022, 'worthless': 3023, 'grasp': 3024, 'clock': 3025, 'ninja': 3026, 'butcher': 3027, 'selfish': 3028, 'gray': 3029, 'pal': 3030, 'cliff': 3031, 'declar': 3032, 'evok': 3033, 'inconsist': 3034, 'clown': 3035, 'bleak': 3036, 'importantli': 3037, 'fifteen': 3038, 'seller': 3039, 'sidekick': 3040, 'eighti': 3041, 'communist': 3042, 'norman': 3043, 'sloppi': 3044, 'wipe': 3045, 'miracl': 3046, 'partli': 3047, 'mitchel': 3048, 'psychiatrist': 3049, 'cheek': 3050, 'debat': 3051, 'ho': 3052, 'superbl': 3053, 'websit': 3054, 'seed': 3055, 'aforement': 3056, 'australia': 3057, 'farc': 3058, 'piano': 3059, 'destin': 3060, 'enthusiast': 3061, 'chew': 3062, 'flawless': 3063, 'lifestyl': 3064, '45': 3065, 'stoog': 3066, 'soviet': 3067, 'wrestl': 3068, 'drivel': 3069, 'slice': 3070, 'directori': 3071, 'bash': 3072, 'regardless': 3073, 'anni': 3074, 'dire': 3075, 'dash': 3076, 'splatter': 3077, 'abc': 3078, 'kitchen': 3079, 'incompet': 3080, 'pressur': 3081, 'akshay': 3082, 'emili': 3083, 'wick': 3084, 'glow': 3085, 'cia': 3086, 'dave': 3087, 'pleasantli': 3088, 'curios': 3089, 'seduc': 3090, 'helicopt': 3091, 'flower': 3092, 'distant': 3093, 'duo': 3094, 'lou': 3095, 'beaten': 3096, 'boil': 3097, 'judi': 3098, 'increas': 3099, 'jar': 3100, 'recov': 3101, 'suppli': 3102, 'doo': 3103, 'ken': 3104, 'artifici': 3105, 'blob': 3106, 'chapter': 3107, 'cameron': 3108, 'prize': 3109, 'mann': 3110, 'cagney': 3111, 'ranger': 3112, 'panic': 3113, 'francisco': 3114, 'craven': 3115, 'laurel': 3116, 'eleg': 3117, 'combat': 3118, 'turner': 3119, 'splendid': 3120, 'hop': 3121, 'perri': 3122, 'drunken': 3123, 'craig': 3124, 'favour': 3125, 'ellen': 3126, 'psychot': 3127, 'goldberg': 3128, 'glenn': 3129, 'web': 3130, 'plausibl': 3131, 'min': 3132, 'hatr': 3133, 'gentl': 3134, 'flip': 3135, 'alexand': 3136, 'wizard': 3137, '20th': 3138, 'rid': 3139, 'ruth': 3140, 'shortli': 3141, 'slightest': 3142, 'modesti': 3143, 'philosophi': 3144, 'fx': 3145, 'falk': 3146, 'greek': 3147, 'graduat': 3148, 'gandhi': 3149, 'lend': 3150, 'jealou': 3151, 'dracula': 3152, 'futurist': 3153, 'we': 3154, 'knight': 3155, 'unpleas': 3156, 'manhattan': 3157, 'harm': 3158, 'preciou': 3159, 'ocean': 3160, 'felix': 3161, 'holi': 3162, 'tall': 3163, 'fund': 3164, 'legal': 3165, 'mock': 3166, 'nod': 3167, 'scientif': 3168, 'thread': 3169, 'bless': 3170, 'reviv': 3171, 'childish': 3172, 'tank': 3173, 'forbidden': 3174, 'explicit': 3175, 'digniti': 3176, 'ami': 3177, 'overdon': 3178, 'giallo': 3179, 'pirat': 3180, 'unwatch': 3181, 'awe': 3182, '2004': 3183, 'elderli': 3184, 'fever': 3185, 'awaken': 3186, 'margaret': 3187, 'torment': 3188, 'yesterday': 3189, '99': 3190, 'nerv': 3191, 'thick': 3192, 'verhoeven': 3193, 'repeatedli': 3194, 'eve': 3195, 'mel': 3196, 'broad': 3197, 'royal': 3198, 'bin': 3199, 'politician': 3200, 'kay': 3201, 'absenc': 3202, 'ah': 3203, 'griffith': 3204, 'rivet': 3205, 'timothi': 3206, 'automat': 3207, 'ambit': 3208, 'roman': 3209, 'publish': 3210, 'uniform': 3211, 'stiller': 3212, 'acclaim': 3213, 'custom': 3214, 'eas': 3215, 'lean': 3216, 'launch': 3217, 'romero': 3218, 'stinker': 3219, 'warren': 3220, 'phrase': 3221, 'wallac': 3222, 'pierc': 3223, 'foul': 3224, 'homicid': 3225, 'transport': 3226, 'purpl': 3227, 'bathroom': 3228, 'pulp': 3229, 'termin': 3230, 'antic': 3231, 'crook': 3232, 'darker': 3233, 'sunshin': 3234, 'tomato': 3235, 'gabriel': 3236, 'coloni': 3237, 'prom': 3238, 'kenneth': 3239, 'q': 3240, 'revolutionari': 3241, 'brazil': 3242, 'li': 3243, '2003': 3244, 'ought': 3245, 'karen': 3246, 'hollow': 3247, 'eyr': 3248, 'packag': 3249, 'marin': 3250, 'horrid': 3251, 'pray': 3252, 'sixti': 3253, 'juvenil': 3254, 'donna': 3255, 'choreographi': 3256, 'rambo': 3257, 'album': 3258, 'viciou': 3259, 'contrari': 3260, 'saint': 3261, 'awak': 3262, 'evolv': 3263, 'kapoor': 3264, 'blade': 3265, 'conserv': 3266, 'ramon': 3267, 'defi': 3268, 'stole': 3269, 'candid': 3270, 'nerd': 3271, 'ireland': 3272, 'dose': 3273, 'boast': 3274, 'option': 3275, 'overr': 3276, 'mildr': 3277, 'beatti': 3278, 'twelv': 3279, 'mummi': 3280, 'kirk': 3281, 'funer': 3282, 'protest': 3283, 'natali': 3284, 'collabor': 3285, 'flame': 3286, 'trio': 3287, 'global': 3288, 'detract': 3289, 'confirm': 3290, 'jazz': 3291, 'astonish': 3292, 'fulci': 3293, 'altman': 3294, 'racial': 3295, 'yellow': 3296, 'nicholson': 3297, 'leap': 3298, 'tommi': 3299, 'bottl': 3300, 'blake': 3301, 'shade': 3302, 'bull': 3303, 'audio': 3304, 'mystic': 3305, 'enterpris': 3306, 'whip': 3307, 'delici': 3308, 'spit': 3309, 'destini': 3310, 'enchant': 3311, 'popcorn': 3312, 'reunit': 3313, 'swedish': 3314, 'visibl': 3315, 'merci': 3316, 'bedroom': 3317, 'adolesc': 3318, 'todd': 3319, 'staff': 3320, 'threw': 3321, 'pseudo': 3322, 'meaningless': 3323, 'altogeth': 3324, 'fonda': 3325, 'neo': 3326, 'vivid': 3327, 'harder': 3328, 'inherit': 3329, 'jew': 3330, 'exhibit': 3331, 'synopsi': 3332, 'await': 3333, 'suspici': 3334, 'reserv': 3335, 'lawrenc': 3336, 'respond': 3337, 'uneven': 3338, 'voight': 3339, 'decor': 3340, 'roommat': 3341, 'kennedi': 3342, 'edi': 3343, 'atlanti': 3344, 'leonard': 3345, 'tip': 3346, 'fanat': 3347, 'lemmon': 3348, 'bust': 3349, 'ruthless': 3350, 'crocodil': 3351, 'befriend': 3352, 'wire': 3353, 'madonna': 3354, 'moodi': 3355, 'unsettl': 3356, 'voyag': 3357, 'bargain': 3358, 'rural': 3359, 'ventur': 3360, 'dimens': 3361, 'garner': 3362, 'chao': 3363, 'audit': 3364, 'centr': 3365, 'carl': 3366, 'bold': 3367, '2007': 3368, 'clumsi': 3369, 'clint': 3370, 'bradi': 3371, 'incident': 3372, 'abysm': 3373, 'holli': 3374, 'palma': 3375, 'ant': 3376, 'mall': 3377, 'neglect': 3378, 'imperson': 3379, 'acknowledg': 3380, 'nearbi': 3381, 'hart': 3382, 'characterist': 3383, 'troop': 3384, 'wealth': 3385, 'trail': 3386, 'echo': 3387, 'tiger': 3388, 'cuba': 3389, 'immigr': 3390, 'daddi': 3391, 'elimin': 3392, 'lit': 3393, 'timon': 3394, 'versu': 3395, 'cd': 3396, 'poetic': 3397, '2nd': 3398, 'humili': 3399, 'cari': 3400, 'mistaken': 3401, 'infect': 3402, 'domest': 3403, 'prejudic': 3404, 'mickey': 3405, 'celluloid': 3406, 'collaps': 3407, 'saga': 3408, 'repuls': 3409, 'solo': 3410, 'jeffrey': 3411, 'paus': 3412, 'pun': 3413, 'homer': 3414, 'marshal': 3415, 'coat': 3416, 'milk': 3417, 'cake': 3418, 'apolog': 3419, 'coffe': 3420, 'hbo': 3421, 'chest': 3422, 'sore': 3423, 'olivi': 3424, 'gear': 3425, 'assembl': 3426, 'harvey': 3427, '1996': 3428, 'inappropri': 3429, 'promin': 3430, 'pant': 3431, 'equip': 3432, 'undoubtedli': 3433, 'leon': 3434, 'interrupt': 3435, 'inan': 3436, 'ginger': 3437, 'tribe': 3438, 'institut': 3439, 'pot': 3440, 'colonel': 3441, 'brooklyn': 3442, 'solut': 3443, 'humbl': 3444, 'primari': 3445, 'colleagu': 3446, 'airplan': 3447, 'maggi': 3448, 'exot': 3449, 'vulgar': 3450, 'florida': 3451, 'aveng': 3452, 'pen': 3453, 'furthermor': 3454, 'embrac': 3455, 'instant': 3456, 'trace': 3457, 'devast': 3458, 'highest': 3459, 'retain': 3460, 'polanski': 3461, 'consum': 3462, 'jenni': 3463, 'principl': 3464, 'poke': 3465, 'strain': 3466, 'smaller': 3467, 'godzilla': 3468, 'wive': 3469, 'outer': 3470, 'ya': 3471, 'gender': 3472, '3rd': 3473, 'sale': 3474, 'seduct': 3475, 'descend': 3476, 'dian': 3477, 'illog': 3478, 'cope': 3479, 'disabl': 3480, '1999': 3481, 'rick': 3482, 'dutch': 3483, 'bowl': 3484, 'linda': 3485, 'vast': 3486, 'blatant': 3487, 'lol': 3488, 'scope': 3489, 'secondli': 3490, 'yard': 3491, 'dud': 3492, 'dive': 3493, 'glamor': 3494, 'devoid': 3495, 'hal': 3496, 'predecessor': 3497, 'inferior': 3498, 'mixtur': 3499, 'cue': 3500, 'gloriou': 3501, 'rabbit': 3502, 'primarili': 3503, 'bubbl': 3504, 'beneath': 3505, 'gundam': 3506, 'pearl': 3507, 'casual': 3508, 'breed': 3509, 'alert': 3510, 'shelf': 3511, 'arab': 3512, 'myer': 3513, 'trademark': 3514, 'museum': 3515, 'countrysid': 3516, 'alfr': 3517, 'streep': 3518, 'z': 3519, 'talki': 3520, 'et': 3521, 'domino': 3522, 'hideou': 3523, 'senseless': 3524, 'simplist': 3525, 'invas': 3526, 'aggress': 3527, 'grinch': 3528, 'april': 3529, 'shirley': 3530, 'disjoint': 3531, 'garbo': 3532, 'applaud': 3533, 'sh': 3534, 'stir': 3535, 'hopeless': 3536, 'loyal': 3537, 'slide': 3538, 'experiment': 3539, 'stack': 3540, 'illeg': 3541, 'mayor': 3542, 'acid': 3543, 'vanish': 3544, 'stellar': 3545, 'oz': 3546, 'boom': 3547, 'obtain': 3548, 'maci': 3549, 'uwe': 3550, 'robinson': 3551, 'khan': 3552, 'rendit': 3553, 'robberi': 3554, 'unhappi': 3555, 'hardcor': 3556, 'disgrac': 3557, 'mail': 3558, 'defens': 3559, 'counter': 3560, 'span': 3561, 'tenant': 3562, 'topless': 3563, 'psychic': 3564, 'fri': 3565, 'wont': 3566, 'incomprehens': 3567, 'diana': 3568, 'recruit': 3569, 'craze': 3570, 'declin': 3571, 'hartley': 3572, 'grandfath': 3573, 'soccer': 3574, 'dicken': 3575, 'scroog': 3576, 'emphasi': 3577, 'dismiss': 3578, 'tempt': 3579, 'rifl': 3580, 'blew': 3581, 'spider': 3582, 'berlin': 3583, 'amanda': 3584, 'porno': 3585, 'faster': 3586, 'riot': 3587, 'ration': 3588, 'wet': 3589, 'resurrect': 3590, 'shed': 3591, 'sibl': 3592, 'ethnic': 3593, 'trashi': 3594, 'bitch': 3595, 'goer': 3596, 'woo': 3597, 'justin': 3598, 'intim': 3599, 'lumet': 3600, 'niro': 3601, 'sympath': 3602, 'parad': 3603, 'revolt': 3604, 'shaw': 3605, 'hopper': 3606, 'weakest': 3607, 'unreal': 3608, 'steam': 3609, '00': 3610, 'region': 3611, 'feminist': 3612, 'ensur': 3613, 'partial': 3614, 'wheel': 3615, 'worm': 3616, 'jonathan': 3617, 'immort': 3618, 'eager': 3619, 'farmer': 3620, 'slick': 3621, 'biographi': 3622, 'hesit': 3623, 'gap': 3624, 'nephew': 3625, 'patriot': 3626, 'enlighten': 3627, 'honesti': 3628, 'dealer': 3629, 'choru': 3630, 'rider': 3631, 'ballet': 3632, 'lena': 3633, 'mario': 3634, 'commend': 3635, 'wendi': 3636, 'andr': 3637, 'util': 3638, 'blunt': 3639, 'leo': 3640, 'victori': 3641, 'safeti': 3642, 'charlott': 3643, 'kingdom': 3644, 'repress': 3645, 'similarli': 3646, 'sappi': 3647, 'snap': 3648, 'franco': 3649, 'sandra': 3650, 'properti': 3651, 'vice': 3652, 'confin': 3653, 'nostalg': 3654, 'morri': 3655, 'wore': 3656, 'psychopath': 3657, 'owen': 3658, 'hung': 3659, 'skull': 3660, 'mutant': 3661, 'prequel': 3662, 'macarthur': 3663, 'composit': 3664, 'bonu': 3665, 'bergman': 3666, 'pattern': 3667, 'compass': 3668, 'rope': 3669, 'exit': 3670, 'dust': 3671, 'tad': 3672, 'drain': 3673, 'compens': 3674, 'miseri': 3675, 'acquir': 3676, 'recycl': 3677, 'heartbreak': 3678, 'bow': 3679, '1972': 3680, 'cg': 3681, 'valuabl': 3682, 'dalton': 3683, 'drum': 3684, 'hyde': 3685, 'rocki': 3686, 'latin': 3687, 'nervou': 3688, 'thru': 3689, 'snl': 3690, 'despair': 3691, 'bumbl': 3692, 'kyle': 3693, 'strand': 3694, 'repli': 3695, 'speci': 3696, 'campbel': 3697, 'rambl': 3698, 'farrel': 3699, 'whoopi': 3700, 'del': 3701, 'deed': 3702, 'montana': 3703, 'tail': 3704, 'emperor': 3705, 'gimmick': 3706, 'rapist': 3707, 'percept': 3708, 'tonight': 3709, 'gal': 3710, 'wacki': 3711, 'downhil': 3712, 'rotten': 3713, 'contempl': 3714, 'olli': 3715, '35': 3716, 'pour': 3717, 'martian': 3718, 'airport': 3719, 'romp': 3720, 'mistress': 3721, 'roth': 3722, 'orson': 3723, 'oppress': 3724, 'carradin': 3725, 'bleed': 3726, 'da': 3727, 'radic': 3728, 'chess': 3729, 'slug': 3730, 'taught': 3731, 'pervers': 3732, 'paltrow': 3733, 'arc': 3734, 'stilt': 3735, 'pervert': 3736, 'unpredict': 3737, 'champion': 3738, 'shelley': 3739, '1983': 3740, 'preach': 3741, 'tackl': 3742, 'pursuit': 3743, 'dazzl': 3744, 'heal': 3745, 'slash': 3746, 'edgar': 3747, 'banal': 3748, 'belt': 3749, 'attorney': 3750, 'tooth': 3751, 'programm': 3752, 'mislead': 3753, 'melodi': 3754, 'arguabl': 3755, 'graham': 3756, 'raymond': 3757, 'dixon': 3758, 'vocal': 3759, 'mesmer': 3760, 'marti': 3761, 'virginia': 3762, 'orang': 3763, 'tiresom': 3764, 'sensat': 3765, 'gambl': 3766, 'vengeanc': 3767, 'bela': 3768, 'maid': 3769, 'poem': 3770, 'employe': 3771, 'conneri': 3772, 'closest': 3773, 'uplift': 3774, 'passeng': 3775, 'cleverli': 3776, 'duval': 3777, 'rubi': 3778, 'franki': 3779, 'chicken': 3780, 'plight': 3781, 'profan': 3782, 'extens': 3783, 'giggl': 3784, 'outing': 3785, 'mute': 3786, 'crystal': 3787, 'calm': 3788, 'inject': 3789, 'engross': 3790, 'gerard': 3791, 'whine': 3792, 'numb': 3793, 'suffic': 3794, 'scottish': 3795, 'convincingli': 3796, 'yawn': 3797, 'quarter': 3798, 'clone': 3799, 'tube': 3800, 'volum': 3801, 'habit': 3802, 'climact': 3803, 'monologu': 3804, 'iran': 3805, 'abraham': 3806, '1968': 3807, 'secretli': 3808, 'amitabh': 3809, 'paranoia': 3810, 'sirk': 3811, 'bay': 3812, 'pokemon': 3813, 'lundgren': 3814, 'swallow': 3815, 'franci': 3816, 'taxi': 3817, 'chicago': 3818, 'austen': 3819, 'junior': 3820, 'ethan': 3821, 'im': 3822, 'fed': 3823, 'abort': 3824, 'lowest': 3825, 'earl': 3826, 'expand': 3827, 'plod': 3828, 'nichola': 3829, 'backward': 3830, 'grotesqu': 3831, 'dispos': 3832, 'poetri': 3833, 'bend': 3834, 'trend': 3835, 'meander': 3836, 'frankenstein': 3837, 'underst': 3838, 'septemb': 3839, 'linger': 3840, 'spock': 3841, 'richardson': 3842, 'surpass': 3843, 'profess': 3844, 'hum': 3845, 'spoke': 3846, 'myth': 3847, 'simplic': 3848, 'waitress': 3849, 'stallon': 3850, 'der': 3851, 'nostalgia': 3852, 'descent': 3853, 'literatur': 3854, 'tourist': 3855, 'instrument': 3856, 'econom': 3857, 'greedi': 3858, 'catchi': 3859, 'dysfunct': 3860, 'sue': 3861, 'eugen': 3862, 'household': 3863, 'rant': 3864, 'lure': 3865, 'compliment': 3866, 'rubber': 3867, 'cannon': 3868, 'muddl': 3869, 'mundan': 3870, 'occupi': 3871, 'firstli': 3872, 'phoni': 3873, 'insur': 3874, 'bacal': 3875, 'alongsid': 3876, 'map': 3877, 'dement': 3878, 'hello': 3879, 'cent': 3880, 'omen': 3881, 'recognis': 3882, 'lang': 3883, 'mortal': 3884, 'flee': 3885, 'dictat': 3886, 'coast': 3887, 'equival': 3888, 'crucial': 3889, 'sissi': 3890, 'molli': 3891, 'eaten': 3892, 'june': 3893, 'recognit': 3894, 'damon': 3895, 'phantom': 3896, 'mankind': 3897, 'irrelev': 3898, 'stale': 3899, 'deaf': 3900, 'louis': 3901, 'carel': 3902, 'randi': 3903, 'furi': 3904, 'duck': 3905, 'rooney': 3906, 'twilight': 3907, 'likewis': 3908, 'newli': 3909, 'drake': 3910, 'loyalti': 3911, 'grayson': 3912, 'rude': 3913, 'dreari': 3914, 'ashley': 3915, 'bike': 3916, 'labor': 3917, 'blackmail': 3918, 'reign': 3919, '1973': 3920, 'wisdom': 3921, 'lengthi': 3922, 'heel': 3923, 'distinguish': 3924, 'freez': 3925, 'onlin': 3926, 'bump': 3927, 'damm': 3928, 'cyborg': 3929, 'buffalo': 3930, 'daisi': 3931, 'biko': 3932, 'antwon': 3933, 'pink': 3934, 'vein': 3935, 'startl': 3936, 'exposur': 3937, 'unorigin': 3938, 'inher': 3939, 'interior': 3940, 'sailor': 3941, 'nineti': 3942, 'butler': 3943, 'prey': 3944, 'boxer': 3945, 'approv': 3946, 'proce': 3947, 'attribut': 3948, 'worn': 3949, 'chronicl': 3950, 'incorpor': 3951, 'baddi': 3952, 'tunnel': 3953, 'keith': 3954, 'barrymor': 3955, 'ridden': 3956, 'analysi': 3957, 'provoc': 3958, 'emphas': 3959, 'basketbal': 3960, 'condemn': 3961, 'belushi': 3962, 'nicol': 3963, 'unrel': 3964, 'walsh': 3965, 'er': 3966, 'julian': 3967, 'underli': 3968, 'hypnot': 3969, 'undeni': 3970, 'indiffer': 3971, 'othello': 3972, 'substitut': 3973, 'robbin': 3974, 'simmon': 3975, 'meyer': 3976, 'fleet': 3977, 'mighti': 3978, 'elm': 3979, 'bunni': 3980, 'barrel': 3981, 'millionair': 3982, 'meg': 3983, 'stalker': 3984, 'drift': 3985, 'predat': 3986, 'improvis': 3987, 'degrad': 3988, 'mormon': 3989, 'carla': 3990, 'marion': 3991, 'palac': 3992, 'firm': 3993, 'enthusiasm': 3994, 'lampoon': 3995, 'reid': 3996, 'watson': 3997, 'mtv': 3998, 'dolph': 3999, 'edgi': 4000, 'warmth': 4001, 'shove': 4002, 'greed': 4003, 'agenda': 4004, 'unawar': 4005, 'alarm': 4006, 'rukh': 4007, 'hay': 4008, '3d': 4009, 'priceless': 4010, 'vital': 4011, 'nyc': 4012, 'roof': 4013, 'novak': 4014, 'disord': 4015, 'errol': 4016, 'exquisit': 4017, 'alison': 4018, 'spain': 4019, 'randomli': 4020, 'session': 4021, 'peck': 4022, 'israel': 4023, 'what': 4024, 'campaign': 4025, 'crown': 4026, 'preserv': 4027, 'peril': 4028, 'nun': 4029, 'drip': 4030, 'showdown': 4031, 'eastern': 4032, '13th': 4033, 'glanc': 4034, 'petti': 4035, 'distort': 4036, 'thompson': 4037, 'orlean': 4038, 'gestur': 4039, '1933': 4040, 'unleash': 4041, 'pamela': 4042, 'angela': 4043, 'profit': 4044, 'ponder': 4045, 'beatl': 4046, 'simultan': 4047, 'minimum': 4048, 'coup': 4049, 'sergeant': 4050, 'iraq': 4051, 'valentin': 4052, 'testament': 4053, 'championship': 4054, 'cassidi': 4055, 'zizek': 4056, 'crow': 4057, 'valley': 4058, 'mon': 4059, 'rout': 4060, 'empathi': 4061, 'wig': 4062, 'jan': 4063, 'scotland': 4064, 'miyazaki': 4065, 'quinn': 4066, 'exposit': 4067, 'brenda': 4068, 'realm': 4069, '1984': 4070, 'gentleman': 4071, 'stake': 4072, 'sabrina': 4073, 'perpetu': 4074, 'buster': 4075, 'cooki': 4076, 'unimagin': 4077, 'reson': 4078, 'crawl': 4079, 'cream': 4080, 'contradict': 4081, 'bro': 4082, 'kurosawa': 4083, 'shootout': 4084, 'climat': 4085, 'represent': 4086, 'stroke': 4087, 'han': 4088, 'din': 4089, 'restrain': 4090, 'fido': 4091, 'regist': 4092, 'calib': 4093, 'travesti': 4094, 'ross': 4095, '1987': 4096, 'delic': 4097, 'baldwin': 4098, 'distress': 4099, 'sammi': 4100, 'josh': 4101, 'warrant': 4102, 'businessman': 4103, 'ustinov': 4104, 'passabl': 4105, 'compromis': 4106, 'wax': 4107, 'cloud': 4108, 'traumat': 4109, 'unsatisfi': 4110, 'painter': 4111, 'sucker': 4112, 'soderbergh': 4113, 'tacki': 4114, 'absent': 4115, 'femm': 4116, 'greg': 4117, 'fuller': 4118, 'shoddi': 4119, 'crawford': 4120, 'pretens': 4121, 'meryl': 4122, 'censor': 4123, 'pole': 4124, 'shaki': 4125, 'mclaglen': 4126, 'unseen': 4127, 'derang': 4128, '1997': 4129, 'abomin': 4130, 'monoton': 4131, 'perceiv': 4132, 'dana': 4133, 'demis': 4134, 'geek': 4135, 'spacey': 4136, 'darren': 4137, 'stargat': 4138, 'reluct': 4139, 'wholli': 4140, 'tech': 4141, 'primit': 4142, 'deceas': 4143, 'verbal': 4144, 'sid': 4145, 'valid': 4146, 'fenc': 4147, 'clash': 4148, 'norm': 4149, 'exclus': 4150, '1993': 4151, 'fog': 4152, 'expedit': 4153, 'anchor': 4154, 'jewel': 4155, 'tarantino': 4156, 'furiou': 4157, 'kumar': 4158, 'unravel': 4159, 'judgment': 4160, 'accuraci': 4161, 'deniro': 4162, 'correctli': 4163, 'austin': 4164, 'seal': 4165, 'polici': 4166, 'dee': 4167, 'click': 4168, 'uncov': 4169, 'nathan': 4170, 'antonioni': 4171, 'trait': 4172, 'temper': 4173, 'roller': 4174, '3000': 4175, 'unfair': 4176, 'conduct': 4177, 'seldom': 4178, '1971': 4179, 'ritual': 4180, 'joel': 4181, 'slam': 4182, 'bake': 4183, '2008': 4184, 'malon': 4185, 'logan': 4186, 'vanc': 4187, 'sheet': 4188, 'mode': 4189, 'sand': 4190, 'dreck': 4191, 'pocket': 4192, 'tax': 4193, 'wang': 4194, 'wretch': 4195, 'fought': 4196, 'darn': 4197, 'fart': 4198, '1995': 4199, 'crippl': 4200, 'behold': 4201, 'clerk': 4202, 'fabric': 4203, 'hallucin': 4204, 'murray': 4205, 'debt': 4206, 'alec': 4207, 'enforc': 4208, 'shanghai': 4209, 'sustain': 4210, 'sunni': 4211, 'nicola': 4212, 'patienc': 4213, 'bridget': 4214, 'runner': 4215, 'exhaust': 4216, 'squad': 4217, 'critiqu': 4218, 'sweep': 4219, 'soup': 4220, 'helpless': 4221, 'guitar': 4222, 'scriptwrit': 4223, 'despis': 4224, 'outlin': 4225, 'conscious': 4226, 'preposter': 4227, 'fundament': 4228, 'legaci': 4229, 'penni': 4230, 'stuart': 4231, 'clau': 4232, 'phil': 4233, 'robber': 4234, 'schedul': 4235, 'isabel': 4236, 'grief': 4237, 'shell': 4238, 'technicolor': 4239, 'bias': 4240, 'rita': 4241, 'preston': 4242, 'stark': 4243, 'canyon': 4244, 'pete': 4245, 'divid': 4246, 'tactic': 4247, 'propos': 4248, 'agenc': 4249, 'palanc': 4250, 'gregori': 4251, 'russia': 4252, 'culmin': 4253, 'connor': 4254, 'delv': 4255, 'liberti': 4256, 'unexpectedli': 4257, 'implic': 4258, 'consciou': 4259, 'kansa': 4260, 'jodi': 4261, 'invad': 4262, 'sugar': 4263, 'restrict': 4264, 'drove': 4265, 'alicia': 4266, 'cigarett': 4267, 'newman': 4268, 'inabl': 4269, 'lacklust': 4270, 'flair': 4271, 'downey': 4272, 'rear': 4273, 'bloom': 4274, 'marc': 4275, 'passag': 4276, 'jacket': 4277, 'vomit': 4278, 'alley': 4279, 'sentinel': 4280, 'boyl': 4281, 'sniper': 4282, 'rehash': 4283, 'sharon': 4284, 'pale': 4285, 'vet': 4286, '22': 4287, 'lush': 4288, 'aesthet': 4289, 'rampag': 4290, 'awhil': 4291, 'feat': 4292, 'bacon': 4293, 'wrench': 4294, 'rod': 4295, 'behaviour': 4296, 'ladder': 4297, 'delet': 4298, 'mccoy': 4299, 'karl': 4300, 'yeti': 4301, 'improb': 4302, 'tripe': 4303, '1936': 4304, 'asylum': 4305, 'arrow': 4306, 'tendenc': 4307, 'horn': 4308, 'cap': 4309, 'foxx': 4310, 'chainsaw': 4311, 'kolchak': 4312, 'rehears': 4313, 'amazon': 4314, 'stream': 4315, '1988': 4316, 'rumor': 4317, 'suspicion': 4318, 'globe': 4319, '1920': 4320, '19th': 4321, 'sung': 4322, 'weav': 4323, 'paradis': 4324, 'tasteless': 4325, '1978': 4326, 'hackney': 4327, 'filler': 4328, 'visitor': 4329, 'hungri': 4330, 'spice': 4331, 'tomorrow': 4332, 'paramount': 4333, 'lurk': 4334, 'suffici': 4335, 'newcom': 4336, 'conscienc': 4337, 'scoop': 4338, 'financ': 4339, 'basing': 4340, 'shortcom': 4341, 'rhythm': 4342, 'elit': 4343, 'prank': 4344, 'loneli': 4345, 'minu': 4346, 'hulk': 4347, 'el': 4348, 'coaster': 4349, 'underneath': 4350, 'wildli': 4351, 'aristocrat': 4352, 'fright': 4353, 'wagner': 4354, 'thunderbird': 4355, 'entranc': 4356, 'immers': 4357, 'recogniz': 4358, 'impos': 4359, 'teas': 4360, 'straightforward': 4361, 'iv': 4362, '1989': 4363, '75': 4364, 'lectur': 4365, 'secondari': 4366, 'atroc': 4367, 'tierney': 4368, 'paxton': 4369, 'abrupt': 4370, 'standout': 4371, 'heist': 4372, 'penn': 4373, 'en': 4374, 'chamberlain': 4375, 'posey': 4376, 'minist': 4377, 'counterpart': 4378, 'dirt': 4379, 'rub': 4380, 'choppi': 4381, 'couch': 4382, '1939': 4383, 'literari': 4384, 'beverli': 4385, 'ram': 4386, 'smell': 4387, 'naughti': 4388, 'leigh': 4389, 'quietli': 4390, 'cancer': 4391, 'ingeni': 4392, 'inmat': 4393, 'brit': 4394, 'curli': 4395, 'bread': 4396, 'grudg': 4397, 'hopkin': 4398, 'chavez': 4399, 'worship': 4400, 'springer': 4401, 'wwe': 4402, 'skeptic': 4403, 'entitl': 4404, '1986': 4405, 'geni': 4406, 'nemesi': 4407, 'variat': 4408, 'morbid': 4409, 'yearn': 4410, 'moreov': 4411, 'transcend': 4412, 'net': 4413, 'cattl': 4414, 'sassi': 4415, 'laurenc': 4416, 'ratso': 4417, 'duel': 4418, 'ace': 4419, 'lindsay': 4420, 'enthral': 4421, 'watcher': 4422, 'bernard': 4423, 'attenborough': 4424, 'policeman': 4425, 'heartfelt': 4426, 'clan': 4427, 'missil': 4428, 'quaid': 4429, 'nolan': 4430, 'convert': 4431, 'sublim': 4432, 'injuri': 4433, 'esther': 4434, 'misguid': 4435, 'tyler': 4436, 'moder': 4437, 'graini': 4438, 'characteris': 4439, 'setup': 4440, 'diari': 4441, 'kidman': 4442, 'unexplain': 4443, '1979': 4444, 'reliabl': 4445, 'cruelti': 4446, 'bye': 4447, 'mytholog': 4448, 'bean': 4449, 'spiral': 4450, 'out': 4451, 'grin': 4452, 'hk': 4453, 'steadi': 4454, 'enabl': 4455, 'hopelessli': 4456, 'kitti': 4457, 'youngest': 4458, 'buzz': 4459, 'uncut': 4460, 'dont': 4461, 'egg': 4462, 'facil': 4463, 'brood': 4464, 'rosemari': 4465, 'obstacl': 4466, 'vader': 4467, 'artsi': 4468, 'poe': 4469, 'puppi': 4470, 'carlito': 4471, 'oblig': 4472, 'bounc': 4473, 'gina': 4474, 'niec': 4475, 'despic': 4476, 'christin': 4477, 'sweat': 4478, 'hammi': 4479, 'athlet': 4480, 'exterior': 4481, 'martha': 4482, 'underworld': 4483, 'fuel': 4484, '1969': 4485, 'heap': 4486, 'acquaint': 4487, 'weather': 4488, 'baffl': 4489, 'hain': 4490, 'bewar': 4491, 'effici': 4492, 'clueless': 4493, 'patricia': 4494, 'kline': 4495, 'spontan': 4496, 'preming': 4497, 'disastr': 4498, 'decept': 4499, 'gillian': 4500, 'bronson': 4501, 'narrow': 4502, 'brendan': 4503, 'circu': 4504, 'astound': 4505, 'housewif': 4506, 'sleepwalk': 4507, 'renaiss': 4508, 'candl': 4509, 'harmless': 4510, 'loath': 4511, '19': 4512, 'lester': 4513, 'angst': 4514, 'virtu': 4515, 'loi': 4516, 'shatter': 4517, 'analyz': 4518, 'rome': 4519, 'biker': 4520, 'enlist': 4521, 'sooner': 4522, 'outlaw': 4523, 'dilemma': 4524, 'scar': 4525, 'mayhem': 4526, 'taboo': 4527, 'viewpoint': 4528, 'trigger': 4529, 'preachi': 4530, 'insipid': 4531, 'tick': 4532, 'dandi': 4533, 'uh': 4534, 'mermaid': 4535, '73': 4536, 'suprem': 4537, 'hepburn': 4538, 'headach': 4539, 'injur': 4540, 'goof': 4541, 'fontain': 4542, 'surgeri': 4543, 'phenomenon': 4544, 'idol': 4545, 'boston': 4546, 'glorifi': 4547, 'intric': 4548, 'oldest': 4549, 'hostag': 4550, 'steer': 4551, 'hokey': 4552, 'stimul': 4553, 'spade': 4554, 'claustrophob': 4555, 'amor': 4556, 'salt': 4557, 'dismal': 4558, 'stair': 4559, 'camcord': 4560, 'whore': 4561, 'redund': 4562, 'zoom': 4563, 'foolish': 4564, 'tripl': 4565, 'slimi': 4566, 'scorses': 4567, 'dish': 4568, 'fluff': 4569, 'overlong': 4570, 'gere': 4571, 'cassavet': 4572, 'contempt': 4573, 'bent': 4574, 'sox': 4575, 'macho': 4576, 'ebert': 4577, 'guin': 4578, 'filth': 4579, 'immatur': 4580, 'ariel': 4581, 'hooker': 4582, 'corbett': 4583, 'preced': 4584, 'faint': 4585, 'dwarf': 4586, 'cohen': 4587, 'flashi': 4588, 'margin': 4589, 'strongest': 4590, 'antagonist': 4591, 'nolt': 4592, 'perman': 4593, 'cush': 4594, 'beard': 4595, 'proport': 4596, 'spree': 4597, 'widescreen': 4598, 'shred': 4599, 'corman': 4600, 'spinal': 4601, 'schlock': 4602, 'keen': 4603, 'assert': 4604, 'conquer': 4605, 'shield': 4606, 'joker': 4607, '1976': 4608, 'obligatori': 4609, 'down': 4610, 'cow': 4611, 'astronaut': 4612, 'zane': 4613, 'messi': 4614, 'flirt': 4615, '1981': 4616, 'trivia': 4617, 'rhyme': 4618, 'transplant': 4619, 'harold': 4620, 'gasp': 4621, 'mount': 4622, 'mutual': 4623, 'naschi': 4624, 'flag': 4625, 'radiat': 4626, 'muscl': 4627, 'remad': 4628, 'alvin': 4629, 'fascist': 4630, 'frantic': 4631, 'gabl': 4632, 'bitten': 4633, 'vaniti': 4634, '28': 4635, 'mobil': 4636, 'strive': 4637, 'carey': 4638, 'wield': 4639, 'off': 4640, 'danish': 4641, 'info': 4642, '95': 4643, 'mol': 4644, 'archiv': 4645, 'raj': 4646, 'persuad': 4647, 'bachelor': 4648, 'divin': 4649, 'departur': 4650, 'barn': 4651, 'interestingli': 4652, 'scandal': 4653, 'repris': 4654, 'someday': 4655, 'fishburn': 4656, 'brush': 4657, '1945': 4658, 'www': 4659, 'resum': 4660, 'hara': 4661, 'boob': 4662, 'ritchi': 4663, 'sensual': 4664, 'neurot': 4665, 'instruct': 4666, 'triangl': 4667, 'claud': 4668, 'inflict': 4669, 'aborigin': 4670, 'discern': 4671, 'deer': 4672, 'flock': 4673, 'pixar': 4674, 'banter': 4675, 'artwork': 4676, 'vibrant': 4677, 'undermin': 4678, 'biblic': 4679, 'recit': 4680, 'dame': 4681, 'dylan': 4682, 'submit': 4683, 'proclaim': 4684, 'hapless': 4685, 'harrison': 4686, 'loretta': 4687, 'prophet': 4688, 'cliffhang': 4689, 'jade': 4690, 'traffic': 4691, 'neill': 4692, 'axe': 4693, 'anton': 4694, 'bate': 4695, 'cher': 4696, 'luka': 4697, 'pickford': 4698, 'cycl': 4699, 'wendigo': 4700, 'carlo': 4701, 'hilar': 4702, 'rot': 4703, 'pacif': 4704, 'melissa': 4705, 'colin': 4706, 'senior': 4707, 'hug': 4708, 'dim': 4709, 'fragil': 4710, 'cb': 4711, 'clad': 4712, 'earnest': 4713, 'parson': 4714, 'ish': 4715, 'miracul': 4716, 'casino': 4717, 'mobster': 4718, 'helm': 4719, 'timberlak': 4720, 'heartwarm': 4721, 'europa': 4722, 'kathryn': 4723, 'frontier': 4724, 'mason': 4725, 'lui': 4726, 'foil': 4727, 'vile': 4728, 'akin': 4729, 'flavor': 4730, 'orphan': 4731, 'feast': 4732, 'razor': 4733, 'isra': 4734, 'redneck': 4735, 'venom': 4736, 'jo': 4737, 'antholog': 4738, 'blatantli': 4739, 'holocaust': 4740, 'illus': 4741, 'misfortun': 4742, 'electron': 4743, 'wardrob': 4744, 'northern': 4745, 'lucil': 4746, 'uma': 4747, 'pc': 4748, 'milo': 4749, 'jordan': 4750, 'bondag': 4751, 'choke': 4752, 'eli': 4753, 'aris': 4754, 'toronto': 4755, 'cerebr': 4756, 'marlon': 4757, 'vanessa': 4758, 'sicken': 4759, 'rooki': 4760, 'static': 4761, 'estrang': 4762, 'http': 4763, 'mathieu': 4764, 'token': 4765, 'seedi': 4766, 'alexandr': 4767, 'shepherd': 4768, 'breakfast': 4769, 'articl': 4770, 'legitim': 4771, 'bikini': 4772, 'winchest': 4773, 'nope': 4774, 'trier': 4775, 'nightclub': 4776, 'smack': 4777, 'glare': 4778, 'swept': 4779, 'turd': 4780, 'boyer': 4781, 'feminin': 4782, 'fifth': 4783, 'huston': 4784, 'ceremoni': 4785, 'disregard': 4786, 'deem': 4787, 'knightley': 4788, 'comprehend': 4789, 'retriev': 4790, 'styliz': 4791, 'audrey': 4792, 'shorter': 4793, 'affleck': 4794, 'charlton': 4795, 'clinic': 4796, 'outdat': 4797, 'magician': 4798, 'peer': 4799, 'gunga': 4800, 'psych': 4801, 'dudley': 4802, 'howl': 4803, 'wrestler': 4804, 'gilbert': 4805, 'leather': 4806, 'oppon': 4807, 'tack': 4808, 'abund': 4809, 'cartoonish': 4810, 'linear': 4811, 'highway': 4812, 'ideolog': 4813, 'frog': 4814, 'breakdown': 4815, 'boo': 4816, 'client': 4817, 'salman': 4818, 'evolut': 4819, 'compris': 4820, 'potter': 4821, 'snatch': 4822, 'senat': 4823, '1994': 4824, 'sleaz': 4825, 'energet': 4826, 'cemeteri': 4827, 'collector': 4828, 'spawn': 4829, 'whack': 4830, 'conrad': 4831, 'greet': 4832, 'corn': 4833, 'einstein': 4834, 'spine': 4835, 'monument': 4836, 'cuban': 4837, 'lavish': 4838, 'tara': 4839, 'mitch': 4840, 'btw': 4841, '1991': 4842, 'bastard': 4843, 'lighter': 4844, 'phenomen': 4845, 'summar': 4846, 'plate': 4847, 'durat': 4848, 'toe': 4849, 'chip': 4850, 'bogu': 4851, '4th': 4852, 'moe': 4853, 'lifeless': 4854, 'braveheart': 4855, 'newer': 4856, 'deliver': 4857, 'goldsworthi': 4858, 'uniformli': 4859, 'signal': 4860, 'kazan': 4861, 'bulk': 4862, '1974': 4863, 'nina': 4864, 'firmli': 4865, 'healthi': 4866, 'lex': 4867, 'undertak': 4868, 'replay': 4869, 'neatli': 4870, 'occup': 4871, 'luxuri': 4872, 'fluid': 4873, 'mcqueen': 4874, 'cecil': 4875, 'constitut': 4876, 'kent': 4877, 'belli': 4878, '1977': 4879, 'liu': 4880, 'spectacl': 4881, 'pronounc': 4882, 'jule': 4883, 'bori': 4884, 'judd': 4885, 'wtf': 4886, 'sorrow': 4887, 'jam': 4888, 'appl': 4889, 'historian': 4890, 'trauma': 4891, 'ie': 4892, 'armstrong': 4893, 'inaccuraci': 4894, 'gilliam': 4895, 'alleg': 4896, 'undead': 4897, 'randolph': 4898, 'outright': 4899, 'creek': 4900, 'jedi': 4901, 'eleven': 4902, 'jare': 4903, 'embark': 4904, 'ol': 4905, 'capot': 4906, 'clara': 4907, 'evelyn': 4908, 'palm': 4909, 'basket': 4910, 'propheci': 4911, 'subtli': 4912, 'forgiven': 4913, 'walt': 4914, 'pioneer': 4915, 'sidewalk': 4916, 'ash': 4917, 'unattract': 4918, 'pepper': 4919, 'abound': 4920, 'sacrif': 4921, 'curtain': 4922, 'genet': 4923, 'groan': 4924, 'comprehens': 4925, 'antonio': 4926, 'meal': 4927, 'miniseri': 4928, 'miami': 4929, 'decapit': 4930, 'unsuspect': 4931, 'relentless': 4932, 'cape': 4933, 'blur': 4934, 'knee': 4935, '1985': 4936, 'galaxi': 4937, 'lauren': 4938, 'tokyo': 4939, 'spray': 4940, 'carmen': 4941, 'congratul': 4942, 'truman': 4943, 'roar': 4944, 'comb': 4945, 'inclus': 4946, 'fruit': 4947, 'porter': 4948, 'inaccur': 4949, 'aussi': 4950, 'bait': 4951, 'bsg': 4952, 'conan': 4953, 'mum': 4954, 'paula': 4955, 'rosario': 4956, 'poker': 4957, 'goldblum': 4958, 'vain': 4959, 'vignett': 4960, 'id': 4961, 'lanc': 4962, 'kiddi': 4963, 'evan': 4964, 'mice': 4965, 'growth': 4966, 'hostil': 4967, 'ghetto': 4968, 'monti': 4969, 'handicap': 4970, 'verg': 4971, 'macabr': 4972, 'ingrid': 4973, 'playboy': 4974, 'asset': 4975, '21st': 4976, 'rapidli': 4977, 'weari': 4978, 'cypher': 4979, 'reincarn': 4980, 'motorcycl': 4981, 'masterson': 4982, 'modest': 4983, 'spill': 4984, 'dubiou': 4985, 'profil': 4986, 'detach': 4987, 'sparkl': 4988, 'assort': 4989, 'hackman': 4990, 'sophi': 4991, 'scariest': 4992, 'victorian': 4993, 'frontal': 4994, 'bach': 4995, 'orchestr': 4996, 'turtl': 4997, 'vastli': 4998, 'casper': 4999}\n"
     ]
    }
   ],
   "source": [
    "word_dict = build_dict(train_X)\n",
    "print(word_dict)"
   ]
  },
  {
   "cell_type": "markdown",
   "metadata": {},
   "source": [
    "**Question:** What are the five most frequently appearing (tokenized) words in the training set? Does it makes sense that these words appear frequently in the training set?"
   ]
  },
  {
   "cell_type": "markdown",
   "metadata": {},
   "source": [
    "**Answer:**\n",
    "The top 5 frequent words are \"movi\", \"film\", \"one\", \"like\", \"time\". It's reasonable since those words are very common words in movie comment."
   ]
  },
  {
   "cell_type": "code",
   "execution_count": 57,
   "metadata": {},
   "outputs": [
    {
     "name": "stdout",
     "output_type": "stream",
     "text": [
      "movi\n",
      "film\n",
      "one\n",
      "like\n",
      "time\n"
     ]
    }
   ],
   "source": [
    "# TODO: Use this space to determine the five most frequently appearing words in the training set.\n",
    "count = 0 \n",
    "for word, idx in word_dict.items():\n",
    "    print(word)\n",
    "    count += 1\n",
    "    if count == 5:\n",
    "        break"
   ]
  },
  {
   "cell_type": "markdown",
   "metadata": {},
   "source": [
    "### Save `word_dict`\n",
    "\n",
    "Later on when we construct an endpoint which processes a submitted review we will need to make use of the `word_dict` which we have created. As such, we will save it to a file now for future use."
   ]
  },
  {
   "cell_type": "code",
   "execution_count": 58,
   "metadata": {},
   "outputs": [],
   "source": [
    "data_dir = '../data/pytorch' # The folder we will use for storing data\n",
    "if not os.path.exists(data_dir): # Make sure that the folder exists\n",
    "    os.makedirs(data_dir)"
   ]
  },
  {
   "cell_type": "code",
   "execution_count": 59,
   "metadata": {},
   "outputs": [],
   "source": [
    "with open(os.path.join(data_dir, 'word_dict.pkl'), \"wb\") as f:\n",
    "    pickle.dump(word_dict, f)"
   ]
  },
  {
   "cell_type": "markdown",
   "metadata": {},
   "source": [
    "### Transform the reviews\n",
    "\n",
    "Now that we have our word dictionary which allows us to transform the words appearing in the reviews into integers, it is time to make use of it and convert our reviews to their integer sequence representation, making sure to pad or truncate to a fixed length, which in our case is `500`."
   ]
  },
  {
   "cell_type": "code",
   "execution_count": 60,
   "metadata": {},
   "outputs": [],
   "source": [
    "def convert_and_pad(word_dict, sentence, pad=500):\n",
    "    NOWORD = 0 # We will use 0 to represent the 'no word' category\n",
    "    INFREQ = 1 # and we use 1 to represent the infrequent words, i.e., words not appearing in word_dict\n",
    "    \n",
    "    working_sentence = [NOWORD] * pad\n",
    "    \n",
    "    for word_index, word in enumerate(sentence[:pad]):\n",
    "        if word in word_dict:\n",
    "            working_sentence[word_index] = word_dict[word]\n",
    "        else:\n",
    "            working_sentence[word_index] = INFREQ\n",
    "            \n",
    "    return working_sentence, min(len(sentence), pad)\n",
    "\n",
    "def convert_and_pad_data(word_dict, data, pad=500):\n",
    "    result = []\n",
    "    lengths = []\n",
    "    \n",
    "    for sentence in data:\n",
    "        converted, leng = convert_and_pad(word_dict, sentence, pad)\n",
    "        result.append(converted)\n",
    "        lengths.append(leng)\n",
    "        \n",
    "    return np.array(result), np.array(lengths)"
   ]
  },
  {
   "cell_type": "code",
   "execution_count": 61,
   "metadata": {},
   "outputs": [],
   "source": [
    "train_X, train_X_len = convert_and_pad_data(word_dict, train_X)\n",
    "test_X, test_X_len = convert_and_pad_data(word_dict, test_X)"
   ]
  },
  {
   "cell_type": "markdown",
   "metadata": {},
   "source": [
    "As a quick check to make sure that things are working as intended, check to see what one of the reviews in the training set looks like after having been processeed. Does this look reasonable? What is the length of a review in the training set?"
   ]
  },
  {
   "cell_type": "code",
   "execution_count": 62,
   "metadata": {},
   "outputs": [
    {
     "name": "stdout",
     "output_type": "stream",
     "text": [
      "[  47  335  329 2599   65 2396  797  372  874    2   34 2678    1  494\n",
      " 1119 1078 4057  902   59  112 1749  113    1   36  284 1198  867 1444\n",
      " 2396   55   29  162   79 1074   31    1 1198  507    1    1  199   99\n",
      "   79  329   34    1    1  185  941  181 1647   15  244  785   23  141\n",
      "  365 1425   20  319  884 1953    1  867 1096  187  283  345  588  305\n",
      "  183 1647  274 1740  736 3639  277  345  305  571  480    4 4172  785\n",
      " 1152 1022 2491   46  183    1  493 1059 1741 1769   27  254    6 1240\n",
      "    2 1647 2056 3871  370  775 4139  716   30    1    1  452 1549   60\n",
      "  462   15   12 1677  183   43  764   64  335  905  365  501  442  345\n",
      " 1454   29  107  480  548  622  183  774 3731  961  736    6  501    0\n",
      "    0    0    0    0    0    0    0    0    0    0    0    0    0    0\n",
      "    0    0    0    0    0    0    0    0    0    0    0    0    0    0\n",
      "    0    0    0    0    0    0    0    0    0    0    0    0    0    0\n",
      "    0    0    0    0    0    0    0    0    0    0    0    0    0    0\n",
      "    0    0    0    0    0    0    0    0    0    0    0    0    0    0\n",
      "    0    0    0    0    0    0    0    0    0    0    0    0    0    0\n",
      "    0    0    0    0    0    0    0    0    0    0    0    0    0    0\n",
      "    0    0    0    0    0    0    0    0    0    0    0    0    0    0\n",
      "    0    0    0    0    0    0    0    0    0    0    0    0    0    0\n",
      "    0    0    0    0    0    0    0    0    0    0    0    0    0    0\n",
      "    0    0    0    0    0    0    0    0    0    0    0    0    0    0\n",
      "    0    0    0    0    0    0    0    0    0    0    0    0    0    0\n",
      "    0    0    0    0    0    0    0    0    0    0    0    0    0    0\n",
      "    0    0    0    0    0    0    0    0    0    0    0    0    0    0\n",
      "    0    0    0    0    0    0    0    0    0    0    0    0    0    0\n",
      "    0    0    0    0    0    0    0    0    0    0    0    0    0    0\n",
      "    0    0    0    0    0    0    0    0    0    0    0    0    0    0\n",
      "    0    0    0    0    0    0    0    0    0    0    0    0    0    0\n",
      "    0    0    0    0    0    0    0    0    0    0    0    0    0    0\n",
      "    0    0    0    0    0    0    0    0    0    0    0    0    0    0\n",
      "    0    0    0    0    0    0    0    0    0    0    0    0    0    0\n",
      "    0    0    0    0    0    0    0    0    0    0    0    0    0    0\n",
      "    0    0    0    0    0    0    0    0    0    0    0    0    0    0\n",
      "    0    0    0    0    0    0    0    0    0    0    0    0    0    0\n",
      "    0    0    0    0    0    0    0    0    0    0    0    0    0    0\n",
      "    0    0    0    0    0    0    0    0    0    0]\n"
     ]
    }
   ],
   "source": [
    "# Use this cell to examine one of the processed reviews to make sure everything is working as intended.\n",
    "print(train_X[5])"
   ]
  },
  {
   "cell_type": "markdown",
   "metadata": {},
   "source": [
    "**Question:** In the cells above we use the `preprocess_data` and `convert_and_pad_data` methods to process both the training and testing set. Why or why not might this be a problem?"
   ]
  },
  {
   "cell_type": "markdown",
   "metadata": {},
   "source": [
    "**Answer:**\n",
    "It can be a problem since we only deal with the most frequent words in the word_dict, that is, other words are lost.\n",
    "For the large reviews, we can deal with the more frequent words only making the computation more efficient. However, if the review contain higher porportion of infrequent words, it will be padded with mostly 1, and it is difficult for the model to linke it with label."
   ]
  },
  {
   "cell_type": "markdown",
   "metadata": {},
   "source": [
    "## Step 3: Upload the data to S3\n",
    "\n",
    "As in the XGBoost notebook, we will need to upload the training dataset to S3 in order for our training code to access it. For now we will save it locally and we will upload to S3 later on.\n",
    "\n",
    "### Save the processed training dataset locally\n",
    "\n",
    "It is important to note the format of the data that we are saving as we will need to know it when we write the training code. In our case, each row of the dataset has the form `label`, `length`, `review[500]` where `review[500]` is a sequence of `500` integers representing the words in the review."
   ]
  },
  {
   "cell_type": "code",
   "execution_count": 63,
   "metadata": {},
   "outputs": [],
   "source": [
    "import pandas as pd\n",
    "    \n",
    "pd.concat([pd.DataFrame(train_y), pd.DataFrame(train_X_len), pd.DataFrame(train_X)], axis=1) \\\n",
    "        .to_csv(os.path.join(data_dir, 'train.csv'), header=False, index=False)"
   ]
  },
  {
   "cell_type": "markdown",
   "metadata": {},
   "source": [
    "### Uploading the training data\n",
    "\n",
    "\n",
    "Next, we need to upload the training data to the SageMaker default S3 bucket so that we can provide access to it while training our model."
   ]
  },
  {
   "cell_type": "code",
   "execution_count": 64,
   "metadata": {},
   "outputs": [],
   "source": [
    "import sagemaker\n",
    "\n",
    "sagemaker_session = sagemaker.Session()\n",
    "\n",
    "bucket = sagemaker_session.default_bucket()\n",
    "prefix = 'sagemaker/sentiment_rnn'\n",
    "\n",
    "role = sagemaker.get_execution_role()"
   ]
  },
  {
   "cell_type": "code",
   "execution_count": 65,
   "metadata": {},
   "outputs": [],
   "source": [
    "input_data = sagemaker_session.upload_data(path=data_dir, bucket=bucket, key_prefix=prefix)"
   ]
  },
  {
   "cell_type": "markdown",
   "metadata": {},
   "source": [
    "**NOTE:** The cell above uploads the entire contents of our data directory. This includes the `word_dict.pkl` file. This is fortunate as we will need this later on when we create an endpoint that accepts an arbitrary review. For now, we will just take note of the fact that it resides in the data directory (and so also in the S3 training bucket) and that we will need to make sure it gets saved in the model directory."
   ]
  },
  {
   "cell_type": "markdown",
   "metadata": {},
   "source": [
    "## Step 4: Build and Train the PyTorch Model\n",
    "\n",
    "In the XGBoost notebook we discussed what a model is in the SageMaker framework. In particular, a model comprises three objects\n",
    "\n",
    " - Model Artifacts,\n",
    " - Training Code, and\n",
    " - Inference Code,\n",
    " \n",
    "each of which interact with one another. In the XGBoost example we used training and inference code that was provided by Amazon. Here we will still be using containers provided by Amazon with the added benefit of being able to include our own custom code.\n",
    "\n",
    "We will start by implementing our own neural network in PyTorch along with a training script. For the purposes of this project we have provided the necessary model object in the `model.py` file, inside of the `train` folder. You can see the provided implementation by running the cell below."
   ]
  },
  {
   "cell_type": "code",
   "execution_count": 66,
   "metadata": {},
   "outputs": [
    {
     "name": "stdout",
     "output_type": "stream",
     "text": [
      "\u001b[34mimport\u001b[39;49;00m \u001b[04m\u001b[36mtorch.nn\u001b[39;49;00m \u001b[34mas\u001b[39;49;00m \u001b[04m\u001b[36mnn\u001b[39;49;00m\r\n",
      "\r\n",
      "\u001b[34mclass\u001b[39;49;00m \u001b[04m\u001b[32mLSTMClassifier\u001b[39;49;00m(nn.Module):\r\n",
      "    \u001b[33m\"\"\"\u001b[39;49;00m\r\n",
      "\u001b[33m    This is the simple RNN model we will be using to perform Sentiment Analysis.\u001b[39;49;00m\r\n",
      "\u001b[33m    \"\"\"\u001b[39;49;00m\r\n",
      "\r\n",
      "    \u001b[34mdef\u001b[39;49;00m \u001b[32m__init__\u001b[39;49;00m(\u001b[36mself\u001b[39;49;00m, embedding_dim, hidden_dim, vocab_size):\r\n",
      "        \u001b[33m\"\"\"\u001b[39;49;00m\r\n",
      "\u001b[33m        Initialize the model by settingg up the various layers.\u001b[39;49;00m\r\n",
      "\u001b[33m        \"\"\"\u001b[39;49;00m\r\n",
      "        \u001b[36msuper\u001b[39;49;00m(LSTMClassifier, \u001b[36mself\u001b[39;49;00m).\u001b[32m__init__\u001b[39;49;00m()\r\n",
      "\r\n",
      "        \u001b[36mself\u001b[39;49;00m.embedding = nn.Embedding(vocab_size, embedding_dim, padding_idx=\u001b[34m0\u001b[39;49;00m)\r\n",
      "        \u001b[36mself\u001b[39;49;00m.lstm = nn.LSTM(embedding_dim, hidden_dim)\r\n",
      "        \u001b[36mself\u001b[39;49;00m.dense = nn.Linear(in_features=hidden_dim, out_features=\u001b[34m1\u001b[39;49;00m)\r\n",
      "        \u001b[36mself\u001b[39;49;00m.sig = nn.Sigmoid()\r\n",
      "        \r\n",
      "        \u001b[36mself\u001b[39;49;00m.word_dict = \u001b[36mNone\u001b[39;49;00m\r\n",
      "\r\n",
      "    \u001b[34mdef\u001b[39;49;00m \u001b[32mforward\u001b[39;49;00m(\u001b[36mself\u001b[39;49;00m, x):\r\n",
      "        \u001b[33m\"\"\"\u001b[39;49;00m\r\n",
      "\u001b[33m        Perform a forward pass of our model on some input.\u001b[39;49;00m\r\n",
      "\u001b[33m        \"\"\"\u001b[39;49;00m\r\n",
      "        x = x.t()\r\n",
      "        lengths = x[\u001b[34m0\u001b[39;49;00m,:]\r\n",
      "        reviews = x[\u001b[34m1\u001b[39;49;00m:,:]\r\n",
      "        embeds = \u001b[36mself\u001b[39;49;00m.embedding(reviews)\r\n",
      "        lstm_out, _ = \u001b[36mself\u001b[39;49;00m.lstm(embeds)\r\n",
      "        out = \u001b[36mself\u001b[39;49;00m.dense(lstm_out)\r\n",
      "        out = out[lengths - \u001b[34m1\u001b[39;49;00m, \u001b[36mrange\u001b[39;49;00m(\u001b[36mlen\u001b[39;49;00m(lengths))]\r\n",
      "        \u001b[34mreturn\u001b[39;49;00m \u001b[36mself\u001b[39;49;00m.sig(out.squeeze())\r\n"
     ]
    }
   ],
   "source": [
    "!pygmentize train/model.py"
   ]
  },
  {
   "cell_type": "markdown",
   "metadata": {},
   "source": [
    "The important takeaway from the implementation provided is that there are three parameters that we may wish to tweak to improve the performance of our model. These are the embedding dimension, the hidden dimension and the size of the vocabulary. We will likely want to make these parameters configurable in the training script so that if we wish to modify them we do not need to modify the script itself. We will see how to do this later on. To start we will write some of the training code in the notebook so that we can more easily diagnose any issues that arise.\n",
    "\n",
    "First we will load a small portion of the training data set to use as a sample. It would be very time consuming to try and train the model completely in the notebook as we do not have access to a gpu and the compute instance that we are using is not particularly powerful. However, we can work on a small bit of the data to get a feel for how our training script is behaving."
   ]
  },
  {
   "cell_type": "code",
   "execution_count": 67,
   "metadata": {},
   "outputs": [],
   "source": [
    "import torch\n",
    "import torch.utils.data\n",
    "\n",
    "# Read in only the first 250 rows\n",
    "train_sample = pd.read_csv(os.path.join(data_dir, 'train.csv'), header=None, names=None, nrows=250)\n",
    "\n",
    "# Turn the input pandas dataframe into tensors\n",
    "train_sample_y = torch.from_numpy(train_sample[[0]].values).float().squeeze()\n",
    "train_sample_X = torch.from_numpy(train_sample.drop([0], axis=1).values).long()\n",
    "\n",
    "# Build the dataset\n",
    "train_sample_ds = torch.utils.data.TensorDataset(train_sample_X, train_sample_y)\n",
    "# Build the dataloader\n",
    "train_sample_dl = torch.utils.data.DataLoader(train_sample_ds, batch_size=50)"
   ]
  },
  {
   "cell_type": "markdown",
   "metadata": {},
   "source": [
    "### (TODO) Writing the training method\n",
    "\n",
    "Next we need to write the training code itself. This should be very similar to training methods that you have written before to train PyTorch models. We will leave any difficult aspects such as model saving / loading and parameter loading until a little later."
   ]
  },
  {
   "cell_type": "code",
   "execution_count": 68,
   "metadata": {},
   "outputs": [],
   "source": [
    "def train(model, train_loader, epochs, optimizer, loss_fn, device):\n",
    "    for epoch in range(1, epochs + 1):\n",
    "        model.train()\n",
    "        total_loss = 0\n",
    "        for batch in train_loader:         \n",
    "            batch_X, batch_y = batch\n",
    "            \n",
    "            batch_X = batch_X.to(device)\n",
    "            batch_y = batch_y.to(device)\n",
    "            \n",
    "            # TODO: Complete this train method to train the model provided.\n",
    "            optimizer.zero_grad()\n",
    "            out = model.forward(batch_X)\n",
    "            loss = loss_fn(out, batch_y)\n",
    "            loss.backward()\n",
    "            optimizer.step()\n",
    "            \n",
    "            total_loss += loss.data.item()\n",
    "        print(\"Epoch: {}, BCELoss: {}\".format(epoch, total_loss / len(train_loader)))"
   ]
  },
  {
   "cell_type": "markdown",
   "metadata": {},
   "source": [
    "Supposing we have the training method above, we will test that it is working by writing a bit of code in the notebook that executes our training method on the small sample training set that we loaded earlier. The reason for doing this in the notebook is so that we have an opportunity to fix any errors that arise early when they are easier to diagnose."
   ]
  },
  {
   "cell_type": "code",
   "execution_count": 69,
   "metadata": {},
   "outputs": [
    {
     "name": "stdout",
     "output_type": "stream",
     "text": [
      "Epoch: 1, BCELoss: 0.6911061882972718\n",
      "Epoch: 2, BCELoss: 0.6824513077735901\n",
      "Epoch: 3, BCELoss: 0.6753298759460449\n",
      "Epoch: 4, BCELoss: 0.6675641655921936\n",
      "Epoch: 5, BCELoss: 0.6582061171531677\n"
     ]
    }
   ],
   "source": [
    "import torch.optim as optim\n",
    "from train.model import LSTMClassifier\n",
    "\n",
    "device = torch.device(\"cuda\" if torch.cuda.is_available() else \"cpu\")\n",
    "model = LSTMClassifier(32, 100, 5000).to(device)\n",
    "optimizer = optim.Adam(model.parameters())\n",
    "loss_fn = torch.nn.BCELoss()\n",
    "\n",
    "train(model, train_sample_dl, 5, optimizer, loss_fn, device)"
   ]
  },
  {
   "cell_type": "markdown",
   "metadata": {},
   "source": [
    "In order to construct a PyTorch model using SageMaker we must provide SageMaker with a training script. We may optionally include a directory which will be copied to the container and from which our training code will be run. When the training container is executed it will check the uploaded directory (if there is one) for a `requirements.txt` file and install any required Python libraries, after which the training script will be run."
   ]
  },
  {
   "cell_type": "markdown",
   "metadata": {},
   "source": [
    "### (TODO) Training the model\n",
    "\n",
    "When a PyTorch model is constructed in SageMaker, an entry point must be specified. This is the Python file which will be executed when the model is trained. Inside of the `train` directory is a file called `train.py` which has been provided and which contains most of the necessary code to train our model. The only thing that is missing is the implementation of the `train()` method which you wrote earlier in this notebook.\n",
    "\n",
    "**TODO**: Copy the `train()` method written above and paste it into the `train/train.py` file where required.\n",
    "\n",
    "The way that SageMaker passes hyperparameters to the training script is by way of arguments. These arguments can then be parsed and used in the training script. To see how this is done take a look at the provided `train/train.py` file."
   ]
  },
  {
   "cell_type": "code",
   "execution_count": 70,
   "metadata": {},
   "outputs": [],
   "source": [
    "from sagemaker.pytorch import PyTorch\n",
    "\n",
    "estimator = PyTorch(entry_point=\"train.py\",\n",
    "                    source_dir=\"train\",\n",
    "                    role=role,\n",
    "                    framework_version='0.4.0',\n",
    "                    train_instance_count=1,\n",
    "                    train_instance_type='ml.p2.xlarge',\n",
    "                    hyperparameters={\n",
    "                        'epochs': 10,\n",
    "                        'hidden_dim': 200,\n",
    "                    })"
   ]
  },
  {
   "cell_type": "code",
   "execution_count": 71,
   "metadata": {},
   "outputs": [
    {
     "name": "stdout",
     "output_type": "stream",
     "text": [
      "2019-06-18 08:26:07 Starting - Starting the training job...\n",
      "2019-06-18 08:26:08 Starting - Launching requested ML instances......\n",
      "2019-06-18 08:27:14 Starting - Preparing the instances for training......\n",
      "2019-06-18 08:28:32 Downloading - Downloading input data...\n",
      "2019-06-18 08:29:05 Training - Downloading the training image...\n",
      "2019-06-18 08:29:31 Training - Training image download completed. Training in progress.\n",
      "\u001b[31mbash: cannot set terminal process group (-1): Inappropriate ioctl for device\u001b[0m\n",
      "\u001b[31mbash: no job control in this shell\u001b[0m\n",
      "\u001b[31m2019-06-18 08:29:31,696 sagemaker-containers INFO     Imported framework sagemaker_pytorch_container.training\u001b[0m\n",
      "\u001b[31m2019-06-18 08:29:31,719 sagemaker_pytorch_container.training INFO     Block until all host DNS lookups succeed.\u001b[0m\n",
      "\u001b[31m2019-06-18 08:29:34,727 sagemaker_pytorch_container.training INFO     Invoking user training script.\u001b[0m\n",
      "\u001b[31m2019-06-18 08:29:34,942 sagemaker-containers INFO     Module train does not provide a setup.py. \u001b[0m\n",
      "\u001b[31mGenerating setup.py\u001b[0m\n",
      "\u001b[31m2019-06-18 08:29:34,942 sagemaker-containers INFO     Generating setup.cfg\u001b[0m\n",
      "\u001b[31m2019-06-18 08:29:34,942 sagemaker-containers INFO     Generating MANIFEST.in\u001b[0m\n",
      "\u001b[31m2019-06-18 08:29:34,942 sagemaker-containers INFO     Installing module with the following command:\u001b[0m\n",
      "\u001b[31m/usr/bin/python -m pip install -U . -r requirements.txt\u001b[0m\n",
      "\u001b[31mProcessing /opt/ml/code\u001b[0m\n",
      "\u001b[31mCollecting pandas (from -r requirements.txt (line 1))\n",
      "  Downloading https://files.pythonhosted.org/packages/74/24/0cdbf8907e1e3bc5a8da03345c23cbed7044330bb8f73bb12e711a640a00/pandas-0.24.2-cp35-cp35m-manylinux1_x86_64.whl (10.0MB)\u001b[0m\n",
      "\u001b[31mCollecting numpy (from -r requirements.txt (line 2))\n",
      "  Downloading https://files.pythonhosted.org/packages/bb/ef/d5a21cbc094d3f4d5b5336494dbcc9550b70c766a8345513c7c24ed18418/numpy-1.16.4-cp35-cp35m-manylinux1_x86_64.whl (17.2MB)\u001b[0m\n",
      "\u001b[31mCollecting nltk (from -r requirements.txt (line 3))\n",
      "  Downloading https://files.pythonhosted.org/packages/8d/5d/825889810b85c303c8559a3fd74d451d80cf3585a851f2103e69576bf583/nltk-3.4.3.zip (1.4MB)\u001b[0m\n",
      "\u001b[31mCollecting beautifulsoup4 (from -r requirements.txt (line 4))\n",
      "  Downloading https://files.pythonhosted.org/packages/1d/5d/3260694a59df0ec52f8b4883f5d23b130bc237602a1411fa670eae12351e/beautifulsoup4-4.7.1-py3-none-any.whl (94kB)\u001b[0m\n",
      "\u001b[31mCollecting html5lib (from -r requirements.txt (line 5))\n",
      "  Downloading https://files.pythonhosted.org/packages/a5/62/bbd2be0e7943ec8504b517e62bab011b4946e1258842bc159e5dfde15b96/html5lib-1.0.1-py2.py3-none-any.whl (117kB)\u001b[0m\n",
      "\u001b[31mRequirement already satisfied, skipping upgrade: python-dateutil>=2.5.0 in /usr/local/lib/python3.5/dist-packages (from pandas->-r requirements.txt (line 1)) (2.7.5)\u001b[0m\n",
      "\u001b[31mCollecting pytz>=2011k (from pandas->-r requirements.txt (line 1))\u001b[0m\n",
      "\u001b[31m  Downloading https://files.pythonhosted.org/packages/3d/73/fe30c2daaaa0713420d0382b16fbb761409f532c56bdcc514bf7b6262bb6/pytz-2019.1-py2.py3-none-any.whl (510kB)\u001b[0m\n",
      "\u001b[31mRequirement already satisfied, skipping upgrade: six in /usr/local/lib/python3.5/dist-packages (from nltk->-r requirements.txt (line 3)) (1.11.0)\u001b[0m\n",
      "\u001b[31mCollecting soupsieve>=1.2 (from beautifulsoup4->-r requirements.txt (line 4))\n",
      "  Downloading https://files.pythonhosted.org/packages/b9/a5/7ea40d0f8676bde6e464a6435a48bc5db09b1a8f4f06d41dd997b8f3c616/soupsieve-1.9.1-py2.py3-none-any.whl\u001b[0m\n",
      "\u001b[31mCollecting webencodings (from html5lib->-r requirements.txt (line 5))\n",
      "  Downloading https://files.pythonhosted.org/packages/f4/24/2a3e3df732393fed8b3ebf2ec078f05546de641fe1b667ee316ec1dcf3b7/webencodings-0.5.1-py2.py3-none-any.whl\u001b[0m\n",
      "\u001b[31mBuilding wheels for collected packages: nltk, train\n",
      "  Running setup.py bdist_wheel for nltk: started\u001b[0m\n",
      "\u001b[31m  Running setup.py bdist_wheel for nltk: finished with status 'done'\n",
      "  Stored in directory: /root/.cache/pip/wheels/54/40/b7/c56ad418e6cd4d9e1e594b5e138d1ca6eec11a6ee3d464e5bb\n",
      "  Running setup.py bdist_wheel for train: started\n",
      "  Running setup.py bdist_wheel for train: finished with status 'done'\n",
      "  Stored in directory: /tmp/pip-ephem-wheel-cache-pqz4otdl/wheels/35/24/16/37574d11bf9bde50616c67372a334f94fa8356bc7164af8ca3\u001b[0m\n",
      "\u001b[31mSuccessfully built nltk train\u001b[0m\n",
      "\u001b[31mInstalling collected packages: numpy, pytz, pandas, nltk, soupsieve, beautifulsoup4, webencodings, html5lib, train\n",
      "  Found existing installation: numpy 1.15.4\n",
      "    Uninstalling numpy-1.15.4:\n",
      "      Successfully uninstalled numpy-1.15.4\u001b[0m\n",
      "\u001b[31mSuccessfully installed beautifulsoup4-4.7.1 html5lib-1.0.1 nltk-3.4.3 numpy-1.16.4 pandas-0.24.2 pytz-2019.1 soupsieve-1.9.1 train-1.0.0 webencodings-0.5.1\u001b[0m\n",
      "\u001b[31mYou are using pip version 18.1, however version 19.1.1 is available.\u001b[0m\n",
      "\u001b[31mYou should consider upgrading via the 'pip install --upgrade pip' command.\u001b[0m\n",
      "\u001b[31m2019-06-18 08:29:46,813 sagemaker-containers INFO     Invoking user script\n",
      "\u001b[0m\n",
      "\u001b[31mTraining Env:\n",
      "\u001b[0m\n",
      "\u001b[31m{\n",
      "    \"hyperparameters\": {\n",
      "        \"hidden_dim\": 200,\n",
      "        \"epochs\": 10\n",
      "    },\n",
      "    \"output_data_dir\": \"/opt/ml/output/data\",\n",
      "    \"module_dir\": \"s3://sagemaker-eu-west-1-435575098447/sagemaker-pytorch-2019-06-18-08-26-06-483/source/sourcedir.tar.gz\",\n",
      "    \"input_data_config\": {\n",
      "        \"training\": {\n",
      "            \"TrainingInputMode\": \"File\",\n",
      "            \"RecordWrapperType\": \"None\",\n",
      "            \"S3DistributionType\": \"FullyReplicated\"\n",
      "        }\n",
      "    },\n",
      "    \"additional_framework_parameters\": {},\n",
      "    \"input_config_dir\": \"/opt/ml/input/config\",\n",
      "    \"module_name\": \"train\",\n",
      "    \"output_intermediate_dir\": \"/opt/ml/output/intermediate\",\n",
      "    \"network_interface_name\": \"ethwe\",\n",
      "    \"channel_input_dirs\": {\n",
      "        \"training\": \"/opt/ml/input/data/training\"\n",
      "    },\n",
      "    \"hosts\": [\n",
      "        \"algo-1\"\n",
      "    ],\n",
      "    \"output_dir\": \"/opt/ml/output\",\n",
      "    \"resource_config\": {\n",
      "        \"network_interface_name\": \"ethwe\",\n",
      "        \"hosts\": [\n",
      "            \"algo-1\"\n",
      "        ],\n",
      "        \"current_host\": \"algo-1\"\n",
      "    },\n",
      "    \"input_dir\": \"/opt/ml/input\",\n",
      "    \"model_dir\": \"/opt/ml/model\",\n",
      "    \"log_level\": 20,\n",
      "    \"num_cpus\": 4,\n",
      "    \"current_host\": \"algo-1\",\n",
      "    \"user_entry_point\": \"train.py\",\n",
      "    \"framework_module\": \"sagemaker_pytorch_container.training:main\",\n",
      "    \"job_name\": \"sagemaker-pytorch-2019-06-18-08-26-06-483\",\n",
      "    \"num_gpus\": 1\u001b[0m\n",
      "\u001b[31m}\n",
      "\u001b[0m\n",
      "\u001b[31mEnvironment variables:\n",
      "\u001b[0m\n",
      "\u001b[31mSM_NUM_CPUS=4\u001b[0m\n",
      "\u001b[31mSM_INPUT_DIR=/opt/ml/input\u001b[0m\n",
      "\u001b[31mSM_OUTPUT_DATA_DIR=/opt/ml/output/data\u001b[0m\n",
      "\u001b[31mSM_MODULE_NAME=train\u001b[0m\n",
      "\u001b[31mSM_INPUT_CONFIG_DIR=/opt/ml/input/config\u001b[0m\n",
      "\u001b[31mSM_HP_EPOCHS=10\u001b[0m\n",
      "\u001b[31mSM_OUTPUT_INTERMEDIATE_DIR=/opt/ml/output/intermediate\u001b[0m\n",
      "\u001b[31mSM_CHANNEL_TRAINING=/opt/ml/input/data/training\u001b[0m\n",
      "\u001b[31mSM_HPS={\"epochs\":10,\"hidden_dim\":200}\u001b[0m\n",
      "\u001b[31mSM_FRAMEWORK_MODULE=sagemaker_pytorch_container.training:main\u001b[0m\n",
      "\u001b[31mSM_CHANNELS=[\"training\"]\u001b[0m\n",
      "\u001b[31mSM_MODULE_DIR=s3://sagemaker-eu-west-1-435575098447/sagemaker-pytorch-2019-06-18-08-26-06-483/source/sourcedir.tar.gz\u001b[0m\n",
      "\u001b[31mSM_NUM_GPUS=1\u001b[0m\n",
      "\u001b[31mSM_LOG_LEVEL=20\u001b[0m\n",
      "\u001b[31mPYTHONPATH=/usr/local/bin:/usr/lib/python35.zip:/usr/lib/python3.5:/usr/lib/python3.5/plat-x86_64-linux-gnu:/usr/lib/python3.5/lib-dynload:/usr/local/lib/python3.5/dist-packages:/usr/lib/python3/dist-packages\u001b[0m\n",
      "\u001b[31mSM_RESOURCE_CONFIG={\"current_host\":\"algo-1\",\"hosts\":[\"algo-1\"],\"network_interface_name\":\"ethwe\"}\u001b[0m\n",
      "\u001b[31mSM_HP_HIDDEN_DIM=200\u001b[0m\n",
      "\u001b[31mSM_HOSTS=[\"algo-1\"]\u001b[0m\n",
      "\u001b[31mSM_INPUT_DATA_CONFIG={\"training\":{\"RecordWrapperType\":\"None\",\"S3DistributionType\":\"FullyReplicated\",\"TrainingInputMode\":\"File\"}}\u001b[0m\n",
      "\u001b[31mSM_USER_ENTRY_POINT=train.py\u001b[0m\n",
      "\u001b[31mSM_MODEL_DIR=/opt/ml/model\u001b[0m\n",
      "\u001b[31mSM_CURRENT_HOST=algo-1\u001b[0m\n",
      "\u001b[31mSM_USER_ARGS=[\"--epochs\",\"10\",\"--hidden_dim\",\"200\"]\u001b[0m\n",
      "\u001b[31mSM_NETWORK_INTERFACE_NAME=ethwe\u001b[0m\n",
      "\u001b[31mSM_TRAINING_ENV={\"additional_framework_parameters\":{},\"channel_input_dirs\":{\"training\":\"/opt/ml/input/data/training\"},\"current_host\":\"algo-1\",\"framework_module\":\"sagemaker_pytorch_container.training:main\",\"hosts\":[\"algo-1\"],\"hyperparameters\":{\"epochs\":10,\"hidden_dim\":200},\"input_config_dir\":\"/opt/ml/input/config\",\"input_data_config\":{\"training\":{\"RecordWrapperType\":\"None\",\"S3DistributionType\":\"FullyReplicated\",\"TrainingInputMode\":\"File\"}},\"input_dir\":\"/opt/ml/input\",\"job_name\":\"sagemaker-pytorch-2019-06-18-08-26-06-483\",\"log_level\":20,\"model_dir\":\"/opt/ml/model\",\"module_dir\":\"s3://sagemaker-eu-west-1-435575098447/sagemaker-pytorch-2019-06-18-08-26-06-483/source/sourcedir.tar.gz\",\"module_name\":\"train\",\"network_interface_name\":\"ethwe\",\"num_cpus\":4,\"num_gpus\":1,\"output_data_dir\":\"/opt/ml/output/data\",\"output_dir\":\"/opt/ml/output\",\"output_intermediate_dir\":\"/opt/ml/output/intermediate\",\"resource_config\":{\"current_host\":\"algo-1\",\"hosts\":[\"algo-1\"],\"network_interface_name\":\"ethwe\"},\"user_entry_point\":\"train.py\"}\u001b[0m\n",
      "\u001b[31mSM_FRAMEWORK_PARAMS={}\u001b[0m\n",
      "\u001b[31mSM_OUTPUT_DIR=/opt/ml/output\n",
      "\u001b[0m\n",
      "\u001b[31mInvoking script with the following command:\n",
      "\u001b[0m\n",
      "\u001b[31m/usr/bin/python -m train --epochs 10 --hidden_dim 200\n",
      "\n",
      "\u001b[0m\n",
      "\u001b[31mUsing device cuda.\u001b[0m\n",
      "\u001b[31mGet train data loader.\u001b[0m\n"
     ]
    },
    {
     "name": "stdout",
     "output_type": "stream",
     "text": [
      "\u001b[31mModel loaded with embedding_dim 32, hidden_dim 200, vocab_size 5000.\u001b[0m\n",
      "\u001b[31mEpoch: 10, BCELoss: 0.2813030311039516\u001b[0m\n",
      "\u001b[31m2019-06-18 08:32:43,021 sagemaker-containers INFO     Reporting training SUCCESS\u001b[0m\n",
      "\n",
      "2019-06-18 08:32:49 Uploading - Uploading generated training model\n",
      "2019-06-18 08:32:49 Completed - Training job completed\n",
      "Billable seconds: 258\n"
     ]
    }
   ],
   "source": [
    "estimator.fit({'training': input_data})"
   ]
  },
  {
   "cell_type": "markdown",
   "metadata": {},
   "source": [
    "## Step 5: Testing the model\n",
    "\n",
    "As mentioned at the top of this notebook, we will be testing this model by first deploying it and then sending the testing data to the deployed endpoint. We will do this so that we can make sure that the deployed model is working correctly.\n",
    "\n",
    "## Step 6: Deploy the model for testing\n",
    "\n",
    "Now that we have trained our model, we would like to test it to see how it performs. Currently our model takes input of the form `review_length, review[500]` where `review[500]` is a sequence of `500` integers which describe the words present in the review, encoded using `word_dict`. Fortunately for us, SageMaker provides built-in inference code for models with simple inputs such as this.\n",
    "\n",
    "There is one thing that we need to provide, however, and that is a function which loads the saved model. This function must be called `model_fn()` and takes as its only parameter a path to the directory where the model artifacts are stored. This function must also be present in the python file which we specified as the entry point. In our case the model loading function has been provided and so no changes need to be made.\n",
    "\n",
    "**NOTE**: When the built-in inference code is run it must import the `model_fn()` method from the `train.py` file. This is why the training code is wrapped in a main guard ( ie, `if __name__ == '__main__':` )\n",
    "\n",
    "Since we don't need to change anything in the code that was uploaded during training, we can simply deploy the current model as-is.\n",
    "\n",
    "**NOTE:** When deploying a model you are asking SageMaker to launch an compute instance that will wait for data to be sent to it. As a result, this compute instance will continue to run until *you* shut it down. This is important to know since the cost of a deployed endpoint depends on how long it has been running for.\n",
    "\n",
    "In other words **If you are no longer using a deployed endpoint, shut it down!**\n",
    "\n",
    "**TODO:** Deploy the trained model."
   ]
  },
  {
   "cell_type": "code",
   "execution_count": 72,
   "metadata": {},
   "outputs": [
    {
     "name": "stdout",
     "output_type": "stream",
     "text": [
      "---------------------------------------------------------------------------------------------------!"
     ]
    }
   ],
   "source": [
    "predictor = estimator.deploy(initial_instance_count = 1, instance_type =\"ml.p2.xlarge\")"
   ]
  },
  {
   "cell_type": "markdown",
   "metadata": {},
   "source": [
    "## Step 7 - Use the model for testing\n",
    "\n",
    "Once deployed, we can read in the test data and send it off to our deployed model to get some results. Once we collect all of the results we can determine how accurate our model is."
   ]
  },
  {
   "cell_type": "code",
   "execution_count": 73,
   "metadata": {},
   "outputs": [],
   "source": [
    "test_X = pd.concat([pd.DataFrame(test_X_len), pd.DataFrame(test_X)], axis=1)"
   ]
  },
  {
   "cell_type": "code",
   "execution_count": 74,
   "metadata": {},
   "outputs": [],
   "source": [
    "# We split the data into chunks and send each chunk seperately, accumulating the results.\n",
    "\n",
    "def predict(data, rows=512):\n",
    "    split_array = np.array_split(data, int(data.shape[0] / float(rows) + 1))\n",
    "    predictions = np.array([])\n",
    "    for array in split_array:\n",
    "        predictions = np.append(predictions, predictor.predict(array))\n",
    "    \n",
    "    return predictions"
   ]
  },
  {
   "cell_type": "code",
   "execution_count": 75,
   "metadata": {},
   "outputs": [],
   "source": [
    "predictions = predict(test_X.values)\n",
    "predictions = [round(num) for num in predictions]"
   ]
  },
  {
   "cell_type": "code",
   "execution_count": 76,
   "metadata": {},
   "outputs": [
    {
     "data": {
      "text/plain": [
       "0.85192"
      ]
     },
     "execution_count": 76,
     "metadata": {},
     "output_type": "execute_result"
    }
   ],
   "source": [
    "from sklearn.metrics import accuracy_score\n",
    "accuracy_score(test_y, predictions)"
   ]
  },
  {
   "cell_type": "markdown",
   "metadata": {},
   "source": [
    "**Question:** How does this model compare to the XGBoost model you created earlier? Why might these two models perform differently on this dataset? Which do *you* think is better for sentiment analysis?"
   ]
  },
  {
   "cell_type": "markdown",
   "metadata": {},
   "source": [
    "**Answer:**\n",
    "XGBoost is slightly better and more accurate, but it is because our RNN model is not fully optimized. For example, hyperparameter tuning, model architecture, there are some room to improve since the model now in the simplest one."
   ]
  },
  {
   "cell_type": "markdown",
   "metadata": {},
   "source": [
    "### (TODO) More testing\n",
    "\n",
    "We now have a trained model which has been deployed and which we can send processed reviews to and which returns the predicted sentiment. However, ultimately we would like to be able to send our model an unprocessed review. That is, we would like to send the review itself as a string. For example, suppose we wish to send the following review to our model."
   ]
  },
  {
   "cell_type": "code",
   "execution_count": 77,
   "metadata": {},
   "outputs": [],
   "source": [
    "test_review = 'The simplest pleasures in life are the best, and this film is one of them. Combining a rather basic storyline of love and adventure this movie transcends the usual weekend fair with wit and unmitigated charm.'"
   ]
  },
  {
   "cell_type": "markdown",
   "metadata": {},
   "source": [
    "The question we now need to answer is, how do we send this review to our model?\n",
    "\n",
    "Recall in the first section of this notebook we did a bunch of data processing to the IMDb dataset. In particular, we did two specific things to the provided reviews.\n",
    " - Removed any html tags and stemmed the input\n",
    " - Encoded the review as a sequence of integers using `word_dict`\n",
    " \n",
    "In order process the review we will need to repeat these two steps.\n",
    "\n",
    "**TODO**: Using the `review_to_words` and `convert_and_pad` methods from section one, convert `test_review` into a numpy array `test_data` suitable to send to our model. Remember that our model expects input of the form `review_length, review[500]`."
   ]
  },
  {
   "cell_type": "code",
   "execution_count": 78,
   "metadata": {},
   "outputs": [
    {
     "name": "stdout",
     "output_type": "stream",
     "text": [
      "[array([   1, 1376,   50,   53,    3,    4,  878,  173,  392,  682,   29,\n",
      "        723,    2, 4412,  275, 2082, 1060,  760,    1,  581,    0,    0,\n",
      "          0,    0,    0,    0,    0,    0,    0,    0,    0,    0,    0,\n",
      "          0,    0,    0,    0,    0,    0,    0,    0,    0,    0,    0,\n",
      "          0,    0,    0,    0,    0,    0,    0,    0,    0,    0,    0,\n",
      "          0,    0,    0,    0,    0,    0,    0,    0,    0,    0,    0,\n",
      "          0,    0,    0,    0,    0,    0,    0,    0,    0,    0,    0,\n",
      "          0,    0,    0,    0,    0,    0,    0,    0,    0,    0,    0,\n",
      "          0,    0,    0,    0,    0,    0,    0,    0,    0,    0,    0,\n",
      "          0,    0,    0,    0,    0,    0,    0,    0,    0,    0,    0,\n",
      "          0,    0,    0,    0,    0,    0,    0,    0,    0,    0,    0,\n",
      "          0,    0,    0,    0,    0,    0,    0,    0,    0,    0,    0,\n",
      "          0,    0,    0,    0,    0,    0,    0,    0,    0,    0,    0,\n",
      "          0,    0,    0,    0,    0,    0,    0,    0,    0,    0,    0,\n",
      "          0,    0,    0,    0,    0,    0,    0,    0,    0,    0,    0,\n",
      "          0,    0,    0,    0,    0,    0,    0,    0,    0,    0,    0,\n",
      "          0,    0,    0,    0,    0,    0,    0,    0,    0,    0,    0,\n",
      "          0,    0,    0,    0,    0,    0,    0,    0,    0,    0,    0,\n",
      "          0,    0,    0,    0,    0,    0,    0,    0,    0,    0,    0,\n",
      "          0,    0,    0,    0,    0,    0,    0,    0,    0,    0,    0,\n",
      "          0,    0,    0,    0,    0,    0,    0,    0,    0,    0,    0,\n",
      "          0,    0,    0,    0,    0,    0,    0,    0,    0,    0,    0,\n",
      "          0,    0,    0,    0,    0,    0,    0,    0,    0,    0,    0,\n",
      "          0,    0,    0,    0,    0,    0,    0,    0,    0,    0,    0,\n",
      "          0,    0,    0,    0,    0,    0,    0,    0,    0,    0,    0,\n",
      "          0,    0,    0,    0,    0,    0,    0,    0,    0,    0,    0,\n",
      "          0,    0,    0,    0,    0,    0,    0,    0,    0,    0,    0,\n",
      "          0,    0,    0,    0,    0,    0,    0,    0,    0,    0,    0,\n",
      "          0,    0,    0,    0,    0,    0,    0,    0,    0,    0,    0,\n",
      "          0,    0,    0,    0,    0,    0,    0,    0,    0,    0,    0,\n",
      "          0,    0,    0,    0,    0,    0,    0,    0,    0,    0,    0,\n",
      "          0,    0,    0,    0,    0,    0,    0,    0,    0,    0,    0,\n",
      "          0,    0,    0,    0,    0,    0,    0,    0,    0,    0,    0,\n",
      "          0,    0,    0,    0,    0,    0,    0,    0,    0,    0,    0,\n",
      "          0,    0,    0,    0,    0,    0,    0,    0,    0,    0,    0,\n",
      "          0,    0,    0,    0,    0,    0,    0,    0,    0,    0,    0,\n",
      "          0,    0,    0,    0,    0,    0,    0,    0,    0,    0,    0,\n",
      "          0,    0,    0,    0,    0,    0,    0,    0,    0,    0,    0,\n",
      "          0,    0,    0,    0,    0,    0,    0,    0,    0,    0,    0,\n",
      "          0,    0,    0,    0,    0,    0,    0,    0,    0,    0,    0,\n",
      "          0,    0,    0,    0,    0,    0,    0,    0,    0,    0,    0,\n",
      "          0,    0,    0,    0,    0,    0,    0,    0,    0,    0,    0,\n",
      "          0,    0,    0,    0,    0,    0,    0,    0,    0,    0,    0,\n",
      "          0,    0,    0,    0,    0,    0,    0,    0,    0,    0,    0,\n",
      "          0,    0,    0,    0,    0,    0,    0,    0,    0,    0,    0,\n",
      "          0,    0,    0,    0,    0])]\n"
     ]
    }
   ],
   "source": [
    "# TODO: Convert test_review into a form usable by the model and save the results in test_data\n",
    "test_data_word = review_to_words(test_review)\n",
    "test_data = [np.array(convert_and_pad(word_dict, test_data_word)[0])]\n",
    "print(test_data)"
   ]
  },
  {
   "cell_type": "markdown",
   "metadata": {},
   "source": [
    "Now that we have processed the review, we can send the resulting array to our model to predict the sentiment of the review."
   ]
  },
  {
   "cell_type": "code",
   "execution_count": 79,
   "metadata": {},
   "outputs": [
    {
     "data": {
      "text/plain": [
       "array(0.6414104, dtype=float32)"
      ]
     },
     "execution_count": 79,
     "metadata": {},
     "output_type": "execute_result"
    }
   ],
   "source": [
    "predictor.predict(test_data)"
   ]
  },
  {
   "cell_type": "markdown",
   "metadata": {},
   "source": [
    "Since the return value of our model is close to `1`, we can be certain that the review we submitted is positive."
   ]
  },
  {
   "cell_type": "markdown",
   "metadata": {},
   "source": [
    "### Delete the endpoint\n",
    "\n",
    "Of course, just like in the XGBoost notebook, once we've deployed an endpoint it continues to run until we tell it to shut down. Since we are done using our endpoint for now, we can delete it."
   ]
  },
  {
   "cell_type": "code",
   "execution_count": 80,
   "metadata": {},
   "outputs": [],
   "source": [
    "estimator.delete_endpoint()"
   ]
  },
  {
   "cell_type": "markdown",
   "metadata": {},
   "source": [
    "## Step 6 (again) - Deploy the model for the web app\n",
    "\n",
    "Now that we know that our model is working, it's time to create some custom inference code so that we can send the model a review which has not been processed and have it determine the sentiment of the review.\n",
    "\n",
    "As we saw above, by default the estimator which we created, when deployed, will use the entry script and directory which we provided when creating the model. However, since we now wish to accept a string as input and our model expects a processed review, we need to write some custom inference code.\n",
    "\n",
    "We will store the code that we write in the `serve` directory. Provided in this directory is the `model.py` file that we used to construct our model, a `utils.py` file which contains the `review_to_words` and `convert_and_pad` pre-processing functions which we used during the initial data processing, and `predict.py`, the file which will contain our custom inference code. Note also that `requirements.txt` is present which will tell SageMaker what Python libraries are required by our custom inference code.\n",
    "\n",
    "When deploying a PyTorch model in SageMaker, you are expected to provide four functions which the SageMaker inference container will use.\n",
    " - `model_fn`: This function is the same function that we used in the training script and it tells SageMaker how to load our model.\n",
    " - `input_fn`: This function receives the raw serialized input that has been sent to the model's endpoint and its job is to de-serialize and make the input available for the inference code.\n",
    " - `output_fn`: This function takes the output of the inference code and its job is to serialize this output and return it to the caller of the model's endpoint.\n",
    " - `predict_fn`: The heart of the inference script, this is where the actual prediction is done and is the function which you will need to complete.\n",
    "\n",
    "For the simple website that we are constructing during this project, the `input_fn` and `output_fn` methods are relatively straightforward. We only require being able to accept a string as input and we expect to return a single value as output. You might imagine though that in a more complex application the input or output may be image data or some other binary data which would require some effort to serialize.\n",
    "\n",
    "### (TODO) Writing inference code\n",
    "\n",
    "Before writing our custom inference code, we will begin by taking a look at the code which has been provided."
   ]
  },
  {
   "cell_type": "code",
   "execution_count": 81,
   "metadata": {},
   "outputs": [
    {
     "name": "stdout",
     "output_type": "stream",
     "text": [
      "\u001b[34mimport\u001b[39;49;00m \u001b[04m\u001b[36margparse\u001b[39;49;00m\r\n",
      "\u001b[34mimport\u001b[39;49;00m \u001b[04m\u001b[36mjson\u001b[39;49;00m\r\n",
      "\u001b[34mimport\u001b[39;49;00m \u001b[04m\u001b[36mos\u001b[39;49;00m\r\n",
      "\u001b[34mimport\u001b[39;49;00m \u001b[04m\u001b[36mpickle\u001b[39;49;00m\r\n",
      "\u001b[34mimport\u001b[39;49;00m \u001b[04m\u001b[36msys\u001b[39;49;00m\r\n",
      "\u001b[34mimport\u001b[39;49;00m \u001b[04m\u001b[36msagemaker_containers\u001b[39;49;00m\r\n",
      "\u001b[34mimport\u001b[39;49;00m \u001b[04m\u001b[36mpandas\u001b[39;49;00m \u001b[34mas\u001b[39;49;00m \u001b[04m\u001b[36mpd\u001b[39;49;00m\r\n",
      "\u001b[34mimport\u001b[39;49;00m \u001b[04m\u001b[36mnumpy\u001b[39;49;00m \u001b[34mas\u001b[39;49;00m \u001b[04m\u001b[36mnp\u001b[39;49;00m\r\n",
      "\u001b[34mimport\u001b[39;49;00m \u001b[04m\u001b[36mtorch\u001b[39;49;00m\r\n",
      "\u001b[34mimport\u001b[39;49;00m \u001b[04m\u001b[36mtorch.nn\u001b[39;49;00m \u001b[34mas\u001b[39;49;00m \u001b[04m\u001b[36mnn\u001b[39;49;00m\r\n",
      "\u001b[34mimport\u001b[39;49;00m \u001b[04m\u001b[36mtorch.optim\u001b[39;49;00m \u001b[34mas\u001b[39;49;00m \u001b[04m\u001b[36moptim\u001b[39;49;00m\r\n",
      "\u001b[34mimport\u001b[39;49;00m \u001b[04m\u001b[36mtorch.utils.data\u001b[39;49;00m\r\n",
      "\r\n",
      "\u001b[34mfrom\u001b[39;49;00m \u001b[04m\u001b[36mmodel\u001b[39;49;00m \u001b[34mimport\u001b[39;49;00m LSTMClassifier\r\n",
      "\r\n",
      "\u001b[34mfrom\u001b[39;49;00m \u001b[04m\u001b[36mutils\u001b[39;49;00m \u001b[34mimport\u001b[39;49;00m review_to_words, convert_and_pad\r\n",
      "\r\n",
      "\u001b[34mdef\u001b[39;49;00m \u001b[32mmodel_fn\u001b[39;49;00m(model_dir):\r\n",
      "    \u001b[33m\"\"\"Load the PyTorch model from the `model_dir` directory.\"\"\"\u001b[39;49;00m\r\n",
      "    \u001b[34mprint\u001b[39;49;00m(\u001b[33m\"\u001b[39;49;00m\u001b[33mLoading model.\u001b[39;49;00m\u001b[33m\"\u001b[39;49;00m)\r\n",
      "\r\n",
      "    \u001b[37m# First, load the parameters used to create the model.\u001b[39;49;00m\r\n",
      "    model_info = {}\r\n",
      "    model_info_path = os.path.join(model_dir, \u001b[33m'\u001b[39;49;00m\u001b[33mmodel_info.pth\u001b[39;49;00m\u001b[33m'\u001b[39;49;00m)\r\n",
      "    \u001b[34mwith\u001b[39;49;00m \u001b[36mopen\u001b[39;49;00m(model_info_path, \u001b[33m'\u001b[39;49;00m\u001b[33mrb\u001b[39;49;00m\u001b[33m'\u001b[39;49;00m) \u001b[34mas\u001b[39;49;00m f:\r\n",
      "        model_info = torch.load(f)\r\n",
      "\r\n",
      "    \u001b[34mprint\u001b[39;49;00m(\u001b[33m\"\u001b[39;49;00m\u001b[33mmodel_info: {}\u001b[39;49;00m\u001b[33m\"\u001b[39;49;00m.format(model_info))\r\n",
      "\r\n",
      "    \u001b[37m# Determine the device and construct the model.\u001b[39;49;00m\r\n",
      "    device = torch.device(\u001b[33m\"\u001b[39;49;00m\u001b[33mcuda\u001b[39;49;00m\u001b[33m\"\u001b[39;49;00m \u001b[34mif\u001b[39;49;00m torch.cuda.is_available() \u001b[34melse\u001b[39;49;00m \u001b[33m\"\u001b[39;49;00m\u001b[33mcpu\u001b[39;49;00m\u001b[33m\"\u001b[39;49;00m)\r\n",
      "    model = LSTMClassifier(model_info[\u001b[33m'\u001b[39;49;00m\u001b[33membedding_dim\u001b[39;49;00m\u001b[33m'\u001b[39;49;00m], model_info[\u001b[33m'\u001b[39;49;00m\u001b[33mhidden_dim\u001b[39;49;00m\u001b[33m'\u001b[39;49;00m], model_info[\u001b[33m'\u001b[39;49;00m\u001b[33mvocab_size\u001b[39;49;00m\u001b[33m'\u001b[39;49;00m])\r\n",
      "\r\n",
      "    \u001b[37m# Load the store model parameters.\u001b[39;49;00m\r\n",
      "    model_path = os.path.join(model_dir, \u001b[33m'\u001b[39;49;00m\u001b[33mmodel.pth\u001b[39;49;00m\u001b[33m'\u001b[39;49;00m)\r\n",
      "    \u001b[34mwith\u001b[39;49;00m \u001b[36mopen\u001b[39;49;00m(model_path, \u001b[33m'\u001b[39;49;00m\u001b[33mrb\u001b[39;49;00m\u001b[33m'\u001b[39;49;00m) \u001b[34mas\u001b[39;49;00m f:\r\n",
      "        model.load_state_dict(torch.load(f))\r\n",
      "\r\n",
      "    \u001b[37m# Load the saved word_dict.\u001b[39;49;00m\r\n",
      "    word_dict_path = os.path.join(model_dir, \u001b[33m'\u001b[39;49;00m\u001b[33mword_dict.pkl\u001b[39;49;00m\u001b[33m'\u001b[39;49;00m)\r\n",
      "    \u001b[34mwith\u001b[39;49;00m \u001b[36mopen\u001b[39;49;00m(word_dict_path, \u001b[33m'\u001b[39;49;00m\u001b[33mrb\u001b[39;49;00m\u001b[33m'\u001b[39;49;00m) \u001b[34mas\u001b[39;49;00m f:\r\n",
      "        model.word_dict = pickle.load(f)\r\n",
      "\r\n",
      "    model.to(device).eval()\r\n",
      "\r\n",
      "    \u001b[34mprint\u001b[39;49;00m(\u001b[33m\"\u001b[39;49;00m\u001b[33mDone loading model.\u001b[39;49;00m\u001b[33m\"\u001b[39;49;00m)\r\n",
      "    \u001b[34mreturn\u001b[39;49;00m model\r\n",
      "\r\n",
      "\u001b[34mdef\u001b[39;49;00m \u001b[32minput_fn\u001b[39;49;00m(serialized_input_data, content_type):\r\n",
      "    \u001b[34mprint\u001b[39;49;00m(\u001b[33m'\u001b[39;49;00m\u001b[33mDeserializing the input data.\u001b[39;49;00m\u001b[33m'\u001b[39;49;00m)\r\n",
      "    \u001b[34mif\u001b[39;49;00m content_type == \u001b[33m'\u001b[39;49;00m\u001b[33mtext/plain\u001b[39;49;00m\u001b[33m'\u001b[39;49;00m:\r\n",
      "        data = serialized_input_data.decode(\u001b[33m'\u001b[39;49;00m\u001b[33mutf-8\u001b[39;49;00m\u001b[33m'\u001b[39;49;00m)\r\n",
      "        \u001b[34mreturn\u001b[39;49;00m data\r\n",
      "    \u001b[34mraise\u001b[39;49;00m \u001b[36mException\u001b[39;49;00m(\u001b[33m'\u001b[39;49;00m\u001b[33mRequested unsupported ContentType in content_type: \u001b[39;49;00m\u001b[33m'\u001b[39;49;00m + content_type)\r\n",
      "\r\n",
      "\u001b[34mdef\u001b[39;49;00m \u001b[32moutput_fn\u001b[39;49;00m(prediction_output, accept):\r\n",
      "    \u001b[34mprint\u001b[39;49;00m(\u001b[33m'\u001b[39;49;00m\u001b[33mSerializing the generated output.\u001b[39;49;00m\u001b[33m'\u001b[39;49;00m)\r\n",
      "    \u001b[34mreturn\u001b[39;49;00m \u001b[36mstr\u001b[39;49;00m(prediction_output)\r\n",
      "\r\n",
      "\u001b[34mdef\u001b[39;49;00m \u001b[32mpredict_fn\u001b[39;49;00m(input_data, model):\r\n",
      "    \u001b[34mprint\u001b[39;49;00m(\u001b[33m'\u001b[39;49;00m\u001b[33mInferring sentiment of input data.\u001b[39;49;00m\u001b[33m'\u001b[39;49;00m)\r\n",
      "\r\n",
      "    device = torch.device(\u001b[33m\"\u001b[39;49;00m\u001b[33mcuda\u001b[39;49;00m\u001b[33m\"\u001b[39;49;00m \u001b[34mif\u001b[39;49;00m torch.cuda.is_available() \u001b[34melse\u001b[39;49;00m \u001b[33m\"\u001b[39;49;00m\u001b[33mcpu\u001b[39;49;00m\u001b[33m\"\u001b[39;49;00m)\r\n",
      "    \r\n",
      "    \u001b[34mif\u001b[39;49;00m model.word_dict \u001b[35mis\u001b[39;49;00m \u001b[36mNone\u001b[39;49;00m:\r\n",
      "        \u001b[34mraise\u001b[39;49;00m \u001b[36mException\u001b[39;49;00m(\u001b[33m'\u001b[39;49;00m\u001b[33mModel has not been loaded properly, no word_dict.\u001b[39;49;00m\u001b[33m'\u001b[39;49;00m)\r\n",
      "    \r\n",
      "    \u001b[37m# TODO: Process input_data so that it is ready to be sent to our model.\u001b[39;49;00m\r\n",
      "    \u001b[37m#       You should produce two variables:\u001b[39;49;00m\r\n",
      "    \u001b[37m#         data_X   - A sequence of length 500 which represents the converted review\u001b[39;49;00m\r\n",
      "    \u001b[37m#         data_len - The length of the review\u001b[39;49;00m\r\n",
      "    \r\n",
      "    words = review_to_words(input_data)\r\n",
      "    data_X, data_len = convert_and_pad(model.word_dict, words)\r\n",
      "\r\n",
      "    \u001b[37m# Using data_X and data_len we construct an appropriate input tensor. Remember\u001b[39;49;00m\r\n",
      "    \u001b[37m# that our model expects input data of the form 'len, review[500]'.\u001b[39;49;00m\r\n",
      "    data_pack = np.hstack((data_len, data_X))\r\n",
      "    data_pack = data_pack.reshape(\u001b[34m1\u001b[39;49;00m, -\u001b[34m1\u001b[39;49;00m)\r\n",
      "    \r\n",
      "    data = torch.from_numpy(data_pack)\r\n",
      "    data = data.to(device)\r\n",
      "\r\n",
      "    \u001b[37m# Make sure to put the model into evaluation mode\u001b[39;49;00m\r\n",
      "    model.eval()\r\n",
      "\r\n",
      "    \u001b[37m# TODO: Compute the result of applying the model to the input data. The variable `result` should\u001b[39;49;00m\r\n",
      "    \u001b[37m#       be a numpy array which contains a single integer which is either 1 or 0\u001b[39;49;00m\r\n",
      "    \r\n",
      "    \u001b[34mwith\u001b[39;49;00m torch.no_grad():\r\n",
      "        output = model.forward(data)\r\n",
      "        \r\n",
      "    result = np.round(output.numpy())\r\n",
      "\r\n",
      "\r\n",
      "\r\n",
      "    \u001b[34mreturn\u001b[39;49;00m result\r\n"
     ]
    }
   ],
   "source": [
    "!pygmentize serve/predict.py"
   ]
  },
  {
   "cell_type": "markdown",
   "metadata": {},
   "source": [
    "As mentioned earlier, the `model_fn` method is the same as the one provided in the training code and the `input_fn` and `output_fn` methods are very simple and your task will be to complete the `predict_fn` method. Make sure that you save the completed file as `predict.py` in the `serve` directory.\n",
    "\n",
    "**TODO**: Complete the `predict_fn()` method in the `serve/predict.py` file."
   ]
  },
  {
   "cell_type": "markdown",
   "metadata": {},
   "source": [
    "### Deploying the model\n",
    "\n",
    "Now that the custom inference code has been written, we will create and deploy our model. To begin with, we need to construct a new PyTorchModel object which points to the model artifacts created during training and also points to the inference code that we wish to use. Then we can call the deploy method to launch the deployment container.\n",
    "\n",
    "**NOTE**: The default behaviour for a deployed PyTorch model is to assume that any input passed to the predictor is a `numpy` array. In our case we want to send a string so we need to construct a simple wrapper around the `RealTimePredictor` class to accomodate simple strings. In a more complicated situation you may want to provide a serialization object, for example if you wanted to sent image data."
   ]
  },
  {
   "cell_type": "code",
   "execution_count": 82,
   "metadata": {},
   "outputs": [
    {
     "name": "stdout",
     "output_type": "stream",
     "text": [
      "---------------------------------------------------------------------------------------!"
     ]
    }
   ],
   "source": [
    "from sagemaker.predictor import RealTimePredictor\n",
    "from sagemaker.pytorch import PyTorchModel\n",
    "\n",
    "class StringPredictor(RealTimePredictor):\n",
    "    def __init__(self, endpoint_name, sagemaker_session):\n",
    "        super(StringPredictor, self).__init__(endpoint_name, sagemaker_session, content_type='text/plain')\n",
    "\n",
    "model = PyTorchModel(model_data=estimator.model_data,\n",
    "                     role = role,\n",
    "                     framework_version='0.4.0',\n",
    "                     entry_point='predict.py',\n",
    "                     source_dir='serve',\n",
    "                     predictor_cls=StringPredictor)\n",
    "predictor = model.deploy(initial_instance_count=1, instance_type='ml.m4.xlarge')"
   ]
  },
  {
   "cell_type": "markdown",
   "metadata": {},
   "source": [
    "### Testing the model\n",
    "\n",
    "Now that we have deployed our model with the custom inference code, we should test to see if everything is working. Here we test our model by loading the first `250` positive and negative reviews and send them to the endpoint, then collect the results. The reason for only sending some of the data is that the amount of time it takes for our model to process the input and then perform inference is quite long and so testing the entire data set would be prohibitive."
   ]
  },
  {
   "cell_type": "code",
   "execution_count": 83,
   "metadata": {},
   "outputs": [],
   "source": [
    "import glob\n",
    "\n",
    "def test_reviews(data_dir='../data/aclImdb', stop=250):\n",
    "    \n",
    "    results = []\n",
    "    ground = []\n",
    "    \n",
    "    # We make sure to test both positive and negative reviews    \n",
    "    for sentiment in ['pos', 'neg']:\n",
    "        \n",
    "        path = os.path.join(data_dir, 'test', sentiment, '*.txt')\n",
    "        files = glob.glob(path)\n",
    "        \n",
    "        files_read = 0\n",
    "        \n",
    "        print('Starting ', sentiment, ' files')\n",
    "        \n",
    "        # Iterate through the files and send them to the predictor\n",
    "        for f in files:\n",
    "            with open(f) as review:\n",
    "                # First, we store the ground truth (was the review positive or negative)\n",
    "                if sentiment == 'pos':\n",
    "                    ground.append(1)\n",
    "                else:\n",
    "                    ground.append(0)\n",
    "                # Read in the review and convert to 'utf-8' for transmission via HTTP\n",
    "                review_input = review.read().encode('utf-8')\n",
    "                # Send the review to the predictor and store the results\n",
    "                results.append(float(predictor.predict(review_input)))\n",
    "                \n",
    "            # Sending reviews to our endpoint one at a time takes a while so we\n",
    "            # only send a small number of reviews\n",
    "            files_read += 1\n",
    "            if files_read == stop:\n",
    "                break\n",
    "            \n",
    "    return ground, results"
   ]
  },
  {
   "cell_type": "code",
   "execution_count": 84,
   "metadata": {},
   "outputs": [
    {
     "name": "stdout",
     "output_type": "stream",
     "text": [
      "Starting  pos  files\n",
      "Starting  neg  files\n"
     ]
    }
   ],
   "source": [
    "ground, results = test_reviews()"
   ]
  },
  {
   "cell_type": "code",
   "execution_count": 85,
   "metadata": {},
   "outputs": [
    {
     "data": {
      "text/plain": [
       "0.844"
      ]
     },
     "execution_count": 85,
     "metadata": {},
     "output_type": "execute_result"
    }
   ],
   "source": [
    "from sklearn.metrics import accuracy_score\n",
    "accuracy_score(ground, results)"
   ]
  },
  {
   "cell_type": "markdown",
   "metadata": {},
   "source": [
    "As an additional test, we can try sending the `test_review` that we looked at earlier."
   ]
  },
  {
   "cell_type": "code",
   "execution_count": 86,
   "metadata": {},
   "outputs": [
    {
     "data": {
      "text/plain": [
       "b'1.0'"
      ]
     },
     "execution_count": 86,
     "metadata": {},
     "output_type": "execute_result"
    }
   ],
   "source": [
    "predictor.predict(test_review)"
   ]
  },
  {
   "cell_type": "markdown",
   "metadata": {},
   "source": [
    "Now that we know our endpoint is working as expected, we can set up the web page that will interact with it. If you don't have time to finish the project now, make sure to skip down to the end of this notebook and shut down your endpoint. You can deploy it again when you come back."
   ]
  },
  {
   "cell_type": "markdown",
   "metadata": {},
   "source": [
    "## Step 7 (again): Use the model for the web app\n",
    "\n",
    "> **TODO:** This entire section and the next contain tasks for you to complete, mostly using the AWS console.\n",
    "\n",
    "So far we have been accessing our model endpoint by constructing a predictor object which uses the endpoint and then just using the predictor object to perform inference. What if we wanted to create a web app which accessed our model? The way things are set up currently makes that not possible since in order to access a SageMaker endpoint the app would first have to authenticate with AWS using an IAM role which included access to SageMaker endpoints. However, there is an easier way! We just need to use some additional AWS services.\n",
    "\n",
    "<img src=\"Web App Diagram.svg\">\n",
    "\n",
    "The diagram above gives an overview of how the various services will work together. On the far right is the model which we trained above and which is deployed using SageMaker. On the far left is our web app that collects a user's movie review, sends it off and expects a positive or negative sentiment in return.\n",
    "\n",
    "In the middle is where some of the magic happens. We will construct a Lambda function, which you can think of as a straightforward Python function that can be executed whenever a specified event occurs. We will give this function permission to send and recieve data from a SageMaker endpoint.\n",
    "\n",
    "Lastly, the method we will use to execute the Lambda function is a new endpoint that we will create using API Gateway. This endpoint will be a url that listens for data to be sent to it. Once it gets some data it will pass that data on to the Lambda function and then return whatever the Lambda function returns. Essentially it will act as an interface that lets our web app communicate with the Lambda function.\n",
    "\n",
    "### Setting up a Lambda function\n",
    "\n",
    "The first thing we are going to do is set up a Lambda function. This Lambda function will be executed whenever our public API has data sent to it. When it is executed it will receive the data, perform any sort of processing that is required, send the data (the review) to the SageMaker endpoint we've created and then return the result.\n",
    "\n",
    "#### Part A: Create an IAM Role for the Lambda function\n",
    "\n",
    "Since we want the Lambda function to call a SageMaker endpoint, we need to make sure that it has permission to do so. To do this, we will construct a role that we can later give the Lambda function.\n",
    "\n",
    "Using the AWS Console, navigate to the **IAM** page and click on **Roles**. Then, click on **Create role**. Make sure that the **AWS service** is the type of trusted entity selected and choose **Lambda** as the service that will use this role, then click **Next: Permissions**.\n",
    "\n",
    "In the search box type `sagemaker` and select the check box next to the **AmazonSageMakerFullAccess** policy. Then, click on **Next: Review**.\n",
    "\n",
    "Lastly, give this role a name. Make sure you use a name that you will remember later on, for example `LambdaSageMakerRole`. Then, click on **Create role**.\n",
    "\n",
    "#### Part B: Create a Lambda function\n",
    "\n",
    "Now it is time to actually create the Lambda function.\n",
    "\n",
    "Using the AWS Console, navigate to the AWS Lambda page and click on **Create a function**. When you get to the next page, make sure that **Author from scratch** is selected. Now, name your Lambda function, using a name that you will remember later on, for example `sentiment_analysis_func`. Make sure that the **Python 3.6** runtime is selected and then choose the role that you created in the previous part. Then, click on **Create Function**.\n",
    "\n",
    "On the next page you will see some information about the Lambda function you've just created. If you scroll down you should see an editor in which you can write the code that will be executed when your Lambda function is triggered. In our example, we will use the code below. \n",
    "\n",
    "```python\n",
    "# We need to use the low-level library to interact with SageMaker since the SageMaker API\n",
    "# is not available natively through Lambda.\n",
    "import boto3\n",
    "\n",
    "def lambda_handler(event, context):\n",
    "\n",
    "    # The SageMaker runtime is what allows us to invoke the endpoint that we've created.\n",
    "    runtime = boto3.Session().client('sagemaker-runtime')\n",
    "\n",
    "    # Now we use the SageMaker runtime to invoke our endpoint, sending the review we were given\n",
    "    response = runtime.invoke_endpoint(EndpointName = '**ENDPOINT NAME HERE**',    # The name of the endpoint we created\n",
    "                                       ContentType = 'text/plain',                 # The data format that is expected\n",
    "                                       Body = event['body'])                       # The actual review\n",
    "\n",
    "    # The response is an HTTP response whose body contains the result of our inference\n",
    "    result = response['Body'].read().decode('utf-8')\n",
    "\n",
    "    return {\n",
    "        'statusCode' : 200,\n",
    "        'headers' : { 'Content-Type' : 'text/plain', 'Access-Control-Allow-Origin' : '*' },\n",
    "        'body' : result\n",
    "    }\n",
    "```\n",
    "\n",
    "Once you have copy and pasted the code above into the Lambda code editor, replace the `**ENDPOINT NAME HERE**` portion with the name of the endpoint that we deployed earlier. You can determine the name of the endpoint using the code cell below."
   ]
  },
  {
   "cell_type": "code",
   "execution_count": 87,
   "metadata": {},
   "outputs": [
    {
     "data": {
      "text/plain": [
       "'sagemaker-pytorch-2019-06-18-08-41-57-071'"
      ]
     },
     "execution_count": 87,
     "metadata": {},
     "output_type": "execute_result"
    }
   ],
   "source": [
    "predictor.endpoint"
   ]
  },
  {
   "cell_type": "markdown",
   "metadata": {},
   "source": [
    "Once you have added the endpoint name to the Lambda function, click on **Save**. Your Lambda function is now up and running. Next we need to create a way for our web app to execute the Lambda function.\n",
    "\n",
    "### Setting up API Gateway\n",
    "\n",
    "Now that our Lambda function is set up, it is time to create a new API using API Gateway that will trigger the Lambda function we have just created.\n",
    "\n",
    "Using AWS Console, navigate to **Amazon API Gateway** and then click on **Get started**.\n",
    "\n",
    "On the next page, make sure that **New API** is selected and give the new api a name, for example, `sentiment_analysis_api`. Then, click on **Create API**.\n",
    "\n",
    "Now we have created an API, however it doesn't currently do anything. What we want it to do is to trigger the Lambda function that we created earlier.\n",
    "\n",
    "Select the **Actions** dropdown menu and click **Create Method**. A new blank method will be created, select its dropdown menu and select **POST**, then click on the check mark beside it.\n",
    "\n",
    "For the integration point, make sure that **Lambda Function** is selected and click on the **Use Lambda Proxy integration**. This option makes sure that the data that is sent to the API is then sent directly to the Lambda function with no processing. It also means that the return value must be a proper response object as it will also not be processed by API Gateway.\n",
    "\n",
    "Type the name of the Lambda function you created earlier into the **Lambda Function** text entry box and then click on **Save**. Click on **OK** in the pop-up box that then appears, giving permission to API Gateway to invoke the Lambda function you created.\n",
    "\n",
    "The last step in creating the API Gateway is to select the **Actions** dropdown and click on **Deploy API**. You will need to create a new Deployment stage and name it anything you like, for example `prod`.\n",
    "\n",
    "You have now successfully set up a public API to access your SageMaker model. Make sure to copy or write down the URL provided to invoke your newly created public API as this will be needed in the next step. This URL can be found at the top of the page, highlighted in blue next to the text **Invoke URL**."
   ]
  },
  {
   "cell_type": "markdown",
   "metadata": {},
   "source": [
    "## Step 4: Deploying our web app\n",
    "\n",
    "Now that we have a publicly available API, we can start using it in a web app. For our purposes, we have provided a simple static html file which can make use of the public api you created earlier.\n",
    "\n",
    "In the `website` folder there should be a file called `index.html`. Download the file to your computer and open that file up in a text editor of your choice. There should be a line which contains **\\*\\*REPLACE WITH PUBLIC API URL\\*\\***. Replace this string with the url that you wrote down in the last step and then save the file.\n",
    "\n",
    "Now, if you open `index.html` on your local computer, your browser will behave as a local web server and you can use the provided site to interact with your SageMaker model.\n",
    "\n",
    "If you'd like to go further, you can host this html file anywhere you'd like, for example using github or hosting a static site on Amazon's S3. Once you have done this you can share the link with anyone you'd like and have them play with it too!\n",
    "\n",
    "> **Important Note** In order for the web app to communicate with the SageMaker endpoint, the endpoint has to actually be deployed and running. This means that you are paying for it. Make sure that the endpoint is running when you want to use the web app but that you shut it down when you don't need it, otherwise you will end up with a surprisingly large AWS bill.\n",
    "\n",
    "**TODO:** Make sure that you include the edited `index.html` file in your project submission."
   ]
  },
  {
   "cell_type": "markdown",
   "metadata": {},
   "source": [
    "Now that your web app is working, trying playing around with it and see how well it works.\n",
    "\n",
    "**Question**: Give an example of a review that you entered into your web app. What was the predicted sentiment of your example review?"
   ]
  },
  {
   "cell_type": "markdown",
   "metadata": {},
   "source": [
    "**Answer:**"
   ]
  },
  {
   "cell_type": "markdown",
   "metadata": {},
   "source": [
    "### Delete the endpoint\n",
    "\n",
    "Remember to always shut down your endpoint if you are no longer using it. You are charged for the length of time that the endpoint is running so if you forget and leave it on you could end up with an unexpectedly large bill."
   ]
  },
  {
   "cell_type": "code",
   "execution_count": 68,
   "metadata": {},
   "outputs": [],
   "source": [
    "predictor.delete_endpoint()"
   ]
  },
  {
   "cell_type": "code",
   "execution_count": null,
   "metadata": {},
   "outputs": [],
   "source": []
  }
 ],
 "metadata": {
  "kernelspec": {
   "display_name": "conda_pytorch_p36",
   "language": "python",
   "name": "conda_pytorch_p36"
  },
  "language_info": {
   "codemirror_mode": {
    "name": "ipython",
    "version": 3
   },
   "file_extension": ".py",
   "mimetype": "text/x-python",
   "name": "python",
   "nbconvert_exporter": "python",
   "pygments_lexer": "ipython3",
   "version": "3.6.5"
  }
 },
 "nbformat": 4,
 "nbformat_minor": 2
}
